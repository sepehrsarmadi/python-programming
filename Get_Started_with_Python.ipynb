{
 "cells": [
  {
   "cell_type": "markdown",
   "metadata": {},
   "source": [
    "<p><a name=\"sections\"></a></p>\n",
    "\n",
    "\n",
    "# Sections\n",
    "\n",
    "- <a href=\"#simple\">Simple Values and Expressions</a><br>\n",
    "- <a href=\"#lambda\">Lambda Functions and Named Functions</a><br>\n",
    "- <a href=\"#list\">List</a><br>\n",
    "    - <a href=\"#funcOnList\">Defining Functions on Lists</a><br>\n",
    "    - <a href=\"#nList\">Nested Lists</a><br>\n",
    "- <a href=\"#funcOper\">Functional Operators</a><br>\n",
    "    - <a href=\"#map\">map</a><br>\n",
    "    - <a href=\"#bool\">Boolean Functions</a><br>\n",
    "    - <a href=\"#filter\">filter</a><br>\n",
    "- <a href=\"#quiz\">Quiz</a><br>\n",
    "\n",
    "<p><a name=\"simple\"></a></p>\n",
    "# Simple Values and Expressions\n",
    "\n",
    "** Expressions and Values**\n",
    "\n",
    "We demonstrate the simplest expression syntax: Operators +, -, * and / work just like in most other languages; parentheses can be used for grouping."
   ]
  },
  {
   "cell_type": "code",
   "execution_count": 1,
   "metadata": {},
   "outputs": [
    {
     "data": {
      "text/plain": [
       "7"
      ]
     },
     "execution_count": 1,
     "metadata": {},
     "output_type": "execute_result"
    }
   ],
   "source": [
    "# Comment in Python starts with the hash character, # , and extend to the end of the physical line\n",
    "\n",
    "1 + 2 * 3     # * has precedence over + "
   ]
  },
  {
   "cell_type": "code",
   "execution_count": 2,
   "metadata": {},
   "outputs": [
    {
     "data": {
      "text/plain": [
       "9"
      ]
     },
     "execution_count": 2,
     "metadata": {},
     "output_type": "execute_result"
    }
   ],
   "source": [
    "(1 + 2) * 3"
   ]
  },
  {
   "cell_type": "markdown",
   "metadata": {},
   "source": [
    "- iPython notebook shows only the last statement in each cell. To inspect all of them, we may use the `print` statement:"
   ]
  },
  {
   "cell_type": "code",
   "execution_count": 2,
   "metadata": {},
   "outputs": [
    {
     "name": "stdout",
     "output_type": "stream",
     "text": [
      "7\n",
      "9\n",
      "7\n"
     ]
    }
   ],
   "source": [
    "print (1 + 2 * 3)\n",
    "print ((1 + 2) * 3)\n",
    "print 1+2*3"
   ]
  },
  {
   "cell_type": "markdown",
   "metadata": {},
   "source": [
    "- Now try more examples and check the output:"
   ]
  },
  {
   "cell_type": "code",
   "execution_count": 7,
   "metadata": {},
   "outputs": [
    {
     "name": "stdout",
     "output_type": "stream",
     "text": [
      "5\n",
      "5.66666666667\n",
      "5.0\n",
      "2\n",
      "128\n"
     ]
    }
   ],
   "source": [
    "print 17 / 3     # int / int -> int\n",
    "print 17 / 3.0   # int / float -> float\n",
    "print 17 // 3.0  # explicit integer division \n",
    "print 17 % 3     # remainder\n",
    "print 2 ** 7     # 2 to the power of 7 (exponentiation)"
   ]
  },
  {
   "cell_type": "markdown",
   "metadata": {},
   "source": [
    "**Syntactic note**:  Python does not have any special terminating character , so you must enter everything on one line.  If the line is too long, you can split it up either by enclosing the expression in parens or by adding a \\ at the end:"
   ]
  },
  {
   "cell_type": "code",
   "execution_count": 11,
   "metadata": {},
   "outputs": [
    {
     "name": "stdout",
     "output_type": "stream",
     "text": [
      "295\n",
      "295\n",
      "295\n"
     ]
    }
   ],
   "source": [
    "print 8 * (7 + 6 * 5) + 4 / 3 ** 2 - 1\n",
    "\n",
    "print (8 * (7 + 6 * 5)    # use parentheses\n",
    "      + 4 / 3 ** 2 - 1)\n",
    "\n",
    "print 8 * (7 + 6 * 5) \\\n",
    "      + 4 / 3 ** 2 - 1       # use backslash : means I am going to continue on the next line\n"
   ]
  },
  {
   "cell_type": "markdown",
   "metadata": {},
   "source": [
    "- **Note**: `\\` must be the very last thing on the line (not even followed by spaces), and of course cannot be in a comment."
   ]
  },
  {
   "cell_type": "markdown",
   "metadata": {},
   "source": [
    "**Variables**\n",
    "\n",
    "Variables are used to give names to values.  This is to avoid having to re-type an expression, and so the computer doesn’t have to recompute it.  The equal sign \"`=`\" is used to assign a value to a variable."
   ]
  },
  {
   "cell_type": "code",
   "execution_count": 7,
   "metadata": {},
   "outputs": [],
   "source": [
    "tax = 12.5 / 100   # An “assignment statement”\n",
    "price = 100.50"
   ]
  },
  {
   "cell_type": "markdown",
   "metadata": {},
   "source": [
    "iPython notebook print nothing for assignments, as we see from above."
   ]
  },
  {
   "cell_type": "code",
   "execution_count": 11,
   "metadata": {},
   "outputs": [
    {
     "data": {
      "text/plain": [
       "12.5625"
      ]
     },
     "execution_count": 11,
     "metadata": {},
     "output_type": "execute_result"
    }
   ],
   "source": [
    "price * tax"
   ]
  },
  {
   "cell_type": "markdown",
   "metadata": {},
   "source": [
    "The **last printed expression** is assigned to _."
   ]
  },
  {
   "cell_type": "code",
   "execution_count": 12,
   "metadata": {},
   "outputs": [
    {
     "data": {
      "text/plain": [
       "113.0625"
      ]
     },
     "execution_count": 12,
     "metadata": {},
     "output_type": "execute_result"
    }
   ],
   "source": [
    "price + _        # _ = 12.5625"
   ]
  },
  {
   "cell_type": "markdown",
   "metadata": {},
   "source": [
    "**Calling functions**\n",
    "\n",
    "- The Python interpreter has a number of functions built into it:"
   ]
  },
  {
   "cell_type": "code",
   "execution_count": 15,
   "metadata": {},
   "outputs": [
    {
     "name": "stdout",
     "output_type": "stream",
     "text": [
      "5.0\n"
     ]
    }
   ],
   "source": [
    "print abs(-5.0)"
   ]
  },
  {
   "cell_type": "markdown",
   "metadata": {},
   "source": [
    "There is also a way to put definitions in a file that you can load and use. Such a file is called a **module**.\n",
    "\n",
    "- You use the functions in a module by importing the module and using its name plus the function’s name:"
   ]
  },
  {
   "cell_type": "code",
   "execution_count": 17,
   "metadata": {},
   "outputs": [
    {
     "data": {
      "text/plain": [
       "120"
      ]
     },
     "execution_count": 17,
     "metadata": {},
     "output_type": "execute_result"
    }
   ],
   "source": [
    "import math as m         # import the math module\n",
    "m.factorial(5)    # factorial of 5"
   ]
  },
  {
   "cell_type": "markdown",
   "metadata": {},
   "source": [
    "- Or, use a different import syntax and use the function name alone:"
   ]
  },
  {
   "cell_type": "code",
   "execution_count": null,
   "metadata": {},
   "outputs": [],
   "source": [
    "from math import *\n",
    "factorial(5)        # no module name"
   ]
  },
  {
   "cell_type": "code",
   "execution_count": 15,
   "metadata": {},
   "outputs": [
    {
     "name": "stdout",
     "output_type": "stream",
     "text": [
      "720\n"
     ]
    }
   ],
   "source": [
    "# we can also do this:\n",
    "from math import factorial\n",
    "print factorial(6)"
   ]
  },
  {
   "cell_type": "markdown",
   "metadata": {},
   "source": [
    "To find the function you need, you might need the **documentation**:\n",
    "\n",
    " - Built-in functions:  [https://docs.python.org/2/library/functions.html](https://docs.python.org/2/library/functions.html)\n",
    " - Math module:  [https://docs.python.org/2/library/math.html](https://docs.python.org/2/library/math.html)\n",
    " - Google is your friend!\n",
    " - And also the Tab key"
   ]
  },
  {
   "cell_type": "code",
   "execution_count": null,
   "metadata": {
    "collapsed": true
   },
   "outputs": [],
   "source": [
    "#### Try the Tab method with any module you like:"
   ]
  },
  {
   "cell_type": "markdown",
   "metadata": {},
   "source": [
    "**Naming convention**\n",
    "\n",
    "- Variable names in Python should start with letters, and can contain any number of letters, digits, and  _.\n",
    "\n",
    "- Python names are case sensitive.  This applies both to variable names and to function names imported from modules.\n",
    "\n",
    "- By convention, Python variables usually start with lower-case letters.  Variables should have descriptive names; for multi-word names, separate the words by underscores.\n",
    " - Good names:  first_index, random_nums\n",
    " - One-letter names are used in certain circumstances - e.g. i, j, k when used as indexes - but are otherwise frowned upon."
   ]
  },
  {
   "cell_type": "markdown",
   "metadata": {},
   "source": [
    "**Exercise 1**\n",
    "\n",
    "In the input panel, run Python commands:\n",
    "\n",
    "- Calculate 17 / 3\n",
    "- Calculate 17 / -3  and compare it with the previous result.\n",
    "- Calculate 5 to the power of 3.\n",
    "- Import the math module and find a function to calculate the square root (the function name starts with “s”) of the last expression using _.  Assign it to a variable (give it a name).\n",
    "- Calculate the square of that variable; does it differ from the result of the previous question?\n"
   ]
  },
  {
   "cell_type": "code",
   "execution_count": 20,
   "metadata": {},
   "outputs": [
    {
     "name": "stdout",
     "output_type": "stream",
     "text": [
      "5\n",
      "-6\n",
      "125\n",
      "11.1803398875\n"
     ]
    }
   ],
   "source": [
    "#### Your code here\n",
    "import math as m\n",
    "#1\n",
    "print 17/3\n",
    "\n",
    "#2\n",
    "print 17/(-3)\n",
    "print 5**3\n",
    "\n",
    "#3\n",
    "s=m.sqrt(5**3)\n",
    "print s"
   ]
  },
  {
   "cell_type": "markdown",
   "metadata": {},
   "source": [
    "<p><a name=\"lambda\"></a></p>\n",
    "# Lambda Functions and Named Functions\n",
    "\n",
    "**Defining Functions**\n",
    "\n",
    "- You have seen how to call functions.  Now we’ll see how to define them.\n",
    "- This function takes a number x and returns $x^2 + x^3$."
   ]
  },
  {
   "cell_type": "code",
   "execution_count": 22,
   "metadata": {},
   "outputs": [
    {
     "data": {
      "text/plain": [
       "80"
      ]
     },
     "execution_count": 22,
     "metadata": {},
     "output_type": "execute_result"
    }
   ],
   "source": [
    "def add_two_powers(x):\n",
    "    return x**2 + x**3\n",
    "\n",
    "add_two_powers(4)"
   ]
  },
  {
   "cell_type": "markdown",
   "metadata": {},
   "source": [
    "The keyword `def` introduces a function definition. It is followed by the function name and the parenthesized list of parameters. The statements in the body of the function start at the next line, and must be indented.\n",
    "\n",
    "Call the function in the usual way (after the function has been defined, whether in the same cell or a later cell):"
   ]
  },
  {
   "cell_type": "markdown",
   "metadata": {},
   "source": [
    "There is an alternative syntax for function definitions that will turn out to be handy.  It uses the `lambda` keyword. \n",
    "\n",
    "- Back to the previous problem, we could write:"
   ]
  },
  {
   "cell_type": "code",
   "execution_count": 23,
   "metadata": {},
   "outputs": [
    {
     "data": {
      "text/plain": [
       "80"
      ]
     },
     "execution_count": 23,
     "metadata": {},
     "output_type": "execute_result"
    }
   ],
   "source": [
    "Add_two_powers = lambda x: x**2 + x**3\n",
    "Add_two_powers(4)"
   ]
  },
  {
   "cell_type": "markdown",
   "metadata": {},
   "source": [
    "The two syntaxes for function definitions give the same result, but note the differences in syntax:\n",
    "\n",
    "```\n",
    "-------------------------\n",
    "def f(x):\n",
    "   return expression\n",
    "-------------------------   \n",
    "f = lambda x: expression\n",
    "-------------------------\n",
    "```\n",
    "\n"
   ]
  },
  {
   "cell_type": "markdown",
   "metadata": {},
   "source": [
    "- The first version begins with \"`def`” and has its argument in parentheses.  The second version looks like an assignment statement; it uses the keyword “`lambda`”, and the argument is not in parentheses.\n",
    "\n",
    "- The first version uses the keyword “`return`”; the second version doesn’t.\n",
    "\n",
    "To define a function with multiple arguments, just add more names to the variable list, separated by commas."
   ]
  },
  {
   "cell_type": "code",
   "execution_count": 28,
   "metadata": {},
   "outputs": [
    {
     "name": "stdout",
     "output_type": "stream",
     "text": [
      "13.0\n",
      "13.0\n"
     ]
    }
   ],
   "source": [
    "import math\n",
    "\n",
    "# def notation\n",
    "def vector_length(x, y):\n",
    "    return math.sqrt(x**2 + y**2)\n",
    "\n",
    "# lambda notation\n",
    "Vector_length = lambda x, y: math.sqrt(x**2 + y**2)\n",
    "\n",
    "print vector_length(5,12)\n",
    "print Vector_length(5,12)"
   ]
  },
  {
   "cell_type": "markdown",
   "metadata": {},
   "source": [
    "**Exercise 2**: Defining functions\n",
    "\n",
    "- Define a function that takes the radius of a circle as input and return the area. (Remember the area of a circle = $\\pi r^2$.) Define it with both syntaxes, def and lambda, calling them area and Area, respectively.\n",
    " - *Note*: You need to use `math.pi`, which is defined in the math module.\n",
    " \n",
    "- Calculate the area of a circle with radius 10 using both functions."
   ]
  },
  {
   "cell_type": "code",
   "execution_count": 30,
   "metadata": {},
   "outputs": [
    {
     "name": "stdout",
     "output_type": "stream",
     "text": [
      "314.159265359\n",
      "314.159265359\n"
     ]
    }
   ],
   "source": [
    "#### Your code here\n",
    "import math as m\n",
    "def area(r):\n",
    "    return m.pi*(r**2)\n",
    "\n",
    "\n",
    "Area = lambda r: m.pi*(r**2)\n",
    "\n",
    "print area(10)\n",
    "print Area(10)"
   ]
  },
  {
   "cell_type": "markdown",
   "metadata": {},
   "source": [
    "<p><a name=\"list\"></a></p>\n",
    "# List\n",
    "\n",
    "- The power of Python comes from having values other than numbers. The two other types of values we’ll use most often are lists and strings.\n",
    " - Lists are ordered collections of values. Examples:  `[1, 2, 3, 4],  [7.5, 9.0, 2]`\n",
    " - Strings are sequences of characters. Examples:  `'This class is about Python.'`  (Note that the space is considered a character.)\n",
    "\n",
    "- We will look at lists first, but we’ll use strings in our examples.  We’ll do more with strings next week. **Syntactic note**:  Strings can be written with either single or double quotes.\n",
    "\n",
    "- Lists can contain any types of values, including strings."
   ]
  },
  {
   "cell_type": "markdown",
   "metadata": {},
   "source": [
    "**List operations and functions**\n",
    "\n",
    "- You can manipulate lists in Python, meaning you can create new lists or get values out of lists.  We’ll spend some time going over the major list operations provided by Python.\n",
    "- As we’ve seen, you create a list by writing values in square brackets, separated by commas.\n",
    "  - Note that you can also have a list with no elements, written `[]`.  This list is astonishingly useful - kind of like the number zero.\n",
    "- Given two lists, use `+` to concatenate them:"
   ]
  },
  {
   "cell_type": "code",
   "execution_count": 24,
   "metadata": {},
   "outputs": [
    {
     "data": {
      "text/plain": [
       "[1, 4, 9, 16, 25, 'a', 'b', 'c', 'd']"
      ]
     },
     "execution_count": 24,
     "metadata": {},
     "output_type": "execute_result"
    }
   ],
   "source": [
    "squares = [1,4,9,16,25]\n",
    "alphabet = ['a','b','c','d']\n",
    "squares + alphabet"
   ]
  },
  {
   "cell_type": "markdown",
   "metadata": {},
   "source": [
    "Find the length of a list using the `len()` function:"
   ]
  },
  {
   "cell_type": "code",
   "execution_count": 25,
   "metadata": {},
   "outputs": [
    {
     "name": "stdout",
     "output_type": "stream",
     "text": [
      "5\n",
      "4\n",
      "9\n"
     ]
    }
   ],
   "source": [
    "print len(squares)\n",
    "print len(alphabet)\n",
    "print len(squares + alphabet)"
   ]
  },
  {
   "cell_type": "markdown",
   "metadata": {},
   "source": [
    "The function range gives a list of integers:"
   ]
  },
  {
   "cell_type": "code",
   "execution_count": 26,
   "metadata": {},
   "outputs": [
    {
     "name": "stdout",
     "output_type": "stream",
     "text": [
      "[0, 1, 2, 3, 4, 5, 6, 7, 8, 9]\n",
      "[10, 11, 12, 13, 14]\n",
      "[2, 4, 6, 8]\n",
      "[15, 14, 13, 12, 11]\n",
      "[15, 13, 11]\n"
     ]
    }
   ],
   "source": [
    "print range(10)       # 0 to 10 exclusive of 10 \n",
    "print range(10, 15)   # 10 to 15 exclusive of 15\n",
    "print range(2,10,2)\n",
    "print range(15, 10, -1)  \n",
    "print range(15,10,-2)"
   ]
  },
  {
   "cell_type": "markdown",
   "metadata": {},
   "source": [
    "To create a list just one longer than an existing list - i.e. add an element to the end of a list - use concatenation:"
   ]
  },
  {
   "cell_type": "code",
   "execution_count": 27,
   "metadata": {},
   "outputs": [
    {
     "data": {
      "text/plain": [
       "[1, 4, 9, 16, 25, 36]"
      ]
     },
     "execution_count": 27,
     "metadata": {},
     "output_type": "execute_result"
    }
   ],
   "source": [
    "squares + [36]   # this is a non-mutating operation"
   ]
  },
  {
   "cell_type": "markdown",
   "metadata": {},
   "source": [
    "**Note**:  This operation does not change squares.  That is, it does not “add 36 to squares,” but rather creates a new list that has the same elements as squares, plus one more."
   ]
  },
  {
   "cell_type": "code",
   "execution_count": 28,
   "metadata": {},
   "outputs": [
    {
     "data": {
      "text/plain": [
       "[1, 4, 9, 16, 25]"
      ]
     },
     "execution_count": 28,
     "metadata": {},
     "output_type": "execute_result"
    }
   ],
   "source": [
    "squares"
   ]
  },
  {
   "cell_type": "code",
   "execution_count": 29,
   "metadata": {},
   "outputs": [
    {
     "data": {
      "text/plain": [
       "[1, 4, 9, 16, 25, 36]"
      ]
     },
     "execution_count": 29,
     "metadata": {},
     "output_type": "execute_result"
    }
   ],
   "source": [
    "# if we wanted to change squares:\n",
    "\n",
    "squares = squares + [36]\n",
    "squares"
   ]
  },
  {
   "cell_type": "code",
   "execution_count": 30,
   "metadata": {},
   "outputs": [
    {
     "data": {
      "text/plain": [
       "[1, 4, 9, 16, 25, 36, 49]"
      ]
     },
     "execution_count": 30,
     "metadata": {},
     "output_type": "execute_result"
    }
   ],
   "source": [
    "# or we can do this:\n",
    "squares.append(49)\n",
    "squares"
   ]
  },
  {
   "cell_type": "markdown",
   "metadata": {},
   "source": [
    "There are several operations that apply to lists of numbers and perform operations on the entire list:\n",
    "- sum:  Take the sum of the numbers in a list\n",
    "- max, min:  Take the maximum or minimum of the numbers in a list.  (This can also apply to strings, using lexicographic order.)\n"
   ]
  },
  {
   "cell_type": "code",
   "execution_count": 40,
   "metadata": {},
   "outputs": [
    {
     "name": "stdout",
     "output_type": "stream",
     "text": [
      "176\n",
      "d\n"
     ]
    }
   ],
   "source": [
    "print sum(squares)\n",
    "print max(alphabet)"
   ]
  },
  {
   "cell_type": "markdown",
   "metadata": {},
   "source": [
    " - sorted:  Sorts a list"
   ]
  },
  {
   "cell_type": "code",
   "execution_count": 31,
   "metadata": {},
   "outputs": [
    {
     "data": {
      "text/plain": [
       "[2, 3, 4, 5, 6]"
      ]
     },
     "execution_count": 31,
     "metadata": {},
     "output_type": "execute_result"
    }
   ],
   "source": [
    "sorted([4, 3, 6, 2, 5])"
   ]
  },
  {
   "cell_type": "markdown",
   "metadata": {},
   "source": [
    "**Subscripting**\n",
    "\n",
    "Get a single element of a list by subscripting with a number. We number the elements from zero (which is pretty common for computer languages, but takes some getting used to). We can also subscript from the end by using negative numbers (-1 being the last element)."
   ]
  },
  {
   "cell_type": "code",
   "execution_count": 41,
   "metadata": {},
   "outputs": [
    {
     "name": "stdout",
     "output_type": "stream",
     "text": [
      "[1, 4, 9, 16, 25, 36, 49]\n",
      "16\n",
      "1\n",
      "49\n",
      "49\n"
     ]
    }
   ],
   "source": [
    "print squares\n",
    "print squares[3]\n",
    "print squares[0]\n",
    "print squares[-1]\n",
    "print squares[len(squares)-1]\n",
    "#print alphabet[6]   #Be careful about this one"
   ]
  },
  {
   "cell_type": "markdown",
   "metadata": {},
   "source": [
    "Subscripting can also be used to get more than one element of a list (called a “slice” of a list).  E.g. list[m:n] returns a list that has the mth through (n-1)th element of list (again, counting from zero)."
   ]
  },
  {
   "cell_type": "code",
   "execution_count": 42,
   "metadata": {},
   "outputs": [
    {
     "name": "stdout",
     "output_type": "stream",
     "text": [
      "[4, 9]\n",
      "['c', 'd']\n"
     ]
    }
   ],
   "source": [
    "print squares[1:3]\n",
    "print alphabet[2:]"
   ]
  },
  {
   "cell_type": "markdown",
   "metadata": {},
   "source": [
    "** Exercise 3** List operations\n",
    "\n",
    "- Define `x` to be the list `[1, 2, 3, 4, 3, 2, 1]`.  Do this by using range twice and concatenating the results.\n",
    "- Use subscripting to print both 2’s from x.\n",
    "- Define `y` to be `[1, 2, 3, 4, 5, 4, 3, 2, 1]`.  Do this by separating out the first four elements of `x` (using subscripting) and the last three elements of `x`, and concatenating these together with `[5, 4]` in between."
   ]
  },
  {
   "cell_type": "code",
   "execution_count": 54,
   "metadata": {},
   "outputs": [
    {
     "name": "stdout",
     "output_type": "stream",
     "text": [
      "[1, 2, 3, 4, 3, 2, 1]\n",
      "2\n",
      "2\n",
      "[1, 2, 3, 4, 5, 4, 3, 2, 1]\n"
     ]
    }
   ],
   "source": [
    "#### Your code here\n",
    "\n",
    "a= range(1,5)\n",
    "b = range(3,0,-1)\n",
    "x= a + b\n",
    "print x\n",
    "\n",
    "print x[1]\n",
    "print x[-2]\n",
    "\n",
    "c = x[:4]\n",
    "d = x[-3:]\n",
    "\n",
    "y = c + [5,4] + d\n",
    "print y\n"
   ]
  },
  {
   "cell_type": "markdown",
   "metadata": {},
   "source": [
    "<p><a name=\"funcOnList\"></a></p>\n",
    "## Defining Functions on Lists\n",
    "\n",
    "- Functions are defined on lists in exactly the same way as on numbers. (We continue defining every function in both syntaxes, just for practice.)\n",
    "- A function that returns the first element of a list:"
   ]
  },
  {
   "cell_type": "code",
   "execution_count": 15,
   "metadata": {},
   "outputs": [
    {
     "name": "stdout",
     "output_type": "stream",
     "text": [
      "1\n",
      "1\n"
     ]
    }
   ],
   "source": [
    "def firstelt(L):\n",
    "    return L[0]\n",
    "\n",
    "Firstelt = lambda L: L[0]\n",
    "\n",
    "print firstelt(squares)\n",
    "print Firstelt(squares)"
   ]
  },
  {
   "cell_type": "markdown",
   "metadata": {},
   "source": [
    "A function that takes a list `L` and a value `v`, and returns a list that is the same as `L` except that its first element is `v`."
   ]
  },
  {
   "cell_type": "code",
   "execution_count": 56,
   "metadata": {
    "scrolled": true
   },
   "outputs": [
    {
     "name": "stdout",
     "output_type": "stream",
     "text": [
      "[7, 4, 9, 16, 25, 36, 36, 49]\n",
      "[7, 4, 9, 16, 25, 36, 36, 49]\n"
     ]
    }
   ],
   "source": [
    "def replacefirst(L, v):\n",
    "    return [v] + L[1:]\n",
    "\n",
    "Replacefirst = lambda L, v:  [v] + L[1:]\n",
    "\n",
    "print replacefirst(squares, 7)\n",
    "print Replacefirst(squares, 7)\n",
    "\n",
    "#### What might give you problem in this function? > Ans: nothing, it always works"
   ]
  },
  {
   "cell_type": "code",
   "execution_count": 57,
   "metadata": {},
   "outputs": [
    {
     "data": {
      "text/plain": [
       "[5]"
      ]
     },
     "execution_count": 57,
     "metadata": {},
     "output_type": "execute_result"
    }
   ],
   "source": [
    "mylist = [3]\n",
    "replacefirst(mylist,5)"
   ]
  },
  {
   "cell_type": "markdown",
   "metadata": {},
   "source": [
    "A function that has an integer argument `n`, and returns a list containing `n`, `n+1`, and `n+2`:"
   ]
  },
  {
   "cell_type": "code",
   "execution_count": 18,
   "metadata": {
    "collapsed": true
   },
   "outputs": [],
   "source": [
    "def threevals(n):\n",
    "    return [n, n+1, n+2]\n",
    "\n",
    "Threevals = lambda n: [n, n+1, n+2]"
   ]
  },
  {
   "cell_type": "code",
   "execution_count": 59,
   "metadata": {},
   "outputs": [
    {
     "data": {
      "text/plain": [
       "[3, 4, 5]"
      ]
     },
     "execution_count": 59,
     "metadata": {},
     "output_type": "execute_result"
    }
   ],
   "source": [
    "threevals(3)"
   ]
  },
  {
   "cell_type": "markdown",
   "metadata": {},
   "source": [
    "A function that takes a list `L` and returns a list containing the first, third, and fifth elements of `L`."
   ]
  },
  {
   "cell_type": "code",
   "execution_count": 60,
   "metadata": {
    "collapsed": true
   },
   "outputs": [],
   "source": [
    "def list135(L):\n",
    "    return [L[0], L[2], L[4]]\n",
    "\n",
    "List135 = lambda L: [L[0], L[2], L[4]]"
   ]
  },
  {
   "cell_type": "code",
   "execution_count": 61,
   "metadata": {},
   "outputs": [
    {
     "data": {
      "text/plain": [
       "[1, 4, 8]"
      ]
     },
     "execution_count": 61,
     "metadata": {},
     "output_type": "execute_result"
    }
   ],
   "source": [
    "mylist = [1,3,4,-6,8,2]\n",
    "list135(mylist)"
   ]
  },
  {
   "cell_type": "markdown",
   "metadata": {},
   "source": [
    "**Exercise 4** List operations\n",
    "\n",
    "- Then define the following functions. Define them with both notations, changing the first letter of the name to a capital to distinguish them:\n",
    " - A function sum2 that returns the sum of the first two elements of a list.\n",
    "   ```\n",
    "   sum2([4, 7, 9, 12]) ---> 11\n",
    "   ```\n",
    " - A function that concatenates a list to itself.\n",
    "   ```\n",
    "   double_lis([4, 7, 9, 12])\n",
    "       ---> [4, 7, 9, 12, 4, 7, 9, 12]\n",
    "   ```"
   ]
  },
  {
   "cell_type": "code",
   "execution_count": 2,
   "metadata": {
    "collapsed": true
   },
   "outputs": [],
   "source": [
    "#### Your code here\n",
    "def sum2(L):\n",
    "    return L[0]+L[1]\n",
    "    \n",
    "    \n",
    "Sum2 = lambda L: L[0]+L[1]\n",
    "\n",
    "def double_lis(L):\n",
    "    return L+L\n",
    "\n",
    "Double_lis = lambda L: L+L"
   ]
  },
  {
   "cell_type": "code",
   "execution_count": 3,
   "metadata": {},
   "outputs": [
    {
     "name": "stdout",
     "output_type": "stream",
     "text": [
      "11\n",
      "[4, 7, 9, 12, 4, 7, 9, 12]\n"
     ]
    }
   ],
   "source": [
    "print sum2([4,7,9,12])\n",
    "print double_lis([4,7,9,12])"
   ]
  },
  {
   "cell_type": "markdown",
   "metadata": {},
   "source": [
    "<p><a name=\"nList\"></a></p>\n",
    "## Nested Lists\n",
    "\n",
    "- Lists can contain any type of values, including other lists.  This can be confusing, but the principle is the same as with any other elements.\n",
    "- The list `[v1, v2, …, vn]` has n elements.  The first is `v1`, the second is `v2`, etc.  This is true no matter what the types of the elements are:\n",
    "\n",
    " - `[1, 2, 3]` has three elements.  (Try `len([1,2,3])`.)\n",
    " - `[1, 2, [3, 4, 5]]` also has three elements.\n",
    " - `[1, [\"ab\", \"cd\"], [3, 4, 5]]` also has three elements.\n",
    " - `[[], [\"ab\", \"cd\"], [3, 4, 5]]` also has three elements.\n",
    "\n",
    "The operations we’ve seen above like “`+`”, `len()` and subscripting work the same on nested lists as on non-nested lists."
   ]
  },
  {
   "cell_type": "code",
   "execution_count": 43,
   "metadata": {},
   "outputs": [
    {
     "data": {
      "text/plain": [
       "4"
      ]
     },
     "execution_count": 43,
     "metadata": {},
     "output_type": "execute_result"
    }
   ],
   "source": [
    "x = [[], 1, ['ab', 'cd'], [3, 4, 5]]\n",
    "len(x)"
   ]
  },
  {
   "cell_type": "code",
   "execution_count": 5,
   "metadata": {},
   "outputs": [
    {
     "data": {
      "text/plain": [
       "2"
      ]
     },
     "execution_count": 5,
     "metadata": {},
     "output_type": "execute_result"
    }
   ],
   "source": [
    "y = [['q', 'r', 's'], 2]\n",
    "len(y)"
   ]
  },
  {
   "cell_type": "code",
   "execution_count": 44,
   "metadata": {},
   "outputs": [
    {
     "data": {
      "text/plain": [
       "['ab', 'cd']"
      ]
     },
     "execution_count": 44,
     "metadata": {},
     "output_type": "execute_result"
    }
   ],
   "source": [
    "x[2]"
   ]
  },
  {
   "cell_type": "code",
   "execution_count": 11,
   "metadata": {},
   "outputs": [
    {
     "name": "stdout",
     "output_type": "stream",
     "text": [
      "ab\n",
      "cd\n",
      "12\n",
      "12\n"
     ]
    }
   ],
   "source": [
    "print x[2][0]\n",
    "print x[2][1]\n",
    "print sum(x[3])\n",
    "print x[3][0]+x[3][1]+x[3][2]"
   ]
  },
  {
   "cell_type": "code",
   "execution_count": 8,
   "metadata": {},
   "outputs": [
    {
     "data": {
      "text/plain": [
       "[[], 1, ['ab', 'cd'], [3, 4, 5], ['q', 'r', 's'], 2]"
      ]
     },
     "execution_count": 8,
     "metadata": {},
     "output_type": "execute_result"
    }
   ],
   "source": [
    "x + y"
   ]
  },
  {
   "cell_type": "markdown",
   "metadata": {},
   "source": [
    "**Exercise 5** Nested lists\n",
    "\n",
    "- Write a function `firstfirst` (in both syntaxes) that takes a nested list as input and returns the first element of the first element.  (The first element must be a non-empty list).\n",
    "```\n",
    "y = [['q', 'r', 's'], 2]\n",
    "firstfirst(y) ---> 'q'\n",
    "```\n",
    "- Write a function `subscr2` that takes two arguments: a nested list and a list with two integers.  It uses those two integers as indexes into the nested list:\n",
    "```\n",
    "y = [['q', 'r', 's'], 2]\n",
    "subscr2(y, [0, 2]) ---> 's'\n",
    "```"
   ]
  },
  {
   "cell_type": "code",
   "execution_count": 15,
   "metadata": {},
   "outputs": [
    {
     "name": "stdout",
     "output_type": "stream",
     "text": [
      "q\n",
      "q\n"
     ]
    }
   ],
   "source": [
    "#### Your code here\n",
    "\n",
    "y = [['q', 'r', 's'], 2]\n",
    "\n",
    "#1\n",
    "def firstfirst(L):\n",
    "    return L[0][0]\n",
    "\n",
    "\n",
    "Firstfirst = lambda L: L[0][0]\n",
    "\n",
    "print firstfirst(y)\n",
    "print Firstfirst(y)"
   ]
  },
  {
   "cell_type": "code",
   "execution_count": 18,
   "metadata": {},
   "outputs": [
    {
     "name": "stdout",
     "output_type": "stream",
     "text": [
      "s\n",
      "s\n"
     ]
    }
   ],
   "source": [
    "#2\n",
    "def subscr2(L, indexes):\n",
    "    return L[indexes[0]][indexes[1]]\n",
    "    \n",
    "\n",
    "Subscr2 = lambda L, indexes: L[indexes[0]][indexes[1]]\n",
    "\n",
    "print subscr2(y, [0, 2])\n",
    "print Subscr2(y, [0, 2])"
   ]
  },
  {
   "cell_type": "markdown",
   "metadata": {},
   "source": [
    "<p><a name=\"funcOper\"></a></p>\n",
    "# Functional Operators\n",
    "\n",
    "### `map`\n",
    "\n",
    "- You will often want to apply a function to all elements of a list.\n",
    "- Suppose a list `L` has elements that are all numbers, and `f` is a function on numbers.  Then `map(f, L)` is the result of applying `f` to every element of `L`."
   ]
  },
  {
   "cell_type": "code",
   "execution_count": 50,
   "metadata": {},
   "outputs": [
    {
     "name": "stdout",
     "output_type": "stream",
     "text": [
      "[2, 8, 4, 10]\n",
      "[2, 8, 4, 10]\n"
     ]
    }
   ],
   "source": [
    "# use map to multiply every element of a list by 2\n",
    "\n",
    "L = [1,4,2,5]\n",
    "\n",
    "print map(lambda x: 2*x, L)\n",
    "\n",
    "def times_two(x):\n",
    "    return 2*x\n",
    "\n",
    "print map(times_two, L)\n",
    "    \n",
    "# they are both correct but lambda notation is more concise "
   ]
  },
  {
   "cell_type": "code",
   "execution_count": 56,
   "metadata": {},
   "outputs": [
    {
     "data": {
      "text/plain": [
       "[2.0, 3.0, 4.0]"
      ]
     },
     "execution_count": 56,
     "metadata": {},
     "output_type": "execute_result"
    }
   ],
   "source": [
    "import math as m\n",
    "\n",
    "L = [4, 9, 16]\n",
    "#math.sqrt(L)  # this is not going to work\n",
    "map(m.sqrt, L)"
   ]
  },
  {
   "cell_type": "code",
   "execution_count": 57,
   "metadata": {},
   "outputs": [
    {
     "data": {
      "text/plain": [
       "[2, 3, 4]"
      ]
     },
     "execution_count": 57,
     "metadata": {},
     "output_type": "execute_result"
    }
   ],
   "source": [
    "# what if I want round numbers?\n",
    "\n",
    "map(int, map(m.sqrt,L))"
   ]
  },
  {
   "cell_type": "code",
   "execution_count": 25,
   "metadata": {},
   "outputs": [
    {
     "data": {
      "text/plain": [
       "[16, 81, 256]"
      ]
     },
     "execution_count": 25,
     "metadata": {},
     "output_type": "execute_result"
    }
   ],
   "source": [
    "# another method using lambda which is very powerful and is used frequently\n",
    "# it's great because we can define the function on the fly\n",
    "\n",
    "map(lambda x: x**2, L)"
   ]
  },
  {
   "cell_type": "code",
   "execution_count": 22,
   "metadata": {},
   "outputs": [
    {
     "data": {
      "text/plain": [
       "[80, 810, 4352]"
      ]
     },
     "execution_count": 22,
     "metadata": {},
     "output_type": "execute_result"
    }
   ],
   "source": [
    "map(add_two_powers, L)"
   ]
  },
  {
   "cell_type": "markdown",
   "metadata": {},
   "source": [
    "You can apply any one-argument function, as long as the values in the list are of the type that function expects."
   ]
  },
  {
   "cell_type": "code",
   "execution_count": 16,
   "metadata": {},
   "outputs": [
    {
     "data": {
      "text/plain": [
       "[0, 2, 3]"
      ]
     },
     "execution_count": 16,
     "metadata": {},
     "output_type": "execute_result"
    }
   ],
   "source": [
    "nested_list1 = [[], [\"ab\", \"cd\"], [3, 4, 5]]\n",
    "map(len, nested_list1) #len applies to lists"
   ]
  },
  {
   "cell_type": "code",
   "execution_count": 19,
   "metadata": {},
   "outputs": [
    {
     "data": {
      "text/plain": [
       "[[1, 2, 3], [10, 11, 12], [20, 21, 22]]"
      ]
     },
     "execution_count": 19,
     "metadata": {},
     "output_type": "execute_result"
    }
   ],
   "source": [
    "map(threevals, [1, 10, 20]) # three_vals applies to numbers"
   ]
  },
  {
   "cell_type": "code",
   "execution_count": 20,
   "metadata": {},
   "outputs": [
    {
     "ename": "IndexError",
     "evalue": "list index out of range",
     "output_type": "error",
     "traceback": [
      "\u001b[0;31m---------------------------------------------------------------------------\u001b[0m",
      "\u001b[0;31mIndexError\u001b[0m                                Traceback (most recent call last)",
      "\u001b[0;32m<ipython-input-20-e92368e2136c>\u001b[0m in \u001b[0;36m<module>\u001b[0;34m()\u001b[0m\n\u001b[1;32m      1\u001b[0m \u001b[1;31m# firstelt applies to lists that are of non-zero length\u001b[0m\u001b[1;33m\u001b[0m\u001b[1;33m\u001b[0m\u001b[0m\n\u001b[0;32m----> 2\u001b[0;31m \u001b[0mmap\u001b[0m\u001b[1;33m(\u001b[0m\u001b[0mfirstelt\u001b[0m\u001b[1;33m,\u001b[0m \u001b[0mnested_list1\u001b[0m\u001b[1;33m)\u001b[0m\u001b[1;33m\u001b[0m\u001b[0m\n\u001b[0m",
      "\u001b[0;32m<ipython-input-15-7df41d4873cc>\u001b[0m in \u001b[0;36mfirstelt\u001b[0;34m(L)\u001b[0m\n\u001b[1;32m      1\u001b[0m \u001b[1;32mdef\u001b[0m \u001b[0mfirstelt\u001b[0m\u001b[1;33m(\u001b[0m\u001b[0mL\u001b[0m\u001b[1;33m)\u001b[0m\u001b[1;33m:\u001b[0m\u001b[1;33m\u001b[0m\u001b[0m\n\u001b[0;32m----> 2\u001b[0;31m     \u001b[1;32mreturn\u001b[0m \u001b[0mL\u001b[0m\u001b[1;33m[\u001b[0m\u001b[1;36m0\u001b[0m\u001b[1;33m]\u001b[0m\u001b[1;33m\u001b[0m\u001b[0m\n\u001b[0m\u001b[1;32m      3\u001b[0m \u001b[1;33m\u001b[0m\u001b[0m\n\u001b[1;32m      4\u001b[0m \u001b[0mFirstelt\u001b[0m \u001b[1;33m=\u001b[0m \u001b[1;32mlambda\u001b[0m \u001b[0mL\u001b[0m\u001b[1;33m:\u001b[0m \u001b[0mL\u001b[0m\u001b[1;33m[\u001b[0m\u001b[1;36m0\u001b[0m\u001b[1;33m]\u001b[0m\u001b[1;33m\u001b[0m\u001b[0m\n\u001b[1;32m      5\u001b[0m \u001b[1;33m\u001b[0m\u001b[0m\n",
      "\u001b[0;31mIndexError\u001b[0m: list index out of range"
     ]
    }
   ],
   "source": [
    "# firstelt applies to lists that are of non-zero length\n",
    "map(firstelt, nested_list1)"
   ]
  },
  {
   "cell_type": "code",
   "execution_count": 34,
   "metadata": {},
   "outputs": [
    {
     "data": {
      "text/plain": [
       "['ab', 3]"
      ]
     },
     "execution_count": 34,
     "metadata": {},
     "output_type": "execute_result"
    }
   ],
   "source": [
    "map(firstelt, nested_list1[1:])"
   ]
  },
  {
   "cell_type": "markdown",
   "metadata": {},
   "source": [
    "Functions can use `map` just as they can use any other function."
   ]
  },
  {
   "cell_type": "code",
   "execution_count": 35,
   "metadata": {},
   "outputs": [
    {
     "name": "stdout",
     "output_type": "stream",
     "text": [
      "[0, 2, 3]\n",
      "[0, 2, 3]\n"
     ]
    }
   ],
   "source": [
    "def get_lengths(L):\n",
    "    return map(len, L)\n",
    "\n",
    "Get_lengths = lambda L: map(len, L)\n",
    "\n",
    "print get_lengths(nested_list1)\n",
    "print Get_lengths(nested_list1)"
   ]
  },
  {
   "cell_type": "code",
   "execution_count": 60,
   "metadata": {},
   "outputs": [
    {
     "ename": "NameError",
     "evalue": "name 'nested_list1' is not defined",
     "output_type": "error",
     "traceback": [
      "\u001b[1;31m---------------------------------------------------------------------------\u001b[0m",
      "\u001b[1;31mNameError\u001b[0m                                 Traceback (most recent call last)",
      "\u001b[1;32m<ipython-input-60-a58c106e9a39>\u001b[0m in \u001b[0;36m<module>\u001b[1;34m()\u001b[0m\n\u001b[0;32m      4\u001b[0m \u001b[0mGet_first_elements\u001b[0m \u001b[1;33m=\u001b[0m \u001b[1;32mlambda\u001b[0m \u001b[0mL\u001b[0m\u001b[1;33m:\u001b[0m \u001b[0mmap\u001b[0m\u001b[1;33m(\u001b[0m\u001b[0mfirstelt\u001b[0m\u001b[1;33m,\u001b[0m \u001b[0mL\u001b[0m\u001b[1;33m)\u001b[0m\u001b[1;33m\u001b[0m\u001b[0m\n\u001b[0;32m      5\u001b[0m \u001b[1;33m\u001b[0m\u001b[0m\n\u001b[1;32m----> 6\u001b[1;33m \u001b[1;32mprint\u001b[0m \u001b[0mget_first_elements\u001b[0m\u001b[1;33m(\u001b[0m\u001b[0mnested_list1\u001b[0m\u001b[1;33m[\u001b[0m\u001b[1;36m1\u001b[0m\u001b[1;33m:\u001b[0m\u001b[1;33m]\u001b[0m\u001b[1;33m)\u001b[0m\u001b[1;33m\u001b[0m\u001b[0m\n\u001b[0m\u001b[0;32m      7\u001b[0m \u001b[1;32mprint\u001b[0m \u001b[0mGet_first_elements\u001b[0m\u001b[1;33m(\u001b[0m\u001b[0mnested_list1\u001b[0m\u001b[1;33m[\u001b[0m\u001b[1;36m1\u001b[0m\u001b[1;33m:\u001b[0m\u001b[1;33m]\u001b[0m\u001b[1;33m)\u001b[0m\u001b[1;33m\u001b[0m\u001b[0m\n",
      "\u001b[1;31mNameError\u001b[0m: name 'nested_list1' is not defined"
     ]
    }
   ],
   "source": [
    "def get_first_elements(L):\n",
    "    return map(firstelt, L)\n",
    "\n",
    "Get_first_elements = lambda L: map(firstelt, L)\n",
    "\n",
    "print get_first_elements(nested_list1[1:])\n",
    "print Get_first_elements(nested_list1[1:])"
   ]
  },
  {
   "cell_type": "code",
   "execution_count": 59,
   "metadata": {},
   "outputs": [
    {
     "name": "stdout",
     "output_type": "stream",
     "text": [
      "[1, -5, 'a']\n",
      "[1, -5, 'a']\n"
     ]
    }
   ],
   "source": [
    "L=[[1,2,3,4],[-5,3,7,8],['a','b','d']]\n",
    "\n",
    "def first_elt(X):\n",
    "    return X[0]\n",
    "\n",
    "print map(first_elt,L)\n",
    "\n",
    "print map(lambda L:L[0], L)"
   ]
  },
  {
   "cell_type": "markdown",
   "metadata": {},
   "source": [
    "** Exercise 6**   `map`\n",
    "\n",
    "- `square_all` squares every element of a numeric list.  (Define `sqr` to square a number, and map it over the list.)\n",
    "```\n",
    "squaree_all([1, 2, 3]) ---> [1, 4, 9]\n",
    "```\n",
    "- `get_second` gets the second element of every list in a nested list. (Define snd to get the second element of a list, and map it.)\n",
    "```\n",
    "get_second([[1, 2, 3], [4, 5], [6, 7, 8]]) ---> [2, 5, 7]\n",
    "```\n",
    "- `tot_length` finds the total length of the lists in a nested list.\n",
    "```\n",
    "tot_length([[1, 2, 3], [4, 5], [6, 7, 8]]) ---> 8\n",
    "```"
   ]
  },
  {
   "cell_type": "code",
   "execution_count": 37,
   "metadata": {},
   "outputs": [
    {
     "name": "stdout",
     "output_type": "stream",
     "text": [
      "[1, 4, 9]\n",
      "[1, 4, 9]\n"
     ]
    }
   ],
   "source": [
    "#### Your code here\n",
    "\n",
    "#1\n",
    "def sqr(x):\n",
    "    return x**2\n",
    "    \n",
    "\n",
    "def square_all(L):\n",
    "    return map(sqr,L)\n",
    "\n",
    "print square_all([1,2,3])\n",
    "\n",
    "Square_all = lambda L: map(sqr,L)\n",
    "\n",
    "print Square_all([1,2,3])"
   ]
  },
  {
   "cell_type": "code",
   "execution_count": 39,
   "metadata": {},
   "outputs": [
    {
     "name": "stdout",
     "output_type": "stream",
     "text": [
      "[2, 5, 7]\n",
      "[2, 5, 7]\n"
     ]
    }
   ],
   "source": [
    "#get_second([[1, 2, 3], [4, 5], [6, 7, 8]]) ---> [2, 5, 7]\n",
    "\n",
    "#2\n",
    "snd = lambda x: x[1] \n",
    "\n",
    "def get_second(L):\n",
    "    return map(snd,L)\n",
    "\n",
    "print get_second([[1, 2, 3], [4, 5], [6, 7, 8]])\n",
    "\n",
    "    \n",
    "Get_second = lambda L: map(snd,L)\n",
    "\n",
    "print Get_second([[1, 2, 3], [4, 5], [6, 7, 8]])"
   ]
  },
  {
   "cell_type": "code",
   "execution_count": 48,
   "metadata": {},
   "outputs": [
    {
     "name": "stdout",
     "output_type": "stream",
     "text": [
      "8\n",
      "8\n",
      "8\n"
     ]
    }
   ],
   "source": [
    "#tot_length([[1, 2, 3], [4, 5], [6, 7, 8]]) ---> 8\n",
    "#3\n",
    "\n",
    "# first method:\n",
    "L=[[1, 2, 3], [4, 5], [6, 7, 8]]\n",
    "print sum(map(len,L)) \n",
    "\n",
    "# now let's do it using function\n",
    "def tot_length(L):\n",
    "    return map(len,L)\n",
    "    \n",
    "print sum(tot_length(L))   \n",
    "    \n",
    "Tot_length = lambda L: map(len,L)\n",
    "\n",
    "print sum(Tot_length(L))"
   ]
  },
  {
   "cell_type": "markdown",
   "metadata": {
    "collapsed": true
   },
   "source": [
    "<p><a name=\"bool\"></a></p>\n",
    "## Boolean Functions\n",
    "\n",
    "- Boolean functions return one of the truth values `True` or `False`.\n",
    "- There are built-in operators and functions that return booleans:\n",
    " - Arithmetic comparison operators: `==`, `!=`, ...\n",
    "- Conditions can be combined using `and`, `or`, and `not`:"
   ]
  },
  {
   "cell_type": "code",
   "execution_count": 49,
   "metadata": {},
   "outputs": [
    {
     "data": {
      "text/plain": [
       "bool"
      ]
     },
     "execution_count": 49,
     "metadata": {},
     "output_type": "execute_result"
    }
   ],
   "source": [
    "type(True)"
   ]
  },
  {
   "cell_type": "code",
   "execution_count": 55,
   "metadata": {},
   "outputs": [
    {
     "name": "stdout",
     "output_type": "stream",
     "text": [
      "False\n",
      "True\n",
      "True\n",
      "False\n",
      "True\n"
     ]
    }
   ],
   "source": [
    "print 5 > 6\n",
    "print 6==6\n",
    "print 7!=5\n",
    "print not(5<7)\n",
    "print (3>9 or 3==3)"
   ]
  },
  {
   "cell_type": "code",
   "execution_count": 50,
   "metadata": {},
   "outputs": [
    {
     "data": {
      "text/plain": [
       "True"
      ]
     },
     "execution_count": 50,
     "metadata": {},
     "output_type": "execute_result"
    }
   ],
   "source": [
    "x = 6\n",
    "x > 5 and x < 7"
   ]
  },
  {
   "cell_type": "code",
   "execution_count": 56,
   "metadata": {},
   "outputs": [
    {
     "data": {
      "text/plain": [
       "True"
      ]
     },
     "execution_count": 56,
     "metadata": {},
     "output_type": "execute_result"
    }
   ],
   "source": [
    "x != -1 or x >= 10"
   ]
  },
  {
   "cell_type": "markdown",
   "metadata": {},
   "source": [
    "Defining boolean functions is no different from defining any other kind of functions."
   ]
  },
  {
   "cell_type": "code",
   "execution_count": 61,
   "metadata": {},
   "outputs": [
    {
     "name": "stdout",
     "output_type": "stream",
     "text": [
      "True\n",
      "False\n"
     ]
    }
   ],
   "source": [
    "# Test whether a list is empty\n",
    "def is_empty(L):\n",
    "    return L == []\n",
    "\n",
    "Is_empty = lambda L: L == []\n",
    "\n",
    "print is_empty([])\n",
    "print Is_empty([1,2])"
   ]
  },
  {
   "cell_type": "code",
   "execution_count": 59,
   "metadata": {},
   "outputs": [
    {
     "data": {
      "text/plain": [
       "True"
      ]
     },
     "execution_count": 59,
     "metadata": {},
     "output_type": "execute_result"
    }
   ],
   "source": [
    "# a second method:\n",
    "\n",
    "def is_empty2(L):\n",
    "    return len(L)==0\n",
    "\n",
    "is_empty2([])"
   ]
  },
  {
   "cell_type": "code",
   "execution_count": null,
   "metadata": {},
   "outputs": [],
   "source": [
    "print Is_empty(squares)\n",
    "print is_empty(squares)"
   ]
  },
  {
   "cell_type": "code",
   "execution_count": 60,
   "metadata": {},
   "outputs": [
    {
     "name": "stdout",
     "output_type": "stream",
     "text": [
      "True\n",
      "True\n"
     ]
    }
   ],
   "source": [
    "# Test if the first two elements of a list are the same\n",
    "def same_start(L):\n",
    "    return L[0] == L[1]\n",
    "\n",
    "Same_start = lambda L: L[0] == L[1]\n",
    "\n",
    "print same_start([1,1,2])\n",
    "print Same_start([1,1,2])"
   ]
  },
  {
   "cell_type": "code",
   "execution_count": 61,
   "metadata": {},
   "outputs": [
    {
     "name": "stdout",
     "output_type": "stream",
     "text": [
      "False\n",
      "False\n"
     ]
    }
   ],
   "source": [
    "print same_start([1,2,2])\n",
    "print Same_start([1,2,2])"
   ]
  },
  {
   "cell_type": "markdown",
   "metadata": {},
   "source": [
    "<p><a name=\"filter\"></a></p>\n",
    "## `filter`\n",
    "\n",
    "Filter is used to find elements of a list that satisfy some condition. The condition is given in the form of a boolean function."
   ]
  },
  {
   "cell_type": "code",
   "execution_count": 62,
   "metadata": {},
   "outputs": [
    {
     "data": {
      "text/plain": [
       "True"
      ]
     },
     "execution_count": 62,
     "metadata": {},
     "output_type": "execute_result"
    }
   ],
   "source": [
    "def non_zero(x):\n",
    "    return x != 0\n",
    "non_zero(1)"
   ]
  },
  {
   "cell_type": "code",
   "execution_count": 63,
   "metadata": {},
   "outputs": [
    {
     "data": {
      "text/plain": [
       "False"
      ]
     },
     "execution_count": 63,
     "metadata": {},
     "output_type": "execute_result"
    }
   ],
   "source": [
    "non_zero(0)"
   ]
  },
  {
   "cell_type": "code",
   "execution_count": 66,
   "metadata": {},
   "outputs": [
    {
     "data": {
      "text/plain": [
       "[1, 2, -3, -5]"
      ]
     },
     "execution_count": 66,
     "metadata": {},
     "output_type": "execute_result"
    }
   ],
   "source": [
    "# Get a list of all the non-zero elements of a list\n",
    "# note: filter only takes boolean function\n",
    "\n",
    "filter(non_zero, [1, 2, 0, -3, 0, -5])\n"
   ]
  },
  {
   "cell_type": "code",
   "execution_count": 62,
   "metadata": {},
   "outputs": [
    {
     "data": {
      "text/plain": [
       "[2, -4, 9, 1]"
      ]
     },
     "execution_count": 62,
     "metadata": {},
     "output_type": "execute_result"
    }
   ],
   "source": [
    "# we can also write it this way:\n",
    "\n",
    "L=[0,2,-4,0,9,0,1]\n",
    "filter(lambda x: x!=0, L)"
   ]
  },
  {
   "cell_type": "markdown",
   "metadata": {},
   "source": [
    "Let’s write some functions using filter."
   ]
  },
  {
   "cell_type": "code",
   "execution_count": 67,
   "metadata": {},
   "outputs": [
    {
     "data": {
      "text/plain": [
       "[11, 42]"
      ]
     },
     "execution_count": 67,
     "metadata": {},
     "output_type": "execute_result"
    }
   ],
   "source": [
    "# Return the elements that are greater than ten\n",
    "def greater_than_ten(x):\n",
    "    return x > 10\n",
    "filter(greater_than_ten, [11, 2, 6, 42])"
   ]
  },
  {
   "cell_type": "code",
   "execution_count": 68,
   "metadata": {},
   "outputs": [
    {
     "data": {
      "text/plain": [
       "[[1, 2, 3], [4, 5, 6]]"
      ]
     },
     "execution_count": 68,
     "metadata": {},
     "output_type": "execute_result"
    }
   ],
   "source": [
    "# Return all the non-empty lists from a nested list\n",
    "def is_not_empty(L):\n",
    "    return L != []\n",
    "filter(is_not_empty, [[], [1,2,3], [], [4,5,6], []])"
   ]
  },
  {
   "cell_type": "markdown",
   "metadata": {},
   "source": [
    "** Exercise 7 **\n",
    "\n",
    "- Define a boolean function increase2 that tests with the first two elements of a list are in increasing order.\n",
    "```\n",
    "increase2([2, 5, 4, 9]) ---> True\n",
    "increase2([2, 2, 5, 0]) ---> False\n",
    "```\n",
    "\n",
    "- Define a function increasing_lists that selects from a nested list only those lists that satisfy increase2:\n",
    "```\n",
    "increasing_lists([[2, 5, 4, 9], [2, 2], [3, 4, 5]]) \n",
    "    ---> [[2, 5, 4, 9], [3, 4, 5]]\n",
    "```"
   ]
  },
  {
   "cell_type": "code",
   "execution_count": 71,
   "metadata": {},
   "outputs": [
    {
     "name": "stdout",
     "output_type": "stream",
     "text": [
      "[[2, 5, 4, 9], [3, 4, 5]]\n",
      "[[2, 5, 4, 9], [3, 4, 5]]\n"
     ]
    }
   ],
   "source": [
    "#### Your code here\n",
    "\n",
    "#1\n",
    "def increase2(L):\n",
    "    return L[1] > L[0]\n",
    "\n",
    "Increase2 = lambda L: L[1] > L[0]\n",
    "\n",
    "#2\n",
    "def increasing_lists(L):\n",
    "    return filter(increase2,L)\n",
    "\n",
    "Increasing_lists = lambda L: filter(Increase2,L)\n",
    "\n",
    "print increasing_lists([[2, 5, 4, 9], [2, 2], [3, 4, 5]])\n",
    "print Increasing_lists([[2, 5, 4, 9], [2, 2], [3, 4, 5]])\n"
   ]
  },
  {
   "cell_type": "markdown",
   "metadata": {},
   "source": [
    "** Anonymous functions**\n",
    "\n",
    "We have been using two notations for defining functions because they will turn out to be useful in different ways. The “`def`” notation is much more common, and we will see that it has some real advantages. But the “`lambda`” notation has one big advantage we can use right now:\n",
    " - Lambda functions can be used without assigning them to variables - that is, without naming them.\n",
    " ```\n",
    " map(lambda x: x**2 + x**3, [2,3,4]) ---> [12, 36, 80]\n",
    " filter(lambda x: x != 0, [1, 2, 0, 3, 0, 6]) ---> [1, 2, 3, 6]\n",
    " ```\n",
    "\n",
    "When lambda functions are defined this way, they are called \"anonymous functions\". As we use `map`, `filter`, and other similar operations more and more, anonymous functions will be really handy."
   ]
  },
  {
   "cell_type": "markdown",
   "metadata": {},
   "source": [
    "** Exercise 8 **\n",
    "\n",
    "Rewrite functions get_second (from exercise 6) and increasing_lists (from exercise 7), using anonymous functions.  That is, they should have the form:\n",
    "\n",
    "```\n",
    "def get_second2(L):\n",
    "   return map(anonymous_function, L)\n",
    "\n",
    "get_second2([[1, 2, 3], [4, 5], [6, 7, 8]]) ---> [2, 5, 7]\n",
    "\n",
    "```\n",
    "\n",
    "\n",
    "```\n",
    "def increasing_lists2(L):\n",
    "   return filter(anonymous_boolean_function, L)\n",
    "\n",
    "increasing_lists2([[2, 5, 4, 9], [2, 2], [3, 4, 5]]) ---> [[2, 5, 4, 9], [3, 4, 5]]\n",
    "```"
   ]
  },
  {
   "cell_type": "code",
   "execution_count": 74,
   "metadata": {},
   "outputs": [
    {
     "name": "stdout",
     "output_type": "stream",
     "text": [
      "[2, 5, 7]\n",
      "[[2, 5, 4, 9], [3, 4, 5]]\n"
     ]
    }
   ],
   "source": [
    "def get_second2(L):\n",
    "    return map(lambda A: A[1], L)\n",
    "\n",
    "print get_second2([[1, 2, 3], [4, 5], [6, 7, 8]])\n",
    "\n",
    "def increasing_lists2(L):\n",
    "    return filter(lambda B: B[1]>B[0], L)\n",
    "\n",
    "print increasing_lists2([[2, 5, 4, 9], [2, 2], [3, 4, 5]])\n",
    "    "
   ]
  },
  {
   "cell_type": "code",
   "execution_count": 82,
   "metadata": {},
   "outputs": [
    {
     "name": "stdout",
     "output_type": "stream",
     "text": [
      "[3, 5, 7, 3]\n"
     ]
    }
   ],
   "source": [
    "# write a function that takes a list and outputs only odd numbers\n",
    "\n",
    "def get_odds(L):\n",
    "    return filter(lambda x: x%2==1, L)\n",
    "\n",
    "print get_odds([2,3,5,6,7,3,8,10])\n"
   ]
  },
  {
   "cell_type": "code",
   "execution_count": 83,
   "metadata": {},
   "outputs": [
    {
     "data": {
      "text/plain": [
       "[4, 6, 8, 4]"
      ]
     },
     "execution_count": 83,
     "metadata": {},
     "output_type": "execute_result"
    }
   ],
   "source": [
    "# now, I want to write a function that take a list and then add 1 to odd numbers in the list\n",
    "\n",
    "def get_odds_add_one(L):\n",
    "    temp = filter(lambda x: x%2==1, L)\n",
    "    return map(lambda x: x+1, temp)\n",
    "\n",
    "get_odds_add_one([2,3,5,6,7,3,8,10])\n"
   ]
  },
  {
   "cell_type": "code",
   "execution_count": 86,
   "metadata": {},
   "outputs": [
    {
     "data": {
      "text/plain": [
       "[2, 4, 6, 7, 10, 11]"
      ]
     },
     "execution_count": 86,
     "metadata": {},
     "output_type": "execute_result"
    }
   ],
   "source": [
    "# we can do all this using list comprehension (discussed next week)\n",
    "\n",
    "[i+1 for i in [1,3,5,6,9,10]]"
   ]
  },
  {
   "cell_type": "code",
   "execution_count": 87,
   "metadata": {},
   "outputs": [
    {
     "data": {
      "text/plain": [
       "[2, 4, 6, 10]"
      ]
     },
     "execution_count": 87,
     "metadata": {},
     "output_type": "execute_result"
    }
   ],
   "source": [
    "[i+1 for i in [1,3,5,6,9,10] if i%2==1]"
   ]
  },
  {
   "cell_type": "code",
   "execution_count": 88,
   "metadata": {},
   "outputs": [
    {
     "data": {
      "text/plain": [
       "[4, 6, 8, 4]"
      ]
     },
     "execution_count": 88,
     "metadata": {},
     "output_type": "execute_result"
    }
   ],
   "source": [
    "def Get_odds_add_one(L):\n",
    "    return [i+1 for i in L if i%2==1]\n",
    "\n",
    "Get_odds_add_one([2,3,5,6,7,3,8,10])\n",
    "\n",
    "# IMPORTANT: ANYTHING YOU CAN DO WITH MAP AND FILTER, YOU CAN DO WITH LIST COMPREHENSION\n",
    "# LIST COMPREHENSION IS VERY POWERFUL AND CONCISE \n"
   ]
  },
  {
   "cell_type": "markdown",
   "metadata": {
    "collapsed": true
   },
   "source": [
    "<p><a name=\"quiz\"></a></p>\n",
    "# Quiz"
   ]
  },
  {
   "cell_type": "markdown",
   "metadata": {
    "collapsed": true
   },
   "source": [
    "**Ex1**. Import the math module and define a function called **ex_1**, which takes a number x and returns $\\frac{x^{2} + x^{3}}{\\sqrt{x}}$."
   ]
  },
  {
   "cell_type": "code",
   "execution_count": 14,
   "metadata": {},
   "outputs": [
    {
     "name": "stdout",
     "output_type": "stream",
     "text": [
      "40.0\n"
     ]
    }
   ],
   "source": [
    "import math\n",
    "\n",
    "def ex_1(x):\n",
    "    return (x**2 + x**3)/math.sqrt(x)\n",
    "\n",
    "#test:\n",
    "print ex_1(4)\n"
   ]
  },
  {
   "cell_type": "markdown",
   "metadata": {},
   "source": [
    "**Ex2**. Define a function called **ex_2** that takes a list and a value v as input. The function should return a list that the first element is v and the second element is the maximum value in L. For example:\n",
    "\n",
    "```\n",
    "L = [1,2,3,0,0]\n",
    "ex_2(L, 2) ---> [2,3]\n",
    "```"
   ]
  },
  {
   "cell_type": "code",
   "execution_count": 2,
   "metadata": {},
   "outputs": [
    {
     "name": "stdout",
     "output_type": "stream",
     "text": [
      "[2, 3]\n"
     ]
    }
   ],
   "source": [
    "def ex_2(L, v):\n",
    "    return [v, max(L)]\n",
    "\n",
    "#test:\n",
    "L = [1,2,3,0,0]\n",
    "print ex_2(L, 2)\n"
   ]
  },
  {
   "cell_type": "markdown",
   "metadata": {},
   "source": [
    "**Ex3**. Define a function called **ex_3** using filter to return all the lists whose length is 3 from a nested list. For example:\n",
    "```\n",
    "L = [[2, 5, 4, 9], [2, 2], [3, 4, 5]]\n",
    "ex_3(L) ---> [[3,4,5]]\n",
    "```"
   ]
  },
  {
   "cell_type": "code",
   "execution_count": 4,
   "metadata": {},
   "outputs": [
    {
     "name": "stdout",
     "output_type": "stream",
     "text": [
      "[[3, 4, 5]]\n",
      "[[3, 4, 5], [5, 6, 7]]\n"
     ]
    }
   ],
   "source": [
    "def ex_3(L):\n",
    "    return filter(lambda A: len(A)==3, L)\n",
    "\n",
    "#test1:\n",
    "L = [[2, 5, 4, 9], [2, 2], [3, 4, 5]]\n",
    "print ex_3(L)\n",
    "\n",
    "#test2:\n",
    "L = [[2, 5, 4, 9], [2, 2], [3, 4, 5], [5,6,7]]\n",
    "print ex_3(L)\n"
   ]
  },
  {
   "cell_type": "code",
   "execution_count": 15,
   "metadata": {},
   "outputs": [
    {
     "name": "stdout",
     "output_type": "stream",
     "text": [
      "[[3, 4, 5], [5, 6, 7]]\n"
     ]
    }
   ],
   "source": [
    "# using list comprehension:\n",
    "\n",
    "def ex_3(L):\n",
    "    return [i for i in L if len(i)==3]\n",
    "\n",
    "L = [[2, 5, 4, 9], [2, 2], [3, 4, 5], [5,6,7]]\n",
    "print ex_3(L)"
   ]
  },
  {
   "cell_type": "markdown",
   "metadata": {},
   "source": [
    "**Ex4**. Define a function called **ex_4** that will multiply every element in the inner list by 2. For example:\n",
    "```\n",
    "ex4([[1, 2, 3], [4, 5], [6, 7, 8]]) ---> [[2, 4, 6], [8, 10], [12, 14, 16]]\n",
    "```"
   ]
  },
  {
   "cell_type": "code",
   "execution_count": 16,
   "metadata": {},
   "outputs": [
    {
     "name": "stdout",
     "output_type": "stream",
     "text": [
      "[[2, 4, 6], [8, 10], [12, 14, 16]]\n"
     ]
    }
   ],
   "source": [
    "# First, I define a function called #temp that takes a list and multiplies every element of that list by 2:\n",
    "\n",
    "def temp(L):\n",
    "    return map(lambda x: 2*x, L)\n",
    "\n",
    "# then, I use that function inside my main function:\n",
    "\n",
    "def ex_4(L):\n",
    "    return map(temp, L)\n",
    "\n",
    "\n",
    "#test:\n",
    "L = [[1, 2, 3], [4, 5], [6, 7, 8]]\n",
    "print ex_4(L)\n"
   ]
  },
  {
   "cell_type": "code",
   "execution_count": 17,
   "metadata": {},
   "outputs": [
    {
     "name": "stdout",
     "output_type": "stream",
     "text": [
      "[[2, 4, 6], [8, 10], [12, 14, 16]]\n"
     ]
    }
   ],
   "source": [
    "# Or I can just define everything in one function (which looks a little harder to read for me personally):\n",
    "\n",
    "def ex_4(L):\n",
    "    temp2 = lambda A: map(lambda x: 2*x, A)\n",
    "    return map(temp2, L)\n",
    "\n",
    "\n",
    "#test:\n",
    "L = [[1, 2, 3], [4, 5], [6, 7, 8]]\n",
    "print ex_4(L)\n",
    "\n"
   ]
  },
  {
   "cell_type": "code",
   "execution_count": null,
   "metadata": {
    "collapsed": true
   },
   "outputs": [],
   "source": []
  }
 ],
 "metadata": {
  "anaconda-cloud": {},
  "kernelspec": {
   "display_name": "Python 2",
   "language": "python",
   "name": "python2"
  },
  "language_info": {
   "codemirror_mode": {
    "name": "ipython",
    "version": 2
   },
   "file_extension": ".py",
   "mimetype": "text/x-python",
   "name": "python",
   "nbconvert_exporter": "python",
   "pygments_lexer": "ipython2",
   "version": "2.7.15"
  }
 },
 "nbformat": 4,
 "nbformat_minor": 1
}
