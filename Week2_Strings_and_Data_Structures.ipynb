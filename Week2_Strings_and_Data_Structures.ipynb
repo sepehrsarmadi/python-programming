{
 "cells": [
  {
   "cell_type": "markdown",
   "metadata": {},
   "source": [
    "<p><a name=\"sections\"></a></p>\n",
    "\n",
    "\n",
    "# Sections\n",
    "\n",
    "- <a href=\"#string\">String operations</a><br>\n",
    " - <a href=\"#strBasic\">String Basics</a><br>\n",
    " - <a href=\"#OMC\">Object Method Calls</a><br>\n",
    " - <a href=\"#buildin\">Built-in Strings Operations</a><br>\n",
    " - <a href=\"#MinMap\">Method Call in map</a><br>\n",
    " - <a href=\"#case\">Case conversion</a><br>\n",
    "- <a href=\"#fileIO\">File Input and Output</a><br>\n",
    " - <a href=\"#read\">Reading from Files</a><br>\n",
    " - <a href=\"#output\">File Output</a><br>\n",
    " - <a href=\"#fileSearch\">Searching in Files</a><br>\n",
    "- <a href=\"#DS\">Data Structure</a><br>\n",
    " - <a href=\"#mutate\">Mutating Operations on Lists</a><br>\n",
    " - <a href=\"#multiList\">Multiple List Operators</a><br>\n",
    " - <a href=\"#TSD\">Tuple, sets and Dictionaries</a><br>\n",
    "- <a href=\"#quiz\">Quiz</a><br>\n",
    "<p><a name=\"string\"></a></p>\n",
    "\n",
    "# String operations\n",
    "\n",
    "<p><a name=\"strBasic\"></a></p>\n",
    "## String Basics\n",
    "String literals are written using either single quotes `('...')` or double quotes `(\"...\")`."
   ]
  },
  {
   "cell_type": "code",
   "execution_count": 1,
   "metadata": {},
   "outputs": [
    {
     "data": {
      "text/plain": [
       "'Hello world!'"
      ]
     },
     "execution_count": 1,
     "metadata": {},
     "output_type": "execute_result"
    }
   ],
   "source": [
    "s1 ='Hello world!'\n",
    "s1"
   ]
  },
  {
   "cell_type": "code",
   "execution_count": 2,
   "metadata": {},
   "outputs": [
    {
     "data": {
      "text/plain": [
       "'Hello world!'"
      ]
     },
     "execution_count": 2,
     "metadata": {},
     "output_type": "execute_result"
    }
   ],
   "source": [
    "s2 = \"Hello world!\"\n",
    "s2"
   ]
  },
  {
   "cell_type": "markdown",
   "metadata": {},
   "source": [
    "Once a variable is created as a string, it is treated as a string!"
   ]
  },
  {
   "cell_type": "code",
   "execution_count": 3,
   "metadata": {},
   "outputs": [
    {
     "data": {
      "text/plain": [
       "'12'"
      ]
     },
     "execution_count": 3,
     "metadata": {},
     "output_type": "execute_result"
    }
   ],
   "source": [
    "s3 = '1'\n",
    "s4 = '2'\n",
    "s3 + s4"
   ]
  },
  {
   "cell_type": "markdown",
   "metadata": {},
   "source": [
    "Within a string, special symbols can be included by using escape character `(\\)`. Examples are `\\t` for tab and `\\n` for newline. See \n",
    "\n",
    "https://docs.python.org/2.0/ref/strings.html\n",
    "\n",
    "for a complete list!!\n",
    "\n",
    "The `print` statement produces a more readable output by omitting enclosing quotes as well as escaped characters and special symbols:"
   ]
  },
  {
   "cell_type": "code",
   "execution_count": 6,
   "metadata": {},
   "outputs": [
    {
     "ename": "SyntaxError",
     "evalue": "invalid syntax (<ipython-input-6-0a3bff541cb7>, line 1)",
     "output_type": "error",
     "traceback": [
      "\u001b[1;36m  File \u001b[1;32m\"<ipython-input-6-0a3bff541cb7>\"\u001b[1;36m, line \u001b[1;32m1\u001b[0m\n\u001b[1;33m    print 'that's what she said'\u001b[0m\n\u001b[1;37m                ^\u001b[0m\n\u001b[1;31mSyntaxError\u001b[0m\u001b[1;31m:\u001b[0m invalid syntax\n"
     ]
    }
   ],
   "source": [
    "print 'that's what she said'"
   ]
  },
  {
   "cell_type": "code",
   "execution_count": 4,
   "metadata": {},
   "outputs": [
    {
     "name": "stdout",
     "output_type": "stream",
     "text": [
      "that's what she said\n"
     ]
    }
   ],
   "source": [
    "print 'that\\'s what she said' # basicaly \\ tells the print command to chill out and continue reading "
   ]
  },
  {
   "cell_type": "markdown",
   "metadata": {},
   "source": [
    "If you don't want the characters prefaced by `\\ ` to be interpreted as special characters, you can use raw strings by adding an `r` before the first quote: "
   ]
  },
  {
   "cell_type": "code",
   "execution_count": 5,
   "metadata": {},
   "outputs": [
    {
     "name": "stdout",
     "output_type": "stream",
     "text": [
      "Hello,\n",
      "I have been expecting you!\n"
     ]
    }
   ],
   "source": [
    "print 'Hello,\\nI have been expecting you!'"
   ]
  },
  {
   "cell_type": "code",
   "execution_count": 7,
   "metadata": {},
   "outputs": [
    {
     "name": "stdout",
     "output_type": "stream",
     "text": [
      "C:\\some\n",
      "ame\n"
     ]
    }
   ],
   "source": [
    "print 'C:\\some\\name'   # \\n means newline so Python gets confused "
   ]
  },
  {
   "cell_type": "code",
   "execution_count": 9,
   "metadata": {},
   "outputs": [
    {
     "data": {
      "text/plain": [
       "11"
      ]
     },
     "execution_count": 9,
     "metadata": {},
     "output_type": "execute_result"
    }
   ],
   "source": [
    "len('C:\\some\\name')  # you may think this string has a length = 12 but \\n in python is a special character"
   ]
  },
  {
   "cell_type": "markdown",
   "metadata": {},
   "source": [
    "Above, `\\n` is interpreted as one special character. To avoid that, add `r` in front of the first quote, then `\\n` become two chatacters."
   ]
  },
  {
   "cell_type": "code",
   "execution_count": 9,
   "metadata": {},
   "outputs": [
    {
     "name": "stdout",
     "output_type": "stream",
     "text": [
      "C:\\some\\name\n"
     ]
    }
   ],
   "source": [
    "print r'C:\\some\\name'"
   ]
  },
  {
   "cell_type": "code",
   "execution_count": 10,
   "metadata": {},
   "outputs": [
    {
     "data": {
      "text/plain": [
       "12"
      ]
     },
     "execution_count": 10,
     "metadata": {},
     "output_type": "execute_result"
    }
   ],
   "source": [
    "len(r'C:\\some\\name')"
   ]
  },
  {
   "cell_type": "markdown",
   "metadata": {},
   "source": [
    "A string is normally coded in one line, but it can also be broken into multiple lines of code by adding `\\ ` in the very last position of each line."
   ]
  },
  {
   "cell_type": "code",
   "execution_count": 9,
   "metadata": {},
   "outputs": [
    {
     "name": "stdout",
     "output_type": "stream",
     "text": [
      "This is a particularly long line that is broken into two lines\n"
     ]
    }
   ],
   "source": [
    "longquote = 'This is a particularly long line \\\n",
    "that is broken into two lines'\n",
    "\n",
    "print longquote"
   ]
  },
  {
   "cell_type": "markdown",
   "metadata": {},
   "source": [
    "Python also has multiple lineotes: enclose the string with three quotation marks. Note that with three quotation marks the newlines are included"
   ]
  },
  {
   "cell_type": "code",
   "execution_count": 15,
   "metadata": {},
   "outputs": [
    {
     "name": "stdout",
     "output_type": "stream",
     "text": [
      "This is a particularly long line\n",
      "that is broken into two lines\n"
     ]
    }
   ],
   "source": [
    "longquote = '''This is a particularly long line\n",
    "that is broken into two lines'''\n",
    "\n",
    "print longquote"
   ]
  },
  {
   "cell_type": "markdown",
   "metadata": {},
   "source": [
    "Strings are similar to lists. You can subscipt and slice, as well as use `+` to concatenate strings."
   ]
  },
  {
   "cell_type": "code",
   "execution_count": 10,
   "metadata": {},
   "outputs": [
    {
     "data": {
      "text/plain": [
       "'y'"
      ]
     },
     "execution_count": 10,
     "metadata": {},
     "output_type": "execute_result"
    }
   ],
   "source": [
    "s = 'My dog has fleas'\n",
    "s[1]"
   ]
  },
  {
   "cell_type": "code",
   "execution_count": 17,
   "metadata": {},
   "outputs": [
    {
     "data": {
      "text/plain": [
       "'dog'"
      ]
     },
     "execution_count": 17,
     "metadata": {},
     "output_type": "execute_result"
    }
   ],
   "source": [
    "s[3:6]  # exclusive of 6 "
   ]
  },
  {
   "cell_type": "code",
   "execution_count": 18,
   "metadata": {},
   "outputs": [
    {
     "data": {
      "text/plain": [
       "'My dog has fleas and so do I.'"
      ]
     },
     "execution_count": 18,
     "metadata": {},
     "output_type": "execute_result"
    }
   ],
   "source": [
    "s + ' and so do I.'"
   ]
  },
  {
   "cell_type": "markdown",
   "metadata": {},
   "source": [
    "Convert a string to a list of single-character rings using the function `list()`:"
   ]
  },
  {
   "cell_type": "code",
   "execution_count": 16,
   "metadata": {},
   "outputs": [
    {
     "name": "stdout",
     "output_type": "stream",
     "text": [
      "['M', 'y', ' ', 'd', 'o', 'g', ' ', 'h', 'a', 's', ' ', 'f', 'l', 'e', 'a', 's']\n"
     ]
    }
   ],
   "source": [
    "print list(s)"
   ]
  },
  {
   "cell_type": "code",
   "execution_count": 17,
   "metadata": {},
   "outputs": [
    {
     "name": "stdout",
     "output_type": "stream",
     "text": [
      "['d', 'o', 'g']\n"
     ]
    }
   ],
   "source": [
    "print list('dog')"
   ]
  },
  {
   "cell_type": "markdown",
   "metadata": {},
   "source": [
    "<p><a name=\"OMC\"></a></p>\n",
    "## Object Method Calls\n",
    "\n",
    "We saw how we could split a string into a list. Going the other way requires a trick."
   ]
  },
  {
   "cell_type": "code",
   "execution_count": 22,
   "metadata": {},
   "outputs": [
    {
     "data": {
      "text/plain": [
       "'s-e-p-e-h-r'"
      ]
     },
     "execution_count": 22,
     "metadata": {},
     "output_type": "execute_result"
    }
   ],
   "source": [
    "\"-\".join(['s','e','p','e','h','r'])"
   ]
  },
  {
   "cell_type": "code",
   "execution_count": 19,
   "metadata": {},
   "outputs": [
    {
     "data": {
      "text/plain": [
       "'sepehr'"
      ]
     },
     "execution_count": 19,
     "metadata": {},
     "output_type": "execute_result"
    }
   ],
   "source": [
    "\"\".join(['s','e','p','e','h','r'])"
   ]
  },
  {
   "cell_type": "markdown",
   "metadata": {},
   "source": [
    "We have already seen the dot notation when calling functions from a module, for exaple: `math.sqrt()`.\n",
    "\n",
    "- Then you might be wondering: why does an empty sring have a function?\n",
    "\n",
    "To answer this question, we need to mention an important fact that Python is an **object-oriented language**. Without delving into details, this means Python takes many useful types of data for **objects**, including strings. Each object is associated with **methods** that can be applied to them.\n",
    "\n",
    "- Essentially a method is a function. A function associated with an object is called a method.\n",
    "\n",
    "A method is always called by an object it is associated with, and the syntax is:\n",
    "\n",
    "- `object.method(argument1, argument2, ...)`\n",
    "\n",
    "Therefore, in our previouse example:\n",
    "\n",
    "- The empty string `''` is used to call the function `join`.\n",
    "- The symbol `_` is used to represent the value returned by the last cell. In this particular case: `['d', 'o', 'g']`.\n",
    "- The method `join` then concatenate the strings in the list passed to it.\n",
    "\n",
    "We will discuss more on this `join` method."
   ]
  },
  {
   "cell_type": "markdown",
   "metadata": {},
   "source": [
    "Object oriented programming is actually an important feature of Python. We can even create our own objects. We will discuss this advanced topic later in this course.\n",
    "\n",
    "<p><a name=\"buildin\"></a></p>\n",
    "## Built-in Strings Operations\n",
    "\n",
    "Python comes with a large set of functions to perform useful operations strings. We will discuss several, for a complete list, see\n",
    "\n",
    "https://docs.python.org/2/library/string.html\n",
    "\n",
    "- **`strip`** removes \"whitespace\" (spaces, tab, newlines,..., etc) from the beginning and the end of a string. Note the usage of object-oriented syntax:"
   ]
  },
  {
   "cell_type": "code",
   "execution_count": 23,
   "metadata": {},
   "outputs": [
    {
     "data": {
      "text/plain": [
       "'my dog has fleas'"
      ]
     },
     "execution_count": 23,
     "metadata": {},
     "output_type": "execute_result"
    }
   ],
   "source": [
    "s = '    my dog has fleas    '\n",
    "s.strip()"
   ]
  },
  {
   "cell_type": "markdown",
   "metadata": {},
   "source": [
    "- **`split`** is an extremely useful function that splits a string into a list of strings on the delimeter. By default, the delimeter consists of spaces, tabs `(\\t)`, and newlines `(\\n)`, but the delimeter can be given as an argument."
   ]
  },
  {
   "cell_type": "code",
   "execution_count": 31,
   "metadata": {},
   "outputs": [
    {
     "data": {
      "text/plain": [
       "['my', 'dog', 'has', 'fleas']"
      ]
     },
     "execution_count": 31,
     "metadata": {},
     "output_type": "execute_result"
    }
   ],
   "source": [
    "s = 'my dog has fleas'\n",
    "s.split()"
   ]
  },
  {
   "cell_type": "code",
   "execution_count": 32,
   "metadata": {},
   "outputs": [
    {
     "data": {
      "text/plain": [
       "['my', 'dog', 'has', 'fleas']"
      ]
     },
     "execution_count": 32,
     "metadata": {},
     "output_type": "execute_result"
    }
   ],
   "source": [
    "s1 = 'my,dog,has,fleas'\n",
    "s1.split(',')"
   ]
  },
  {
   "cell_type": "markdown",
   "metadata": {},
   "source": [
    "- **`join`** concatenate a list of words with intervening occurences of a delimeter. You can sider join as the inverse of `split`. For example:"
   ]
  },
  {
   "cell_type": "code",
   "execution_count": 26,
   "metadata": {},
   "outputs": [
    {
     "data": {
      "text/plain": [
       "'my dog has fleas'"
      ]
     },
     "execution_count": 26,
     "metadata": {},
     "output_type": "execute_result"
    }
   ],
   "source": [
    "l = ['my','dog','has','fleas']\n",
    "' '.join(l)"
   ]
  },
  {
   "cell_type": "code",
   "execution_count": 28,
   "metadata": {},
   "outputs": [
    {
     "data": {
      "text/plain": [
       "'my, dog, has, fleas'"
      ]
     },
     "execution_count": 28,
     "metadata": {},
     "output_type": "execute_result"
    }
   ],
   "source": [
    "', '.join(l)"
   ]
  },
  {
   "cell_type": "markdown",
   "metadata": {},
   "source": [
    "Here we see that the object calling the function is often the first argument passed to the function. In this particular example, the string calling `join` is passed as the **delimeter**. Earlier we saw an example where `join` was called by the empty string `''`:"
   ]
  },
  {
   "cell_type": "code",
   "execution_count": 35,
   "metadata": {},
   "outputs": [
    {
     "data": {
      "text/plain": [
       "'dog'"
      ]
     },
     "execution_count": 35,
     "metadata": {},
     "output_type": "execute_result"
    }
   ],
   "source": [
    "''.join(['d','o','g'])"
   ]
  },
  {
   "cell_type": "code",
   "execution_count": 31,
   "metadata": {},
   "outputs": [
    {
     "name": "stdout",
     "output_type": "stream",
     "text": [
      "sepehr\n"
     ]
    }
   ],
   "source": [
    "s='sepehr'\n",
    "print ''.join(list(s))"
   ]
  },
  {
   "cell_type": "markdown",
   "metadata": {},
   "source": [
    "- **`replace`** returns a string with all occurences of one string replaced by another. For example:"
   ]
  },
  {
   "cell_type": "code",
   "execution_count": 36,
   "metadata": {},
   "outputs": [
    {
     "data": {
      "text/plain": [
       "'He was my classmate, and he was learning Python'"
      ]
     },
     "execution_count": 36,
     "metadata": {},
     "output_type": "execute_result"
    }
   ],
   "source": [
    "s = 'He is my classmate, and he is learning Python'\n",
    "s.replace('is','was')"
   ]
  },
  {
   "cell_type": "markdown",
   "metadata": {},
   "source": [
    "The object parameter is the string within which replacement takes place the first parameter is the string to be replaced by the second parameter."
   ]
  },
  {
   "cell_type": "markdown",
   "metadata": {},
   "source": [
    "If you only want the first occurence of the strign to be replaced, you can pass it to the third argument:"
   ]
  },
  {
   "cell_type": "code",
   "execution_count": 37,
   "metadata": {},
   "outputs": [
    {
     "data": {
      "text/plain": [
       "'He was my classmate, and he is learning Python'"
      ]
     },
     "execution_count": 37,
     "metadata": {},
     "output_type": "execute_result"
    }
   ],
   "source": [
    "s.replace('is', 'was', 1)"
   ]
  },
  {
   "cell_type": "markdown",
   "metadata": {},
   "source": [
    "- **`find`** returns the lowest index in string `s` where the substring *sub* is found. It returns -1 on failure."
   ]
  },
  {
   "cell_type": "code",
   "execution_count": 33,
   "metadata": {},
   "outputs": [
    {
     "data": {
      "text/plain": [
       "3"
      ]
     },
     "execution_count": 33,
     "metadata": {},
     "output_type": "execute_result"
    }
   ],
   "source": [
    "s = 'my dog has fleas'\n",
    "s.find('dog')"
   ]
  },
  {
   "cell_type": "code",
   "execution_count": 32,
   "metadata": {},
   "outputs": [
    {
     "data": {
      "text/plain": [
       "-1"
      ]
     },
     "execution_count": 32,
     "metadata": {},
     "output_type": "execute_result"
    }
   ],
   "source": [
    "s.find('dogs')"
   ]
  },
  {
   "cell_type": "markdown",
   "metadata": {},
   "source": [
    "If we want to find the substring *sub* within a range we need to specify it:"
   ]
  },
  {
   "cell_type": "code",
   "execution_count": 46,
   "metadata": {},
   "outputs": [
    {
     "data": {
      "text/plain": [
       "8"
      ]
     },
     "execution_count": 46,
     "metadata": {},
     "output_type": "execute_result"
    }
   ],
   "source": [
    "s.find('a')   # if there are multiple instances, it will give you the index of the first instance "
   ]
  },
  {
   "cell_type": "code",
   "execution_count": 47,
   "metadata": {},
   "outputs": [
    {
     "data": {
      "text/plain": [
       "14"
      ]
     },
     "execution_count": 47,
     "metadata": {},
     "output_type": "execute_result"
    }
   ],
   "source": [
    "s.find('a', 9)  # this means start from index 9 "
   ]
  },
  {
   "cell_type": "markdown",
   "metadata": {},
   "source": [
    "- **`%` and format**\n",
    "\n",
    "The `%` operator is used to create nicely formatted strings from other values. Its syntax is `format_specifier%(tuple of values)`:\n",
    "\n",
    " - `formate_specifier` is a string containing special format symbols, which are used to insert alues from the tuple:\n",
    "  - `%s` means inserting a string.\n",
    "  - `%d` means inserting an integer.\n",
    "  - `%f` means inserting a float.\n",
    " - The number of format symbol in the format specifier must equal to the number of values in the tuple, and each format symbol must match the type of the corresponding value in the tuple."
   ]
  },
  {
   "cell_type": "code",
   "execution_count": 34,
   "metadata": {},
   "outputs": [
    {
     "name": "stdout",
     "output_type": "stream",
     "text": [
      "My name is Mike and I am 25 years old.\n"
     ]
    }
   ],
   "source": [
    "print 'My name is %s and I am %d years old.' % ('Mike', 25)    # you can also use %i for integer  "
   ]
  },
  {
   "cell_type": "code",
   "execution_count": 43,
   "metadata": {},
   "outputs": [
    {
     "name": "stdout",
     "output_type": "stream",
     "text": [
      "The average price of 1BR apartments in Tribeca is $1.34 Million Dollars\n"
     ]
    }
   ],
   "source": [
    "print 'The average price of 1BR apartments in %s is $%.2f Million Dollars' % ('Tribeca',1.345)  "
   ]
  },
  {
   "cell_type": "markdown",
   "metadata": {},
   "source": [
    "<p><a name=\"MinMap\"></a></p>\n",
    "## Method call in `map`\n",
    "\n",
    "Object notation causes one problem. Suppose we have a method *fun* on strings, and suppose it has no arguments.  So we apply it to string s by writing: `s.fun()`.\n",
    "\n",
    "Now suppose we want to apply *fun* to every element of a list of strings. How can we do that?\n",
    "\n",
    "- We can try `map(fun, L)`, but that doesn’t work. \n",
    "\n",
    "Instead, turn the method into a function:\n",
    "\n",
    "- `lambda s: s.fun()`\n",
    "\n",
    "or\n",
    "\n",
    "- `def newfun(s): return s.fun()`\n",
    "\n",
    "E.g., here is a way to “`strip`” every string in a list:"
   ]
  },
  {
   "cell_type": "code",
   "execution_count": 47,
   "metadata": {},
   "outputs": [
    {
     "data": {
      "text/plain": [
       "['abc', 'def', 'ghi']"
      ]
     },
     "execution_count": 47,
     "metadata": {},
     "output_type": "execute_result"
    }
   ],
   "source": [
    "lis = [' abc  \\n', ' def', 'ghi   ']\n",
    "map(lambda s: s.strip(), lis)"
   ]
  },
  {
   "cell_type": "markdown",
   "metadata": {},
   "source": [
    "Here is a way to remove the strings that contain the word “No”:"
   ]
  },
  {
   "cell_type": "code",
   "execution_count": 19,
   "metadata": {},
   "outputs": [
    {
     "name": "stdout",
     "output_type": "stream",
     "text": [
      "['Some snow']\n",
      "[False, True, False]\n"
     ]
    }
   ],
   "source": [
    "# Return true if s does *not* contain 'No'\n",
    "def has_no_No(s):\n",
    "    return s.find('No') == -1\n",
    "\n",
    "L = ['No rain', 'Some snow', 'No sleet']\n",
    "\n",
    "print filter(has_no_No, L)\n",
    "print map(has_no_No, L)"
   ]
  },
  {
   "cell_type": "markdown",
   "metadata": {},
   "source": [
    "<p><a name=\"case\"></a></p>\n",
    "## Case Conversion\n",
    "\n",
    "Python has provided some built-in functions to do case conversions:"
   ]
  },
  {
   "cell_type": "code",
   "execution_count": 53,
   "metadata": {},
   "outputs": [
    {
     "data": {
      "text/plain": [
       "'abcd'"
      ]
     },
     "execution_count": 53,
     "metadata": {},
     "output_type": "execute_result"
    }
   ],
   "source": [
    "'ABcd'.lower()      # convert to lowercase"
   ]
  },
  {
   "cell_type": "code",
   "execution_count": 54,
   "metadata": {},
   "outputs": [
    {
     "data": {
      "text/plain": [
       "'ABCD'"
      ]
     },
     "execution_count": 54,
     "metadata": {},
     "output_type": "execute_result"
    }
   ],
   "source": [
    "'ABcd'.upper()      # convert to uppercase"
   ]
  },
  {
   "cell_type": "code",
   "execution_count": 55,
   "metadata": {},
   "outputs": [
    {
     "data": {
      "text/plain": [
       "'abCD'"
      ]
     },
     "execution_count": 55,
     "metadata": {},
     "output_type": "execute_result"
    }
   ],
   "source": [
    "'ABcd'.swapcase()   # swap case"
   ]
  },
  {
   "cell_type": "code",
   "execution_count": 56,
   "metadata": {},
   "outputs": [
    {
     "data": {
      "text/plain": [
       "'Acd Acd'"
      ]
     },
     "execution_count": 56,
     "metadata": {},
     "output_type": "execute_result"
    }
   ],
   "source": [
    "'aCd acD'.title()   # make first letters uppercase"
   ]
  },
  {
   "cell_type": "markdown",
   "metadata": {},
   "source": [
    "**Exercise 1** String operations\n",
    "\n",
    "- Use `map` to find the first occurrence of the character `i` in each word in a list:\n",
    "```\n",
    "lis = ['today', 'is', 'a', 'nice', 'day']\n",
    "map( ... , lis)   # fill in the ... to get [-1, 0, -1, 1, -1]\n",
    "```\n",
    "\n",
    "- Define function `find_char(s, t)` to find the lowest index of string `t` in each word in `s`:\n",
    "```\n",
    "s = 'today is a nice day'\n",
    "find_char(s, 'i') ---> [-1, 0, -1, 1, -1]\n",
    "```\n",
    "You need to split `s`, and then so as above.\n",
    "\n",
    "- Use `map` with the formatting operation (`%`) to turn a list of numbers into a list of strings:\n",
    "```\n",
    "lis = [10, 12, 4, 7]\n",
    "map( ... , lis)   # fill in the ... to get ['10', '12', '4', '7']\n",
    "```\n",
    "\n",
    "- Use `filter` to find the strings in a list that do contain No.\n",
    "```\n",
    "L = ['No rain', 'Some snow', 'No sleet']\n",
    "filter(has_no, L) ---> ['No rain', 'No sleet']\n",
    "```"
   ]
  },
  {
   "cell_type": "code",
   "execution_count": 57,
   "metadata": {},
   "outputs": [
    {
     "name": "stdout",
     "output_type": "stream",
     "text": [
      "[-1, 0, -1, 1, -1]\n"
     ]
    }
   ],
   "source": [
    "#### Your code here\n",
    "\n",
    "#1\n",
    "# first occurence of i in each word in the list\n",
    "lis = ['today', 'is', 'a', 'nice', 'day']\n",
    "print map(lambda s: s.find('i') , lis)   # fill in the ... to get [-1, 0, -1, 1, -1]\n"
   ]
  },
  {
   "cell_type": "code",
   "execution_count": 58,
   "metadata": {},
   "outputs": [
    {
     "name": "stdout",
     "output_type": "stream",
     "text": [
      "[-1, 0, -1, 1, -1]\n"
     ]
    }
   ],
   "source": [
    "#2\n",
    "#find the lowest index of string t in each word in s:\n",
    "s = 'today is a nice day'\n",
    "# find_char(s, 'i') ---> [-1, 0, -1, 1, -1]\n",
    "\n",
    "def find_char(s,k):\n",
    "    temp = s.split()\n",
    "    return map(lambda x: x.find(k), temp)\n",
    "\n",
    "print find_char(s,'i')\n"
   ]
  },
  {
   "cell_type": "code",
   "execution_count": 59,
   "metadata": {},
   "outputs": [
    {
     "name": "stdout",
     "output_type": "stream",
     "text": [
      "['10', '12', '4', '7']\n",
      "['10', '12', '4', '7']\n"
     ]
    }
   ],
   "source": [
    "#3\n",
    "#  use map with the formatting operation (%) to turn a list of numbers into a list of strings\n",
    "lis = [10, 12, 4, 7]\n",
    "print map(lambda x: '%i' % x , lis)   # fill in the ... to get ['10', '12', '4', '7']\n",
    "\n",
    "#another method without using %:\n",
    "print map(lambda x: str(x), lis)"
   ]
  },
  {
   "cell_type": "code",
   "execution_count": 60,
   "metadata": {},
   "outputs": [
    {
     "data": {
      "text/plain": [
       "['No rain', 'No sleet']"
      ]
     },
     "execution_count": 60,
     "metadata": {},
     "output_type": "execute_result"
    }
   ],
   "source": [
    "#4 #use filter to find the strings in a list that do contain No.\n",
    "\n",
    "L = ['No rain', 'Some snow', 'No sleet']\n",
    "filter(lambda s: s.find('No')<>-1 , L) \n",
    "\n"
   ]
  },
  {
   "cell_type": "markdown",
   "metadata": {},
   "source": [
    "<p><a name=\"fileIO\"></a></p>\n",
    "# File Input and Output\n",
    "\n",
    "We first follow the step below to create a .txt file in iPython notebook:\n",
    "\n",
    "- As above, save your notebook and go to the initial iPython screen.\n",
    "- In the New menu (upper right), click Text file.\n",
    "- Enter your text.\n",
    "- Click on “untitled.txt” in the top left to name the file.\n",
    "- Select “Save” from the file menu to save it.\n",
    "- Click the word Jupyter on top left to return to the iPython screen. You should see your new file listed.\n",
    "\n",
    "\n",
    "<p><a name=\"read\"></a></p>\n",
    "## Reading from Files\n",
    "\n",
    "Before we input the file, we might want to inspect the file. Of course we can go back to the initial iPython screen to look at the file. With iPython notebook we can inspect a file without leaving our working space. We may use command line after the `!` notation \n",
    "\n",
    "**Note**: this is not python code, but a special feature in iPython notebook)"
   ]
  },
  {
   "cell_type": "code",
   "execution_count": 58,
   "metadata": {},
   "outputs": [
    {
     "name": "stdout",
     "output_type": "stream",
     "text": [
      "Before we input the file, we might want to inspect the file. \n",
      "Of course we can go back to the initial iPython screen to look at the file. \n",
      "With iPython notebook we can inspect a file without leaving our working space. \n",
      "We may use command line after the ! notation\n"
     ]
    }
   ],
   "source": [
    "#!cat simpe text   for mac machines \n",
    "!more simple.txt"
   ]
  },
  {
   "cell_type": "markdown",
   "metadata": {},
   "source": [
    "Reading from files is very simple, because we can treat a file almost as a list of strings.\n",
    "\n",
    "- To turn a file into a list of strings, simply do this:"
   ]
  },
  {
   "cell_type": "code",
   "execution_count": 59,
   "metadata": {},
   "outputs": [
    {
     "data": {
      "text/plain": [
       "['Before we input the file, we might want to inspect the file. \\n',\n",
       " 'Of course we can go back to the initial iPython screen to look at the file. \\n',\n",
       " 'With iPython notebook we can inspect a file without leaving our working space. \\n',\n",
       " 'We may use command line after the ! notation']"
      ]
     },
     "execution_count": 59,
     "metadata": {},
     "output_type": "execute_result"
    }
   ],
   "source": [
    "# f is a file object here\n",
    "# a file object has a bunch of methods associated with it ... like readlines\n",
    "f = open('simple.txt', 'r')    # 'r' for read\n",
    "lines = f.readlines()\n",
    "f.close()\n",
    "lines"
   ]
  },
  {
   "cell_type": "markdown",
   "metadata": {},
   "source": [
    "Now that we have the file’s contents in a list, we can apply all of our list- and string-processing powers to it.  E.g. turn all letters in simple.txt into uppercase:"
   ]
  },
  {
   "cell_type": "code",
   "execution_count": 60,
   "metadata": {},
   "outputs": [
    {
     "data": {
      "text/plain": [
       "'BEFORE WE INPUT THE FILE, WE MIGHT WANT TO INSPECT THE FILE. OF COURSE WE CAN GO BACK TO THE INITIAL IPYTHON SCREEN TO LOOK AT THE FILE. WITH IPYTHON NOTEBOOK WE CAN INSPECT A FILE WITHOUT LEAVING OUR WORKING SPACE. WE MAY USE COMMAND LINE AFTER THE ! NOTATION'"
      ]
     },
     "execution_count": 60,
     "metadata": {},
     "output_type": "execute_result"
    }
   ],
   "source": [
    "text = ' '.join(map(lambda s: s.upper().strip(), lines))\n",
    "text"
   ]
  },
  {
   "cell_type": "markdown",
   "metadata": {},
   "source": [
    "Let’s take that code apart. `simple.txt` has two lines:\n",
    "\n",
    "- The first three lines read the file into a list, as we’ve seen. Note that each line still has its ending newline:"
   ]
  },
  {
   "cell_type": "code",
   "execution_count": 9,
   "metadata": {},
   "outputs": [
    {
     "data": {
      "text/plain": [
       "['Before we input the file, we might want to inspect the file. \\n',\n",
       " 'Of course we can go back to the initial iPython screen to look at the file. \\n',\n",
       " 'With iPython notebook we can inspect a file without leaving our working space. \\n',\n",
       " 'We may use command line after the ! notation']"
      ]
     },
     "execution_count": 9,
     "metadata": {},
     "output_type": "execute_result"
    }
   ],
   "source": [
    "f = open('simple.txt', 'r')\n",
    "lines = f.readlines()\n",
    "f.close()\n",
    "lines"
   ]
  },
  {
   "cell_type": "markdown",
   "metadata": {},
   "source": [
    "We can apply a function to each line using map.  Here we’re upper-casing each line:"
   ]
  },
  {
   "cell_type": "code",
   "execution_count": 10,
   "metadata": {},
   "outputs": [
    {
     "data": {
      "text/plain": [
       "['BEFORE WE INPUT THE FILE, WE MIGHT WANT TO INSPECT THE FILE. \\n',\n",
       " 'OF COURSE WE CAN GO BACK TO THE INITIAL IPYTHON SCREEN TO LOOK AT THE FILE. \\n',\n",
       " 'WITH IPYTHON NOTEBOOK WE CAN INSPECT A FILE WITHOUT LEAVING OUR WORKING SPACE. \\n',\n",
       " 'WE MAY USE COMMAND LINE AFTER THE ! NOTATION']"
      ]
     },
     "execution_count": 10,
     "metadata": {},
     "output_type": "execute_result"
    }
   ],
   "source": [
    "map(lambda s: s.upper(), lines)"
   ]
  },
  {
   "cell_type": "markdown",
   "metadata": {},
   "source": [
    "We might want to assign the new list to a variable, or maybe back to lines:"
   ]
  },
  {
   "cell_type": "code",
   "execution_count": 12,
   "metadata": {},
   "outputs": [
    {
     "data": {
      "text/plain": [
       "['BEFORE WE INPUT THE FILE, WE MIGHT WANT TO INSPECT THE FILE. \\n',\n",
       " 'OF COURSE WE CAN GO BACK TO THE INITIAL IPYTHON SCREEN TO LOOK AT THE FILE. \\n',\n",
       " 'WITH IPYTHON NOTEBOOK WE CAN INSPECT A FILE WITHOUT LEAVING OUR WORKING SPACE. \\n',\n",
       " 'WE MAY USE COMMAND LINE AFTER THE ! NOTATION']"
      ]
     },
     "execution_count": 12,
     "metadata": {},
     "output_type": "execute_result"
    }
   ],
   "source": [
    "lines = map(lambda s: s.upper(), lines)\n",
    "lines"
   ]
  },
  {
   "cell_type": "markdown",
   "metadata": {},
   "source": [
    "because lists are more convenient if we want to do more processing.\n",
    "\n",
    "In this case, we just want to get the new text in the form of a string, so we use join:"
   ]
  },
  {
   "cell_type": "code",
   "execution_count": 68,
   "metadata": {},
   "outputs": [
    {
     "data": {
      "text/plain": [
       "'BEFORE WE INPUT THE FILE, WE MIGHT WANT TO INSPECT THE FILE.  \\nOF COURSE WE CAN GO BACK TO THE INITIAL IPYTHON SCREEN TO LOOK AT THE FILE.  \\nWITH IPYTHON NOTEBOOK WE CAN INSPECT A FILE WITHOUT LEAVING OUR WORKING SPACE.  \\nWE MAY USE COMMAND LINE AFTER THE ! NOTATION'"
      ]
     },
     "execution_count": 68,
     "metadata": {},
     "output_type": "execute_result"
    }
   ],
   "source": [
    "text = ''.join(lines)\n",
    "text = text.replace('.','. ')\n",
    "text"
   ]
  },
  {
   "cell_type": "markdown",
   "metadata": {},
   "source": [
    "**Exercise 2** File input\n",
    "\n",
    "- The `‘\\n’` symbol on the previous slide is quite annoying. Try to get rid of it using the `strip()` function.\n",
    "- Write a function `e_to_a` to read the contents of a file, and get a list of every line, with the letter `‘e’` changed to `‘a’` in every line.\n",
    "```\n",
    "e_to_a('simple.txt') ---> [\"I'm lina 1,\", \"and I'm lina 2.\"]\n",
    "```\n",
    "Hint: Start with the usual code to read the lines of the file, then map replace over the lines and return the result."
   ]
  },
  {
   "cell_type": "code",
   "execution_count": 69,
   "metadata": {},
   "outputs": [
    {
     "data": {
      "text/plain": [
       "['Before we input the file, we might went to inspect the file.',\n",
       " 'Of course we cen go beck to the initiel iPython screen to look et the file.',\n",
       " 'With iPython notebook we cen inspect e file without leeving our working spece.',\n",
       " 'We mey use commend line efter the ! notetion']"
      ]
     },
     "execution_count": 69,
     "metadata": {},
     "output_type": "execute_result"
    }
   ],
   "source": [
    "# 1\n",
    "\n",
    "\n",
    "\n",
    "# 2\n",
    "def e_to_a(filename):\n",
    "    f = open(filename, 'r')    # 'r' for read\n",
    "    lines = f.readlines()\n",
    "    f.close()\n",
    "    return map(lambda x: x.replace('a','e').strip(), lines)\n",
    "\n",
    "e_to_a('simple.txt')"
   ]
  },
  {
   "cell_type": "code",
   "execution_count": 20,
   "metadata": {},
   "outputs": [
    {
     "data": {
      "text/plain": [
       "46"
      ]
     },
     "execution_count": 20,
     "metadata": {},
     "output_type": "execute_result"
    }
   ],
   "source": [
    "# write a function that reads in atext file and retunrs the word count \n",
    "# note: it should not count .'s\n",
    "\n",
    "def wc(filename):\n",
    "    f = open(filename, 'r')\n",
    "    lines = f.readlines()\n",
    "    f.close()\n",
    "    lines = map(lambda x: x.strip(), lines)\n",
    "    lines = map(lambda x: x.replace('.',''), lines)\n",
    "    lines = map(lambda x: x.replace(',',''), lines)\n",
    "    lines = map(lambda x: x.replace('!',''), lines)\n",
    "    text = ''.join(lines)\n",
    "    return len(text.split())\n",
    "\n",
    "wc('simple.txt')\n",
    "\n"
   ]
  },
  {
   "cell_type": "markdown",
   "metadata": {},
   "source": [
    "<p><a name=\"output\"></a></p>\n",
    "## File Output\n",
    "\n",
    "Writing output to a file is easy.\n",
    "\n",
    "- Open file for output:  `f = open(filename, 'w')`. \n",
    "**Caution**: Once this line of code is executed, the file specified by the filename would be **ERASED!!**\n",
    "- Write a string, `s`,  to the file:  `f.write(s)`\n",
    "- Close the file:  `f.close()`"
   ]
  },
  {
   "cell_type": "code",
   "execution_count": 28,
   "metadata": {},
   "outputs": [
    {
     "name": "stdout",
     "output_type": "stream",
     "text": [
      "Before we input the file, we might want to inspect the file. \n",
      "Of course we can go back to the initial iPython screen to look at the file. \n",
      "With iPython notebook we can inspect a file without leaving our working space. \n",
      "We may use command line after the ! notation\n"
     ]
    }
   ],
   "source": [
    "!more simple.txt"
   ]
  },
  {
   "cell_type": "code",
   "execution_count": 23,
   "metadata": {
    "collapsed": true
   },
   "outputs": [],
   "source": [
    "f = open('simple2.txt', 'w')\n",
    "f.write('This overwrites the file!')\n",
    "f.close()"
   ]
  },
  {
   "cell_type": "code",
   "execution_count": 86,
   "metadata": {
    "scrolled": true
   },
   "outputs": [
    {
     "name": "stdout",
     "output_type": "stream",
     "text": [
      "This overwrites the file!\n"
     ]
    }
   ],
   "source": [
    "!more simple2.txt"
   ]
  },
  {
   "cell_type": "markdown",
   "metadata": {},
   "source": [
    "If you want to append a string to the end of the file, we may oopen the file for appending:"
   ]
  },
  {
   "cell_type": "code",
   "execution_count": 26,
   "metadata": {
    "collapsed": true
   },
   "outputs": [],
   "source": [
    "f = open('simple2.txt', 'a') # 'a' for appending\n",
    "f.write('\\nThis should be the second line.')\n",
    "f.close()"
   ]
  },
  {
   "cell_type": "code",
   "execution_count": 27,
   "metadata": {},
   "outputs": [
    {
     "name": "stdout",
     "output_type": "stream",
     "text": [
      "This overwrites the file!\n",
      "This should be the second line.\n"
     ]
    }
   ],
   "source": [
    "!more simple2.txt"
   ]
  },
  {
   "cell_type": "markdown",
   "metadata": {},
   "source": [
    "You can open a file for both reading and writing at the same time:"
   ]
  },
  {
   "cell_type": "code",
   "execution_count": null,
   "metadata": {
    "collapsed": true
   },
   "outputs": [],
   "source": [
    "f = open('simple.txt', 'r+')\n",
    "lines = f.readlines()\n",
    "lines"
   ]
  },
  {
   "cell_type": "markdown",
   "metadata": {},
   "source": [
    "We may then write a new line into it:"
   ]
  },
  {
   "cell_type": "code",
   "execution_count": null,
   "metadata": {
    "collapsed": true
   },
   "outputs": [],
   "source": [
    "f.write('\\nThis should be the third line.')\n",
    "f.close()"
   ]
  },
  {
   "cell_type": "code",
   "execution_count": null,
   "metadata": {
    "collapsed": true
   },
   "outputs": [],
   "source": [
    "!more simple.txt"
   ]
  },
  {
   "cell_type": "markdown",
   "metadata": {},
   "source": [
    "<p><a name=\"fileSearch\"></a></p>\n",
    "## Searching in Files\n",
    "\n",
    "You may be familiar with the Unix command grep, which is used to search for strings within files.  For example:"
   ]
  },
  {
   "cell_type": "code",
   "execution_count": null,
   "metadata": {
    "collapsed": true
   },
   "outputs": [],
   "source": [
    "!grep people oldmanandthesea.txt    # doesn't work on PC. grep is a Unix command and only works on mac OX \n",
    "# or other machines with unix based OS"
   ]
  },
  {
   "cell_type": "markdown",
   "metadata": {},
   "source": [
    "*The txt file is from A Project Gutenberg Canada Ebook.*\n",
    "\n",
    "We can do a similar thing in Python, using `filter` and `find`."
   ]
  },
  {
   "cell_type": "code",
   "execution_count": 29,
   "metadata": {},
   "outputs": [
    {
     "name": "stdout",
     "output_type": "stream",
     "text": [
      "quite sure no local people would steal from him, the old man thought\n",
      "He always thought of the sea as _la mar_ which is what people call her\n",
      "that were as long as the skiff and weighed a ton.  Most people are\n",
      "him beyond all people.  Beyond all people in the world.  Now we are\n",
      "table.  There was much betting and people went in and out of the room\n",
      "many people will he feed, he thought.  But are they worthy to eat him?\n",
      "did it to keep me alive and feed many people.  But then everything is a\n",
      "are people who are paid to do it.  Let them think about it.  You were\n",
      "\n"
     ]
    }
   ],
   "source": [
    "def grep(word, filename):\n",
    "    f = open(filename, 'r')\n",
    "    lines = f.readlines()\n",
    "    f.close()\n",
    "    \n",
    "    output = filter(lambda line: line.find(word) != -1, lines)\n",
    "    return \"\".join(output)\n",
    "\n",
    "print grep('people', 'oldmanandthesea.txt')"
   ]
  },
  {
   "cell_type": "markdown",
   "metadata": {},
   "source": [
    "** Exercise 3** Searching in Files\n",
    "\n",
    "- Define `grep2(word1, word2, filename)`.  It returns the lines that contain both word1 and word2."
   ]
  },
  {
   "cell_type": "code",
   "execution_count": 30,
   "metadata": {},
   "outputs": [
    {
     "name": "stdout",
     "output_type": "stream",
     "text": [
      "The sun rose thinly from the sea and the old man could see the other\n",
      "in the sea and the old man loved to see the big sea turtles eating\n",
      "the old man rode gently with the small sea and the hurt of the cord\n",
      "there wallowing now in the seas and the old man pulled the skiff up\n",
      "\n"
     ]
    }
   ],
   "source": [
    "def grep2(word1, word2, filename):\n",
    "    f = open(filename, 'r')\n",
    "    lines = f.readlines()\n",
    "    f.close()\n",
    "    \n",
    "    # has_word is true if line contains word\n",
    "    has_both_words = lambda line: line.find(word1) != -1 and line.find(word2) != -1\n",
    "    output = filter(has_both_words, lines)\n",
    "    return \"\".join(output)\n",
    "\n",
    "print grep2('old man', 'sea', 'oldmanandthesea.txt')\n"
   ]
  },
  {
   "cell_type": "markdown",
   "metadata": {},
   "source": [
    "<p><a name=\"DS\"></a></p>\n",
    "# Data Structure\n",
    "\n",
    "Lists are the most widely used data structure in Python. But they are not the only one. Other built-in data structures are sets and dictionaries:\n",
    "- Sets - unordered collections without duplicates.\n",
    "- Dictionaries - maps from one value (often strings) to another.\n",
    "\n",
    "An important feature of Python data structures is that some are mutable and some are immutable; mutability is a key concept that we will discuss in this section.\n",
    "\n",
    "For example, slicing is non-mutating:"
   ]
  },
  {
   "cell_type": "code",
   "execution_count": 83,
   "metadata": {},
   "outputs": [
    {
     "data": {
      "text/plain": [
       "['b', 'c']"
      ]
     },
     "execution_count": 83,
     "metadata": {},
     "output_type": "execute_result"
    }
   ],
   "source": [
    "L = ['a', 'b', 'c']\n",
    "L[1:]"
   ]
  },
  {
   "cell_type": "markdown",
   "metadata": {},
   "source": [
    "We can see the slicing is non-mutating because even `L[1:]` returns sub-list, the original list **`L`** itself remains unchanged:"
   ]
  },
  {
   "cell_type": "code",
   "execution_count": 84,
   "metadata": {},
   "outputs": [
    {
     "data": {
      "text/plain": [
       "['a', 'b', 'c']"
      ]
     },
     "execution_count": 84,
     "metadata": {},
     "output_type": "execute_result"
    }
   ],
   "source": [
    "L"
   ]
  },
  {
   "cell_type": "markdown",
   "metadata": {},
   "source": [
    "`map` and `upper` are also non-mutating, since it returns a value:"
   ]
  },
  {
   "cell_type": "code",
   "execution_count": 85,
   "metadata": {},
   "outputs": [
    {
     "data": {
      "text/plain": [
       "['A', 'B', 'C']"
      ]
     },
     "execution_count": 85,
     "metadata": {},
     "output_type": "execute_result"
    }
   ],
   "source": [
    "map(lambda s: s.upper(), L)"
   ]
  },
  {
   "cell_type": "markdown",
   "metadata": {},
   "source": [
    "But they do not change `L`."
   ]
  },
  {
   "cell_type": "code",
   "execution_count": 86,
   "metadata": {},
   "outputs": [
    {
     "data": {
      "text/plain": [
       "['a', 'b', 'c']"
      ]
     },
     "execution_count": 86,
     "metadata": {},
     "output_type": "execute_result"
    }
   ],
   "source": [
    "L"
   ]
  },
  {
   "cell_type": "markdown",
   "metadata": {},
   "source": [
    "**Exercise 4** Non-mutating operations\n",
    "\n",
    "Try this using list and string operations you have learned:\n",
    " - Assign a list or string to a variable (say, L or s).\n",
    " - Perform operations on the variable.\n",
    " - Note that the variable changes only if you re-assign to it.\n",
    " - Now assign the variable to another variable:\n",
    "```\n",
    "M = L\n",
    "t = s\n",
    "```\n",
    " - Now perform operations on `L` and `s` and assign the result to `L` or `s`, e.g. “`L = L[2:]`” or “`s = s.upper()`”.  Do `M` or `t` change?"
   ]
  },
  {
   "cell_type": "code",
   "execution_count": 87,
   "metadata": {},
   "outputs": [
    {
     "name": "stdout",
     "output_type": "stream",
     "text": [
      "5\n"
     ]
    }
   ],
   "source": [
    "a=5\n",
    "b=a   # this is assignment by current value \n",
    "a=6\n",
    "print b  # b stays 5"
   ]
  },
  {
   "cell_type": "code",
   "execution_count": 88,
   "metadata": {},
   "outputs": [
    {
     "name": "stdout",
     "output_type": "stream",
     "text": [
      "five\n"
     ]
    }
   ],
   "source": [
    "A='five'\n",
    "B=A\n",
    "A='six'\n",
    "print B"
   ]
  },
  {
   "cell_type": "code",
   "execution_count": 89,
   "metadata": {},
   "outputs": [
    {
     "name": "stdout",
     "output_type": "stream",
     "text": [
      "[1, 2, 3]\n"
     ]
    }
   ],
   "source": [
    "alist = [1,2,3]\n",
    "blist = alist\n",
    "alist = [4,5,6]\n",
    "print blist"
   ]
  },
  {
   "cell_type": "code",
   "execution_count": 90,
   "metadata": {},
   "outputs": [
    {
     "data": {
      "text/plain": [
       "[4, 5, 4, 5]"
      ]
     },
     "execution_count": 90,
     "metadata": {},
     "output_type": "execute_result"
    }
   ],
   "source": [
    "def add_5(lst):\n",
    "    return lst.append(5)\n",
    "\n",
    "my_list = [4,5,4]\n",
    "add_5(my_list)\n",
    "my_list    # I had a list and then I applied a function on that list and that function MUTATED my list !!!"
   ]
  },
  {
   "cell_type": "code",
   "execution_count": null,
   "metadata": {
    "collapsed": true
   },
   "outputs": [],
   "source": [
    "# what if I don't want my list to be mutated after I apply a function on it?\n",
    "# then you need to created a copy of your list before applying a function on it\n"
   ]
  },
  {
   "cell_type": "markdown",
   "metadata": {},
   "source": [
    "<p><a name=\"mutate\"></a></p>\n",
    "## Mutating Operations on Lists\n",
    "\n",
    "- Lists are a mutable data type. The most important mutating operation is: **assignment**"
   ]
  },
  {
   "cell_type": "code",
   "execution_count": 89,
   "metadata": {},
   "outputs": [],
   "source": [
    "skills = ['Python','SAS','Hadoop']\n",
    "skills[1] = 'R'"
   ]
  },
  {
   "cell_type": "markdown",
   "metadata": {},
   "source": [
    "We see that no value are returned, but the value of `skills` is changed!"
   ]
  },
  {
   "cell_type": "code",
   "execution_count": 90,
   "metadata": {},
   "outputs": [
    {
     "data": {
      "text/plain": [
       "['Python', 'R', 'Hadoop']"
      ]
     },
     "execution_count": 90,
     "metadata": {},
     "output_type": "execute_result"
    }
   ],
   "source": [
    "skills"
   ]
  },
  {
   "cell_type": "code",
   "execution_count": 93,
   "metadata": {},
   "outputs": [
    {
     "data": {
      "text/plain": [
       "['Python', 'R', 'Hadoop']"
      ]
     },
     "execution_count": 93,
     "metadata": {},
     "output_type": "execute_result"
    }
   ],
   "source": [
    "skills = ['Python','SAS','Hadoop']\n",
    "my_skills = skills\n",
    "skills[1] = 'R'     # no assignment to my_skills\n",
    "my_skills           # THIS IS SO WEIRD AND I DID NOT EXPECT my_skills TO CHANGE"
   ]
  },
  {
   "cell_type": "code",
   "execution_count": 33,
   "metadata": {},
   "outputs": [
    {
     "data": {
      "text/plain": [
       "['Python', 'SAS', 'Hadoop']"
      ]
     },
     "execution_count": 33,
     "metadata": {},
     "output_type": "execute_result"
    }
   ],
   "source": [
    "skills = ['Python','SAS','Hadoop']\n",
    "my_skills = list(skills)  # this will create a new object\n",
    "skills[1] = 'R'     # no assignment to my_skills\n",
    "my_skills   # my_skills didn't change this time"
   ]
  },
  {
   "cell_type": "markdown",
   "metadata": {},
   "source": [
    "We have always added to a list by using `+`, which is non-mutating:"
   ]
  },
  {
   "cell_type": "code",
   "execution_count": 94,
   "metadata": {},
   "outputs": [
    {
     "data": {
      "text/plain": [
       "['a', 'b', 'c', 'd']"
      ]
     },
     "execution_count": 94,
     "metadata": {},
     "output_type": "execute_result"
    }
   ],
   "source": [
    "L = ['a', 'b', 'c']\n",
    "L + ['d']"
   ]
  },
  {
   "cell_type": "markdown",
   "metadata": {},
   "source": [
    "But `L` is not updated:"
   ]
  },
  {
   "cell_type": "code",
   "execution_count": 95,
   "metadata": {},
   "outputs": [
    {
     "data": {
      "text/plain": [
       "['a', 'b', 'c']"
      ]
     },
     "execution_count": 95,
     "metadata": {},
     "output_type": "execute_result"
    }
   ],
   "source": [
    "L"
   ]
  },
  {
   "cell_type": "markdown",
   "metadata": {},
   "source": [
    "Assigning the value back to `L` updates it:"
   ]
  },
  {
   "cell_type": "code",
   "execution_count": 96,
   "metadata": {},
   "outputs": [
    {
     "data": {
      "text/plain": [
       "['a', 'b', 'c', 'd']"
      ]
     },
     "execution_count": 96,
     "metadata": {},
     "output_type": "execute_result"
    }
   ],
   "source": [
    "L = L + ['d']   \n",
    "L"
   ]
  },
  {
   "cell_type": "markdown",
   "metadata": {},
   "source": [
    "The `append` operation mutates a list:"
   ]
  },
  {
   "cell_type": "code",
   "execution_count": 97,
   "metadata": {},
   "outputs": [
    {
     "data": {
      "text/plain": [
       "['a', 'b', 'c', 'd', 'e']"
      ]
     },
     "execution_count": 97,
     "metadata": {},
     "output_type": "execute_result"
    }
   ],
   "source": [
    "L.append('e')\n",
    "L"
   ]
  },
  {
   "cell_type": "markdown",
   "metadata": {},
   "source": [
    "We have already seen `sorted(lis)`, which is a non-mutating sort operation:"
   ]
  },
  {
   "cell_type": "code",
   "execution_count": 98,
   "metadata": {},
   "outputs": [
    {
     "data": {
      "text/plain": [
       "[1, 2, 4, 6]"
      ]
     },
     "execution_count": 98,
     "metadata": {},
     "output_type": "execute_result"
    }
   ],
   "source": [
    "lis = [4, 2, 6, 1]\n",
    "sorted(lis)"
   ]
  },
  {
   "cell_type": "code",
   "execution_count": 99,
   "metadata": {},
   "outputs": [
    {
     "data": {
      "text/plain": [
       "[4, 2, 6, 1]"
      ]
     },
     "execution_count": 99,
     "metadata": {},
     "output_type": "execute_result"
    }
   ],
   "source": [
    "lis"
   ]
  },
  {
   "cell_type": "markdown",
   "metadata": {},
   "source": [
    "`lis.sort()` is a mutating sort operation:"
   ]
  },
  {
   "cell_type": "code",
   "execution_count": 100,
   "metadata": {},
   "outputs": [
    {
     "data": {
      "text/plain": [
       "[1, 2, 4, 6]"
      ]
     },
     "execution_count": 100,
     "metadata": {},
     "output_type": "execute_result"
    }
   ],
   "source": [
    "lis.sort()    # as a rule of thump, mutating operations do not return anything (like mylist.sort()) \n",
    "lis          # but non-mutating opetaions return something (like sorted(mylist))"
   ]
  },
  {
   "cell_type": "markdown",
   "metadata": {},
   "source": [
    "It follows from what we’ve seen that a mutating operation applied to a list `L` can change the value of another variable if that variable is pointing to the same memory location as `L`:"
   ]
  },
  {
   "cell_type": "code",
   "execution_count": 101,
   "metadata": {},
   "outputs": [
    {
     "data": {
      "text/plain": [
       "[1, 2, 4, 6]"
      ]
     },
     "execution_count": 101,
     "metadata": {},
     "output_type": "execute_result"
    }
   ],
   "source": [
    "lis = [4, 2, 6, 1]\n",
    "lis2 = lis   # lis2 points to the same place in memory that is holding [4,2,6,1]\n",
    "lis.sort()\n",
    "lis2\n",
    "\n",
    "# mutating"
   ]
  },
  {
   "cell_type": "code",
   "execution_count": 102,
   "metadata": {},
   "outputs": [
    {
     "data": {
      "text/plain": [
       "[4, 2, 6, 1]"
      ]
     },
     "execution_count": 102,
     "metadata": {},
     "output_type": "execute_result"
    }
   ],
   "source": [
    "# how can we do the above non-mutating?\n",
    "\n",
    "lis = [4, 2, 6, 1]\n",
    "lis2 = list(lis)  #lis2 is now pointing to a completely new copy of lis \n",
    "lis.sort()\n",
    "lis2\n",
    "\n",
    "# non-mutating"
   ]
  },
  {
   "cell_type": "markdown",
   "metadata": {},
   "source": [
    "Using `sorted(lis)` doesn't cause the change on `lis2`."
   ]
  },
  {
   "cell_type": "code",
   "execution_count": 103,
   "metadata": {},
   "outputs": [
    {
     "data": {
      "text/plain": [
       "[1, 2, 4, 6]"
      ]
     },
     "execution_count": 103,
     "metadata": {},
     "output_type": "execute_result"
    }
   ],
   "source": [
    "lis = [4, 2, 6, 1]\n",
    "lis2 = lis\n",
    "sorted(lis)"
   ]
  },
  {
   "cell_type": "code",
   "execution_count": 104,
   "metadata": {},
   "outputs": [
    {
     "data": {
      "text/plain": [
       "[4, 2, 6, 1]"
      ]
     },
     "execution_count": 104,
     "metadata": {},
     "output_type": "execute_result"
    }
   ],
   "source": [
    "lis2"
   ]
  },
  {
   "cell_type": "markdown",
   "metadata": {},
   "source": [
    "This is called a side effect of the mutating operation.  Programmers try to avoid side effects, because it is difficult to understand code when variables can change without even being mentioned.\n",
    "\n",
    "Note that the mutating operations we have seen have no value, or rather, their value is `None`.  Try:"
   ]
  },
  {
   "cell_type": "code",
   "execution_count": 105,
   "metadata": {},
   "outputs": [
    {
     "name": "stdout",
     "output_type": "stream",
     "text": [
      "None\n",
      "None\n"
     ]
    }
   ],
   "source": [
    "print lis.sort()\n",
    "print lis.append(4)"
   ]
  },
  {
   "cell_type": "markdown",
   "metadata": {},
   "source": [
    "It follows that we cannot use mutating operations in a map or filter, because those depend upon the value of the expression.  This is an attempt to extend every element of a nested list:"
   ]
  },
  {
   "cell_type": "code",
   "execution_count": 106,
   "metadata": {},
   "outputs": [
    {
     "data": {
      "text/plain": [
       "[None, None, None]"
      ]
     },
     "execution_count": 106,
     "metadata": {},
     "output_type": "execute_result"
    }
   ],
   "source": [
    "L = [[1], [2], [3]]\n",
    "map(lambda l: l.append(4), L)\n",
    "\n",
    "# append a mutating operation and does not print anything and when we print it, it returns nothing"
   ]
  },
  {
   "cell_type": "code",
   "execution_count": 107,
   "metadata": {},
   "outputs": [
    {
     "data": {
      "text/plain": [
       "[[1, 4], [2, 4], [3, 4]]"
      ]
     },
     "execution_count": 107,
     "metadata": {},
     "output_type": "execute_result"
    }
   ],
   "source": [
    "L"
   ]
  },
  {
   "cell_type": "markdown",
   "metadata": {},
   "source": [
    "`sort` and `sorted` use the first element as the primary sort key, the second element as the second sort key, etc., and they sort in ascending order. You can customize the sort using two different arguments:\n",
    " - Sort on a user-defined key:"
   ]
  },
  {
   "cell_type": "code",
   "execution_count": 91,
   "metadata": {},
   "outputs": [
    {
     "data": {
      "text/plain": [
       "[['John', 'B', 3], ['Lucy', 'A', 9], ['Peter', 'A', 6]]"
      ]
     },
     "execution_count": 91,
     "metadata": {},
     "output_type": "execute_result"
    }
   ],
   "source": [
    "staff =[['Lucy','A',9], ['John','B',3], ['Peter','A',6]]\n",
    "print sorted(staff)\n",
    "print sorted(staff, key = lambda x: x[2])  # key is ID number"
   ]
  },
  {
   "cell_type": "markdown",
   "metadata": {},
   "source": [
    "You can define functions that use mutating operations.  If the purpose of a function is to perform a mutating operation, it does not need a return value.\n",
    "\n",
    "This function sorts a nested list, using the given element of each sublist as the sort key:"
   ]
  },
  {
   "cell_type": "code",
   "execution_count": 34,
   "metadata": {
    "collapsed": true
   },
   "outputs": [],
   "source": [
    "def sort_on_field(lis, fld):\n",
    "    lis.sort(key = lambda x: x[fld])\n",
    "\n",
    "L = [['a', 4], ['b', 1], ['c', 7], ['d', 3]]\n",
    "sort_on_field(L, 1)"
   ]
  },
  {
   "cell_type": "markdown",
   "metadata": {},
   "source": [
    "It has no return, and does not produce a value. But it mutates the variable."
   ]
  },
  {
   "cell_type": "code",
   "execution_count": 35,
   "metadata": {},
   "outputs": [
    {
     "data": {
      "text/plain": [
       "[['b', 1], ['d', 3], ['a', 4], ['c', 7]]"
      ]
     },
     "execution_count": 35,
     "metadata": {},
     "output_type": "execute_result"
    }
   ],
   "source": [
    "L"
   ]
  },
  {
   "cell_type": "markdown",
   "metadata": {},
   "source": [
    "**Exercise 5**\n",
    "\n",
    "Write a function to switch the ith and jth items in a list.\n",
    "```\n",
    "def switch_item(L, i, j):\n",
    "    ... function body goes here ...\n",
    "\n",
    "my_list = ['first', 'second', 'third', 'fourth']\n",
    "switch_item(my_list, 1, -1)\n",
    "my_list ---> ['first', 'fourth', 'third', 'second']\n",
    "```"
   ]
  },
  {
   "cell_type": "code",
   "execution_count": 114,
   "metadata": {},
   "outputs": [
    {
     "data": {
      "text/plain": [
       "[6, 2, 3, 4, 5, 1]"
      ]
     },
     "execution_count": 114,
     "metadata": {},
     "output_type": "execute_result"
    }
   ],
   "source": [
    "#### Your code here\n",
    "\n",
    "# mutating version:\n",
    "\n",
    "def switch(L,i,j):\n",
    "    temp=L[i]\n",
    "    L[i]= L[j]\n",
    "    L[j]=temp\n",
    "    \n",
    "L = [1,2,3,4,5,6]\n",
    "switch(L,0,5)\n",
    "\n",
    "L   # notice that L mutated"
   ]
  },
  {
   "cell_type": "code",
   "execution_count": 117,
   "metadata": {},
   "outputs": [
    {
     "name": "stdout",
     "output_type": "stream",
     "text": [
      "[6, 2, 3, 4, 5, 1]\n",
      "[1, 2, 3, 4, 5, 6]\n"
     ]
    }
   ],
   "source": [
    "# non-mutating version\n",
    "\n",
    "def switch(L,i,j):\n",
    "    newL = list(L)\n",
    "    newL[i]=L[j]\n",
    "    newL[j]=L[i]\n",
    "    return newL\n",
    "\n",
    "L = [1,2,3,4,5,6]\n",
    "print switch(L,0,5)\n",
    "\n",
    "print L  # notice that L DID NOT mutate\n",
    "  \n",
    "    "
   ]
  },
  {
   "cell_type": "markdown",
   "metadata": {
    "collapsed": true
   },
   "source": [
    "<p><a name=\"TSD\"></a></p>\n",
    "## Tuples, sets and dictionaries\n",
    "\n",
    "We can now explain the other data types of Python.\n",
    "- **Tuples**:  Tuples are like lists, but are immutable.\n",
    "- **Sets**:  Also like lists, except that they do not have duplicate elements.  Immutable.\n",
    "- **Dictionaries**:  These are tables that associate values with keys (usually strings).  Mutable.\n",
    "- **Strings**:  Like lists of characters.  Immutable.\n",
    "\n",
    "** Strings**\n",
    "\n",
    "Strings are immutable"
   ]
  },
  {
   "cell_type": "code",
   "execution_count": 118,
   "metadata": {},
   "outputs": [
    {
     "ename": "TypeError",
     "evalue": "'str' object does not support item assignment",
     "output_type": "error",
     "traceback": [
      "\u001b[0;31m---------------------------------------------------------------------------\u001b[0m",
      "\u001b[0;31mTypeError\u001b[0m                                 Traceback (most recent call last)",
      "\u001b[0;32m<ipython-input-118-869500a388c4>\u001b[0m in \u001b[0;36m<module>\u001b[0;34m()\u001b[0m\n\u001b[1;32m      1\u001b[0m \u001b[0mcompany\u001b[0m \u001b[1;33m=\u001b[0m \u001b[1;34m'NYC DataScience Academy'\u001b[0m\u001b[1;33m\u001b[0m\u001b[0m\n\u001b[0;32m----> 2\u001b[0;31m \u001b[0mcompany\u001b[0m\u001b[1;33m[\u001b[0m\u001b[1;36m0\u001b[0m\u001b[1;33m]\u001b[0m \u001b[1;33m=\u001b[0m \u001b[1;34m'A'\u001b[0m\u001b[1;33m\u001b[0m\u001b[0m\n\u001b[0m\u001b[1;32m      3\u001b[0m \u001b[1;33m\u001b[0m\u001b[0m\n\u001b[1;32m      4\u001b[0m \u001b[1;31m# this is not going to work\u001b[0m\u001b[1;33m\u001b[0m\u001b[1;33m\u001b[0m\u001b[0m\n",
      "\u001b[0;31mTypeError\u001b[0m: 'str' object does not support item assignment"
     ]
    }
   ],
   "source": [
    "company = 'NYC DataScience Academy'\n",
    "company[0] = 'A'\n",
    "\n",
    "# this is not going to work "
   ]
  },
  {
   "cell_type": "code",
   "execution_count": 119,
   "metadata": {},
   "outputs": [
    {
     "data": {
      "text/plain": [
       "'AYC DataScience Academy'"
      ]
     },
     "execution_count": 119,
     "metadata": {},
     "output_type": "execute_result"
    }
   ],
   "source": [
    "# we can mutate company if we want to:\n",
    "company = 'NYC DataScience Academy'\n",
    "company = 'A' + company[1:]\n",
    "company"
   ]
  },
  {
   "cell_type": "markdown",
   "metadata": {
    "collapsed": true
   },
   "source": [
    "** Tuples**\n",
    "\n",
    "- Tuples are similar to lists, but they are immutable.\n",
    "- Tuples are written with parentheses instead of square brackets."
   ]
  },
  {
   "cell_type": "code",
   "execution_count": 93,
   "metadata": {},
   "outputs": [
    {
     "ename": "TypeError",
     "evalue": "'tuple' object does not support item assignment",
     "output_type": "error",
     "traceback": [
      "\u001b[1;31m---------------------------------------------------------------------------\u001b[0m",
      "\u001b[1;31mTypeError\u001b[0m                                 Traceback (most recent call last)",
      "\u001b[1;32m<ipython-input-93-ffefd6d7b3e3>\u001b[0m in \u001b[0;36m<module>\u001b[1;34m()\u001b[0m\n\u001b[0;32m      1\u001b[0m \u001b[0mcourses\u001b[0m \u001b[1;33m=\u001b[0m \u001b[1;33m(\u001b[0m\u001b[1;34m'Programming'\u001b[0m\u001b[1;33m,\u001b[0m \u001b[1;34m'Stats'\u001b[0m\u001b[1;33m,\u001b[0m \u001b[1;34m'Math'\u001b[0m\u001b[1;33m)\u001b[0m\u001b[1;33m\u001b[0m\u001b[0m\n\u001b[1;32m----> 2\u001b[1;33m \u001b[0mcourses\u001b[0m\u001b[1;33m[\u001b[0m\u001b[1;36m2\u001b[0m\u001b[1;33m]\u001b[0m \u001b[1;33m=\u001b[0m \u001b[1;34m'Algorithms'\u001b[0m\u001b[1;33m\u001b[0m\u001b[0m\n\u001b[0m\u001b[0;32m      3\u001b[0m \u001b[1;33m\u001b[0m\u001b[0m\n\u001b[0;32m      4\u001b[0m \u001b[1;31m# it won't work ... tuple will not accept mutating operations\u001b[0m\u001b[1;33m\u001b[0m\u001b[1;33m\u001b[0m\u001b[0m\n",
      "\u001b[1;31mTypeError\u001b[0m: 'tuple' object does not support item assignment"
     ]
    }
   ],
   "source": [
    "courses = ('Programming', 'Stats', 'Math') \n",
    "courses[2] = 'Algorithms'\n",
    "\n",
    "# it won't work ... tuple will not accept mutating operations"
   ]
  },
  {
   "cell_type": "markdown",
   "metadata": {},
   "source": [
    "- Tuples support all the non-mutating list operations:"
   ]
  },
  {
   "cell_type": "code",
   "execution_count": 94,
   "metadata": {},
   "outputs": [
    {
     "data": {
      "text/plain": [
       "('Stats', 'Math')"
      ]
     },
     "execution_count": 94,
     "metadata": {},
     "output_type": "execute_result"
    }
   ],
   "source": [
    "courses[1:]"
   ]
  },
  {
   "cell_type": "code",
   "execution_count": 97,
   "metadata": {},
   "outputs": [
    {
     "data": {
      "text/plain": [
       "['PROGRAMMING', 'STATS', 'MATH']"
      ]
     },
     "execution_count": 97,
     "metadata": {},
     "output_type": "execute_result"
    }
   ],
   "source": [
    "map(lambda s: s.upper(), courses)  # we can pass a tuple to map or filter but the output is still going to be a list"
   ]
  },
  {
   "cell_type": "code",
   "execution_count": 98,
   "metadata": {},
   "outputs": [
    {
     "data": {
      "text/plain": [
       "('PROGRAMMING', 'STATS', 'MATH')"
      ]
     },
     "execution_count": 98,
     "metadata": {},
     "output_type": "execute_result"
    }
   ],
   "source": [
    "tuple(map(lambda s: s.upper(), courses))  # if we want the output to be a tuple"
   ]
  },
  {
   "cell_type": "markdown",
   "metadata": {},
   "source": [
    "Tuples and lists both allow a shorthand for assignment that allows all the elements of the tuple or list to be assigned to variables at once:"
   ]
  },
  {
   "cell_type": "code",
   "execution_count": 44,
   "metadata": {},
   "outputs": [
    {
     "data": {
      "text/plain": [
       "1"
      ]
     },
     "execution_count": 44,
     "metadata": {},
     "output_type": "execute_result"
    }
   ],
   "source": [
    "(a,b) = (1,2)   # works with lists also\n",
    "a"
   ]
  },
  {
   "cell_type": "code",
   "execution_count": 45,
   "metadata": {},
   "outputs": [
    {
     "data": {
      "text/plain": [
       "2"
      ]
     },
     "execution_count": 45,
     "metadata": {},
     "output_type": "execute_result"
    }
   ],
   "source": [
    "b"
   ]
  },
  {
   "cell_type": "code",
   "execution_count": 47,
   "metadata": {},
   "outputs": [
    {
     "data": {
      "text/plain": [
       "3"
      ]
     },
     "execution_count": 47,
     "metadata": {},
     "output_type": "execute_result"
    }
   ],
   "source": [
    "[c,d,e]=[1,2,3]\n",
    "e"
   ]
  },
  {
   "cell_type": "markdown",
   "metadata": {},
   "source": [
    "This provides a handy way to swap variables:"
   ]
  },
  {
   "cell_type": "code",
   "execution_count": 125,
   "metadata": {},
   "outputs": [
    {
     "data": {
      "text/plain": [
       "2"
      ]
     },
     "execution_count": 125,
     "metadata": {},
     "output_type": "execute_result"
    }
   ],
   "source": [
    "(a,b) = (b,a)\n",
    "a"
   ]
  },
  {
   "cell_type": "code",
   "execution_count": 126,
   "metadata": {},
   "outputs": [
    {
     "data": {
      "text/plain": [
       "1"
      ]
     },
     "execution_count": 126,
     "metadata": {},
     "output_type": "execute_result"
    }
   ],
   "source": [
    "b"
   ]
  },
  {
   "cell_type": "code",
   "execution_count": 99,
   "metadata": {},
   "outputs": [
    {
     "name": "stdout",
     "output_type": "stream",
     "text": [
      "(26, 5)\n",
      "26\n",
      "5\n"
     ]
    }
   ],
   "source": [
    "# let's create a function that returns 2 variables as a tuple:\n",
    "\n",
    "def sum_num(L):\n",
    "    return (sum(L),len(L))\n",
    "\n",
    "print sum_num([1,4,3,6,12])\n",
    "(summa, length) = sum_num([1,4,3,6,12])\n",
    "print summa\n",
    "print length"
   ]
  },
  {
   "cell_type": "markdown",
   "metadata": {},
   "source": [
    "<p><a name=\"multiList\"></a></p>\n",
    "** Multiple List Operations **\n",
    "\n",
    "A multiple-list operation is one that combines two lists\n",
    " - Add the elements of two lists of the same length\n",
    " - Rearrange the elements of one list by using elements of another list as subscripts\n",
    " - Select elements of one list corresponding to the True elements in a list of boolean values\n",
    "\n",
    "These operations require that we map simultaneously over two lists. There are two ways to do this:\n",
    " - Use `map`. We’ve used `map` to map over a single list with a unary function, but it can also be used to map over multiple lists.\n",
    " - Use `zip` to put two lists together, then use unary map.\n",
    " \n",
    "`map(fun, lis1, lis2)` applies fun to pairs of elements from `lis1` and `lis2`\n",
    " - `lis1` and `lis2` must have the same length\n",
    " - `fun` is a binary operation whose arguments are of the correct type.\n",
    " \n",
    "If `lis1 = [x0, x1, x2, ...]` and `lis2 = [y0, y1, y2, ...]`, then `map(fun, lis1, lis2)` is equal to `[fun(x0, y0), fun(x1, y1), fun(x2, y2), ...]`."
   ]
  },
  {
   "cell_type": "code",
   "execution_count": 133,
   "metadata": {},
   "outputs": [
    {
     "data": {
      "text/plain": [
       "[11, 22, 33]"
      ]
     },
     "execution_count": 133,
     "metadata": {},
     "output_type": "execute_result"
    }
   ],
   "source": [
    "map(lambda x, y: x+y, [1,2,3], [10,20,30]) # [1+10, 2+20, 3+30]"
   ]
  },
  {
   "cell_type": "code",
   "execution_count": 103,
   "metadata": {},
   "outputs": [
    {
     "data": {
      "text/plain": [
       "[11, 22, 33]"
      ]
     },
     "execution_count": 103,
     "metadata": {},
     "output_type": "execute_result"
    }
   ],
   "source": [
    "# if we wanted to use a for loop (discussed in next session):\n",
    "\n",
    "L1 = [1,2,3]\n",
    "L2= [10,20,30]\n",
    "\n",
    "def add_two(L1, L2):\n",
    "    L = list()\n",
    "    for i in range(len(L1)):\n",
    "        L.append(L1[i]+L2[i])\n",
    "    return L\n",
    "\n",
    "add_two(L1, L2)\n"
   ]
  },
  {
   "cell_type": "code",
   "execution_count": 134,
   "metadata": {},
   "outputs": [
    {
     "data": {
      "text/plain": [
       "[1, 3]"
      ]
     },
     "execution_count": 134,
     "metadata": {},
     "output_type": "execute_result"
    }
   ],
   "source": [
    "map(lambda x, y: x[y], [[1, 2], [2, 3]], [0, 1]) # [[1, 2][0], [2, 3][1]]"
   ]
  },
  {
   "cell_type": "code",
   "execution_count": 135,
   "metadata": {},
   "outputs": [
    {
     "data": {
      "text/plain": [
       "[('a', 1), ('b', 2), ('c', 3)]"
      ]
     },
     "execution_count": 135,
     "metadata": {},
     "output_type": "execute_result"
    }
   ],
   "source": [
    "map(lambda x,y: (x,y),['a','b','c'],[1,2,3])    \n",
    "# this is called zipping and it's such a useful operation that there's a function available in Python for it"
   ]
  },
  {
   "cell_type": "markdown",
   "metadata": {},
   "source": [
    "`zip` is a function that takes two lists of the same length and makes one list containing pairs of corresponding elements of the two lists."
   ]
  },
  {
   "cell_type": "code",
   "execution_count": 136,
   "metadata": {},
   "outputs": [
    {
     "data": {
      "text/plain": [
       "[(1, 5), (2, 6), (3, 7), (4, 8)]"
      ]
     },
     "execution_count": 136,
     "metadata": {},
     "output_type": "execute_result"
    }
   ],
   "source": [
    "a = [1, 2, 3, 4]\n",
    "b = [5, 6, 7, 8]\n",
    "zip(a, b)"
   ]
  },
  {
   "cell_type": "markdown",
   "metadata": {},
   "source": [
    "The elements in the zipped list are tuples. These are just like lists, but are written using parentheses instead of square brackets. \n",
    "zip provides an alternative to binary map:"
   ]
  },
  {
   "cell_type": "code",
   "execution_count": 137,
   "metadata": {},
   "outputs": [
    {
     "data": {
      "text/plain": [
       "[11, 22, 33]"
      ]
     },
     "execution_count": 137,
     "metadata": {},
     "output_type": "execute_result"
    }
   ],
   "source": [
    "map(lambda p: p[0]+p[1], zip([1,2,3], [10,20,30]))"
   ]
  },
  {
   "cell_type": "markdown",
   "metadata": {},
   "source": [
    "Both `map` and `zip` can actually apply to more than two lists, in the “obvious” way:"
   ]
  },
  {
   "cell_type": "code",
   "execution_count": 138,
   "metadata": {},
   "outputs": [
    {
     "data": {
      "text/plain": [
       "[(1, 5, 9), (2, 6, 10), (3, 7, 11)]"
      ]
     },
     "execution_count": 138,
     "metadata": {},
     "output_type": "execute_result"
    }
   ],
   "source": [
    "a = [1, 2, 3]\n",
    "b = [5, 6, 7]\n",
    "c = [9, 10, 11]\n",
    "zip(a, b, c)"
   ]
  },
  {
   "cell_type": "code",
   "execution_count": 139,
   "metadata": {},
   "outputs": [
    {
     "data": {
      "text/plain": [
       "[15, 18, 21]"
      ]
     },
     "execution_count": 139,
     "metadata": {},
     "output_type": "execute_result"
    }
   ],
   "source": [
    "map(lambda t: t[0]+t[1]+t[2], zip(a,b,c))"
   ]
  },
  {
   "cell_type": "code",
   "execution_count": 140,
   "metadata": {},
   "outputs": [
    {
     "data": {
      "text/plain": [
       "[15, 18, 21]"
      ]
     },
     "execution_count": 140,
     "metadata": {},
     "output_type": "execute_result"
    }
   ],
   "source": [
    "map(lambda x, y, z: x+y+z, a, b, c)"
   ]
  },
  {
   "cell_type": "markdown",
   "metadata": {},
   "source": [
    "**Set**\n",
    "\n",
    "- A set is an unordered collection with no duplicate elements.  Sets are immutable.\n",
    "\n",
    "- To create a set, you can use either curly braces or the `set()` function."
   ]
  },
  {
   "cell_type": "code",
   "execution_count": 49,
   "metadata": {},
   "outputs": [
    {
     "data": {
      "text/plain": [
       "{'a', 'e', 'i', 'o', 'u'}"
      ]
     },
     "execution_count": 49,
     "metadata": {},
     "output_type": "execute_result"
    }
   ],
   "source": [
    "vowels = {'u','a','e','i','o','u','i'}\n",
    "vowels"
   ]
  },
  {
   "cell_type": "code",
   "execution_count": 105,
   "metadata": {},
   "outputs": [
    {
     "data": {
      "text/plain": [
       "{'apple', 'orange', 'pear'}"
      ]
     },
     "execution_count": 105,
     "metadata": {},
     "output_type": "execute_result"
    }
   ],
   "source": [
    "fruit = set(['apple', 'orange', 'apple', 'pear'])\n",
    "fruit"
   ]
  },
  {
   "cell_type": "markdown",
   "metadata": {},
   "source": [
    "- Sets support non-mutating list operations, as long as they don’t depend on order:"
   ]
  },
  {
   "cell_type": "code",
   "execution_count": 115,
   "metadata": {},
   "outputs": [
    {
     "ename": "TypeError",
     "evalue": "'set' object does not support indexing",
     "output_type": "error",
     "traceback": [
      "\u001b[1;31m---------------------------------------------------------------------------\u001b[0m",
      "\u001b[1;31mTypeError\u001b[0m                                 Traceback (most recent call last)",
      "\u001b[1;32m<ipython-input-115-536719268e12>\u001b[0m in \u001b[0;36m<module>\u001b[1;34m()\u001b[0m\n\u001b[0;32m      1\u001b[0m \u001b[0mprimes\u001b[0m \u001b[1;33m=\u001b[0m \u001b[1;33m{\u001b[0m\u001b[1;36m2\u001b[0m\u001b[1;33m,\u001b[0m \u001b[1;36m3\u001b[0m\u001b[1;33m,\u001b[0m \u001b[1;36m5\u001b[0m\u001b[1;33m,\u001b[0m \u001b[1;36m7\u001b[0m\u001b[1;33m}\u001b[0m\u001b[1;33m\u001b[0m\u001b[0m\n\u001b[1;32m----> 2\u001b[1;33m \u001b[0mprimes\u001b[0m\u001b[1;33m[\u001b[0m\u001b[1;36m2\u001b[0m\u001b[1;33m]\u001b[0m\u001b[1;33m\u001b[0m\u001b[0m\n\u001b[0m\u001b[0;32m      3\u001b[0m \u001b[1;33m\u001b[0m\u001b[0m\n\u001b[0;32m      4\u001b[0m \u001b[1;31m# there is no order in sets\u001b[0m\u001b[1;33m\u001b[0m\u001b[1;33m\u001b[0m\u001b[0m\n",
      "\u001b[1;31mTypeError\u001b[0m: 'set' object does not support indexing"
     ]
    }
   ],
   "source": [
    "primes = {2, 3, 5, 7}\n",
    "primes[2]\n",
    "\n",
    "# there is no order in sets"
   ]
  },
  {
   "cell_type": "code",
   "execution_count": 144,
   "metadata": {},
   "outputs": [
    {
     "data": {
      "text/plain": [
       "17"
      ]
     },
     "execution_count": 144,
     "metadata": {},
     "output_type": "execute_result"
    }
   ],
   "source": [
    "sum(primes)"
   ]
  },
  {
   "cell_type": "code",
   "execution_count": 145,
   "metadata": {},
   "outputs": [
    {
     "data": {
      "text/plain": [
       "4"
      ]
     },
     "execution_count": 145,
     "metadata": {},
     "output_type": "execute_result"
    }
   ],
   "source": [
    "len(primes)"
   ]
  },
  {
   "cell_type": "code",
   "execution_count": 56,
   "metadata": {},
   "outputs": [
    {
     "data": {
      "text/plain": [
       "[4, 9, 25, 49]"
      ]
     },
     "execution_count": 56,
     "metadata": {},
     "output_type": "execute_result"
    }
   ],
   "source": [
    "map(lambda x: x*x, primes)      #map expects a list and since primes in not a list, it turns it to a list first"
   ]
  },
  {
   "cell_type": "code",
   "execution_count": 116,
   "metadata": {},
   "outputs": [
    {
     "data": {
      "text/plain": [
       "{2, 3, 5, 7, 11}"
      ]
     },
     "execution_count": 116,
     "metadata": {},
     "output_type": "execute_result"
    }
   ],
   "source": [
    "# adding an elemnt to a set:\n",
    "\n",
    "primes.add(11)\n",
    "primes"
   ]
  },
  {
   "cell_type": "code",
   "execution_count": 117,
   "metadata": {},
   "outputs": [
    {
     "data": {
      "text/plain": [
       "{2, 3, 5, 7, 11, 13}"
      ]
     },
     "execution_count": 117,
     "metadata": {},
     "output_type": "execute_result"
    }
   ],
   "source": [
    "# we can also use the | operator:\n",
    "\n",
    "primes = primes | {13}\n",
    "primes"
   ]
  },
  {
   "cell_type": "markdown",
   "metadata": {},
   "source": [
    "- Sets have mathematical operations like union (`|`), intersection (`&`), difference (`-`), and symmetric difference (`^`)."
   ]
  },
  {
   "cell_type": "code",
   "execution_count": 147,
   "metadata": {},
   "outputs": [
    {
     "data": {
      "text/plain": [
       "{'a', 'b', 'c', 'd'}"
      ]
     },
     "execution_count": 147,
     "metadata": {},
     "output_type": "execute_result"
    }
   ],
   "source": [
    "set_1 = {'a', 'b', 'c'}\n",
    "set_2 = {'b', 'c', 'd'}\n",
    "\n",
    "set_1 | set_2       # union"
   ]
  },
  {
   "cell_type": "code",
   "execution_count": 148,
   "metadata": {},
   "outputs": [
    {
     "data": {
      "text/plain": [
       "{'b', 'c'}"
      ]
     },
     "execution_count": 148,
     "metadata": {},
     "output_type": "execute_result"
    }
   ],
   "source": [
    "set_1 & set_2       # intersection"
   ]
  },
  {
   "cell_type": "code",
   "execution_count": 149,
   "metadata": {},
   "outputs": [
    {
     "data": {
      "text/plain": [
       "{'a'}"
      ]
     },
     "execution_count": 149,
     "metadata": {},
     "output_type": "execute_result"
    }
   ],
   "source": [
    "set_1 - set_2       # difference"
   ]
  },
  {
   "cell_type": "code",
   "execution_count": 150,
   "metadata": {},
   "outputs": [
    {
     "data": {
      "text/plain": [
       "{'a', 'd'}"
      ]
     },
     "execution_count": 150,
     "metadata": {},
     "output_type": "execute_result"
    }
   ],
   "source": [
    "set_1 ^ set_2       # symmetric difference (a-b | b-a)"
   ]
  },
  {
   "cell_type": "code",
   "execution_count": 151,
   "metadata": {},
   "outputs": [
    {
     "data": {
      "text/plain": [
       "{'a', 'b', 'c', 'd'}"
      ]
     },
     "execution_count": 151,
     "metadata": {},
     "output_type": "execute_result"
    }
   ],
   "source": [
    "set_1.union(set_2)"
   ]
  },
  {
   "cell_type": "code",
   "execution_count": 152,
   "metadata": {},
   "outputs": [
    {
     "data": {
      "text/plain": [
       "{'b', 'c'}"
      ]
     },
     "execution_count": 152,
     "metadata": {},
     "output_type": "execute_result"
    }
   ],
   "source": [
    "set_1.intersection(set_2)"
   ]
  },
  {
   "cell_type": "code",
   "execution_count": 153,
   "metadata": {},
   "outputs": [
    {
     "data": {
      "text/plain": [
       "{'a'}"
      ]
     },
     "execution_count": 153,
     "metadata": {},
     "output_type": "execute_result"
    }
   ],
   "source": [
    "set_1.difference(set_2)"
   ]
  },
  {
   "cell_type": "code",
   "execution_count": 154,
   "metadata": {},
   "outputs": [
    {
     "data": {
      "text/plain": [
       "{'a', 'b', 'c', 'd'}"
      ]
     },
     "execution_count": 154,
     "metadata": {},
     "output_type": "execute_result"
    }
   ],
   "source": [
    "set.union(set_1,set_2)    "
   ]
  },
  {
   "cell_type": "code",
   "execution_count": 155,
   "metadata": {},
   "outputs": [
    {
     "data": {
      "text/plain": [
       "{'b', 'c'}"
      ]
     },
     "execution_count": 155,
     "metadata": {},
     "output_type": "execute_result"
    }
   ],
   "source": [
    "set.intersection(set_1,set_2)"
   ]
  },
  {
   "cell_type": "markdown",
   "metadata": {},
   "source": [
    "**Dictionaries**\n",
    "\n",
    "- A dictionary is a set of keys with associated values. Each key can have just one value associated with it.  Dictionaries are mutable.\n",
    " - Any immutable object can be a key, including numbers, strings, and tuples of numbers or strings.  Strings are most common.\n",
    " - Any object can be a value.\n",
    "\n",
    "- Dictionaries are written in set braces (like sets), with the key/value pairs separated by colons:\n"
   ]
  },
  {
   "cell_type": "code",
   "execution_count": 64,
   "metadata": {
    "collapsed": true
   },
   "outputs": [],
   "source": [
    "employee = {'sex': 'male', 'height': 6.1, 'age': 30}\n",
    "# keys and values\n",
    "# values don't need to be of the same type"
   ]
  },
  {
   "cell_type": "markdown",
   "metadata": {},
   "source": [
    "The most important operation on dictionaries is key lookup:"
   ]
  },
  {
   "cell_type": "code",
   "execution_count": 160,
   "metadata": {},
   "outputs": [
    {
     "data": {
      "text/plain": [
       "30"
      ]
     },
     "execution_count": 160,
     "metadata": {},
     "output_type": "execute_result"
    }
   ],
   "source": [
    "employee['age']"
   ]
  },
  {
   "cell_type": "markdown",
   "metadata": {},
   "source": [
    "We can add new key: value pairs to the dictionary:"
   ]
  },
  {
   "cell_type": "code",
   "execution_count": 65,
   "metadata": {},
   "outputs": [
    {
     "data": {
      "text/plain": [
       "{'age': 30, 'city': 'New York', 'height': 6.1, 'sex': 'male'}"
      ]
     },
     "execution_count": 65,
     "metadata": {},
     "output_type": "execute_result"
    }
   ],
   "source": [
    "employee['city'] = 'New York'\n",
    "employee"
   ]
  },
  {
   "cell_type": "markdown",
   "metadata": {},
   "source": [
    "It is illegal to access a key that is not present:"
   ]
  },
  {
   "cell_type": "code",
   "execution_count": 66,
   "metadata": {},
   "outputs": [
    {
     "ename": "KeyError",
     "evalue": "'weight'",
     "output_type": "error",
     "traceback": [
      "\u001b[1;31m---------------------------------------------------------------------------\u001b[0m",
      "\u001b[1;31mKeyError\u001b[0m                                  Traceback (most recent call last)",
      "\u001b[1;32m<ipython-input-66-3c82ab1a132a>\u001b[0m in \u001b[0;36m<module>\u001b[1;34m()\u001b[0m\n\u001b[1;32m----> 1\u001b[1;33m \u001b[0memployee\u001b[0m\u001b[1;33m[\u001b[0m\u001b[1;34m'weight'\u001b[0m\u001b[1;33m]\u001b[0m\u001b[1;33m\u001b[0m\u001b[0m\n\u001b[0m",
      "\u001b[1;31mKeyError\u001b[0m: 'weight'"
     ]
    }
   ],
   "source": [
    "employee['weight']"
   ]
  },
  {
   "cell_type": "markdown",
   "metadata": {},
   "source": [
    "but you can check if a key is present using the in operator:"
   ]
  },
  {
   "cell_type": "code",
   "execution_count": 163,
   "metadata": {},
   "outputs": [
    {
     "data": {
      "text/plain": [
       "False"
      ]
     },
     "execution_count": 163,
     "metadata": {},
     "output_type": "execute_result"
    }
   ],
   "source": [
    "'weight' in employee"
   ]
  },
  {
   "cell_type": "code",
   "execution_count": 166,
   "metadata": {},
   "outputs": [
    {
     "data": {
      "text/plain": [
       "True"
      ]
     },
     "execution_count": 166,
     "metadata": {},
     "output_type": "execute_result"
    }
   ],
   "source": [
    "'sex' in employee"
   ]
  },
  {
   "cell_type": "markdown",
   "metadata": {},
   "source": [
    "For convenience, you can construct a dictionary from a list (or set) of tuples:"
   ]
  },
  {
   "cell_type": "code",
   "execution_count": 67,
   "metadata": {},
   "outputs": [
    {
     "data": {
      "text/plain": [
       "{'guido': 4127, 'jack': 4098, 'sape': 4139}"
      ]
     },
     "execution_count": 67,
     "metadata": {},
     "output_type": "execute_result"
    }
   ],
   "source": [
    "dict([('sape', 4139), ('guido', 4127), ('jack', 4098)])"
   ]
  },
  {
   "cell_type": "markdown",
   "metadata": {},
   "source": [
    "You can also get a list of the keys, the values, or all key/value pairs:"
   ]
  },
  {
   "cell_type": "code",
   "execution_count": 168,
   "metadata": {},
   "outputs": [
    {
     "data": {
      "text/plain": [
       "['age', 'height', 'sex']"
      ]
     },
     "execution_count": 168,
     "metadata": {},
     "output_type": "execute_result"
    }
   ],
   "source": [
    "employee = {'sex': 'male', 'height': 6.1, 'age': 30}\n",
    "employee.keys()"
   ]
  },
  {
   "cell_type": "code",
   "execution_count": 169,
   "metadata": {},
   "outputs": [
    {
     "data": {
      "text/plain": [
       "[30, 6.1, 'male']"
      ]
     },
     "execution_count": 169,
     "metadata": {},
     "output_type": "execute_result"
    }
   ],
   "source": [
    "employee.values()"
   ]
  },
  {
   "cell_type": "code",
   "execution_count": 170,
   "metadata": {},
   "outputs": [
    {
     "data": {
      "text/plain": [
       "[('age', 30), ('height', 6.1), ('sex', 'male')]"
      ]
     },
     "execution_count": 170,
     "metadata": {},
     "output_type": "execute_result"
    }
   ],
   "source": [
    "employee.items()"
   ]
  },
  {
   "cell_type": "markdown",
   "metadata": {},
   "source": [
    "You could represent a table as a list of pairs, use append to add items, and use filter to look them up:"
   ]
  },
  {
   "cell_type": "code",
   "execution_count": 68,
   "metadata": {},
   "outputs": [
    {
     "data": {
      "text/plain": [
       "'male'"
      ]
     },
     "execution_count": 68,
     "metadata": {},
     "output_type": "execute_result"
    }
   ],
   "source": [
    "employee = [('sex', 'male'), ('height', 6.1), ('age', 30)]\n",
    "filter(lambda x: x[0]=='sex', employee)[0][1]"
   ]
  },
  {
   "cell_type": "markdown",
   "metadata": {},
   "source": [
    "**Exercise 6**\n",
    "\n",
    "- Given the following dictionary:\n",
    "```\n",
    "inventory = {'pumpkin': 20, 'fruit': ['apple', 'pear'], 'vegetable': ['potato','onion','lettuce']}\n",
    "```\n",
    "- Modify inventory as follows:\n",
    " - Add a meat inventory item containing 'beef', 'chicken', and 'pork'.\n",
    " - Sort the vegetables (Recall the sorted function.)\n",
    " - Add five more pumpkins.\n",
    "After these changes, inventory is:\n",
    "```\n",
    "{'vegetable': ['lettuce', 'onion', 'potato'], 'fruit': ['apple', 'pear'],\n",
    " 'meat': ['beef', 'chicken', 'pork'], 'pumpkin': 25}\n",
    "```"
   ]
  },
  {
   "cell_type": "code",
   "execution_count": null,
   "metadata": {
    "collapsed": true
   },
   "outputs": [],
   "source": [
    "inventory = {'pumpkin' : 20, 'fruit' : ['apple', 'pear'],\n",
    "           'vegetable' : ['potato','onion','lettuce']}\n",
    "\n",
    "#### Your code here\n",
    "\n",
    "inventory['meat'] = ['beef', 'chicken', 'pork']\n",
    "inventory['vegetable'].sort()  # sorts and mutates\n",
    "inventory['pumpkin'] = inventory['pumpkin'] + 5\n",
    "# alternate way: inventory['pumpkin'] += 5\n",
    "\n",
    "print inventory"
   ]
  },
  {
   "cell_type": "markdown",
   "metadata": {
    "collapsed": true
   },
   "source": [
    "<p><a name=\"quiz\"></a></p>\n",
    "# Quiz"
   ]
  },
  {
   "cell_type": "markdown",
   "metadata": {},
   "source": [
    "**Ex1** Write a function called **ex_1** to find the lines in a file that **contain** a word1 but **do not contain** word2.\n"
   ]
  },
  {
   "cell_type": "code",
   "execution_count": 192,
   "metadata": {},
   "outputs": [
    {
     "name": "stdout",
     "output_type": "stream",
     "text": [
      "a fisherman in May.\"\n",
      "\"They say his father was a fisherman.  Maybe he was as poor as we are\n",
      "\"And the best fisherman is you.\"\n",
      "Perhaps I should not have been a fisherman, he thought.  But that was\n",
      "he is young and strong.  Also his father was a fisherman.  But would\n",
      "born to be a fisherman as the fish was born to be a fish.  San Pedro\n",
      "was a fisherman as was the father of the great DiMaggio.\n",
      "pride and because you are a fisherman.  You loved him when he was alive\n",
      "\"He was eighteen feet from nose to tail,\" the fisherman who was\n",
      "\n"
     ]
    }
   ],
   "source": [
    "# Your code here\n",
    "\n",
    "def ex_1(filename, word1, word2):\n",
    "    f = open(filename, 'r')\n",
    "    lines = f.readlines()\n",
    "    f.close()\n",
    "    output = filter(lambda line: line.find(word1) != -1 and line.find(word2) == -1, lines)\n",
    "    return ''.join(output)\n",
    "\n",
    "print ex_1('oldmanandthesea.txt','fisherman','sea')"
   ]
  },
  {
   "cell_type": "markdown",
   "metadata": {},
   "source": [
    "**Ex2** Write a function called **ex_2** that adds sequence numbers to each item in a list\n",
    "```\n",
    "ex_2(['a', 'b', 7]) ---> [(1, 'a'), (2, 'b'), (3, 7)]\n",
    "```\n",
    "Create the numeric sequence using range, and then use zip.\n"
   ]
  },
  {
   "cell_type": "code",
   "execution_count": 178,
   "metadata": {},
   "outputs": [
    {
     "name": "stdout",
     "output_type": "stream",
     "text": [
      "[(1, 'a'), (2, 'b'), (3, 7)]\n",
      "[(1, 3), (2, 4), (3, 8)]\n"
     ]
    }
   ],
   "source": [
    "# Your code here\n",
    "\n",
    "def ex_2(L):\n",
    "    seq = range(1,len(L)+1)\n",
    "    return zip(seq,L)\n",
    "\n",
    "#test1:\n",
    "mylist = ['a', 'b', 7]\n",
    "print ex_2(mylist)\n",
    "\n",
    "#test2:\n",
    "mylist = [3,4,8]\n",
    "print ex_2(mylist)\n"
   ]
  },
  {
   "cell_type": "markdown",
   "metadata": {},
   "source": [
    "**Ex3**. Given the following dictionary:\n",
    "\n",
    "`\n",
    "roster = {'group1' :['Jack', 'Lisa'],\n",
    "          'group2' :['Mike', 'Mary'],\n",
    "     \t 'group3' :['John', 'Laura']} \n",
    "`\n",
    "- Get the keys and values of the dictionary.\n",
    "- Add a group4, item containing ‘David', ‘Susan’.\n",
    "- Convert all the names belong to group 2 to upper cases.\n"
   ]
  },
  {
   "cell_type": "code",
   "execution_count": 191,
   "metadata": {},
   "outputs": [
    {
     "name": "stdout",
     "output_type": "stream",
     "text": [
      "['group1', 'group3', 'group2']\n",
      "[['Jack', 'Lisa'], ['John', 'Laura'], ['Mike', 'Mary']]\n",
      "{'group4': ['David', 'Susan'], 'group1': ['Jack', 'Lisa'], 'group3': ['John', 'Laura'], 'group2': ['Mike', 'Mary']}\n"
     ]
    },
    {
     "data": {
      "text/plain": [
       "['MIKE', 'MARY']"
      ]
     },
     "execution_count": 191,
     "metadata": {},
     "output_type": "execute_result"
    }
   ],
   "source": [
    "roster = {'group1' :['Jack', 'Lisa'],\n",
    "          'group2' :['Mike', 'Mary'],\n",
    "          'group3' :['John', 'Laura']} \n",
    "\n",
    "# Your code here\n",
    "\n",
    "print roster.keys()\n",
    "print roster.values()\n",
    "\n",
    "roster['group4']=['David','Susan']\n",
    "print roster\n",
    "\n",
    "map(lambda x: x.upper(), roster['group2'])"
   ]
  },
  {
   "cell_type": "code",
   "execution_count": 7,
   "metadata": {},
   "outputs": [
    {
     "data": {
      "text/plain": [
       "[('the', 1876),\n",
       " ('and', 1110),\n",
       " ('he', 788),\n",
       " ('of', 480),\n",
       " ('to', 403),\n",
       " ('was', 371),\n",
       " ('his', 370),\n",
       " ('a', 340),\n",
       " ('I', 336),\n",
       " ('it', 331),\n",
       " ('in', 317),\n",
       " ('that', 238),\n",
       " ('old', 234),\n",
       " ('man', 205),\n",
       " ('fish', 204),\n",
       " ('with', 184),\n",
       " ('him', 183),\n",
       " ('not', 180),\n",
       " ('had', 179),\n",
       " ('on', 179)]"
      ]
     },
     "execution_count": 7,
     "metadata": {},
     "output_type": "execute_result"
    }
   ],
   "source": [
    "# write a function that reads a text file and outputs the top 20 words in that text (by count):\n",
    "\n",
    "def top_words(filename):\n",
    "    f = open(filename, 'r')\n",
    "    lines = f.readlines()\n",
    "    f.close()\n",
    "    lines = map(lambda x: x.strip(), lines)\n",
    "    lines = map(lambda x: x.replace('.',''), lines)\n",
    "    lines = map(lambda x: x.replace(',',''), lines)\n",
    "    lines = map(lambda x: x.replace('!',''), lines)\n",
    "    text = ''.join(lines)\n",
    "    ls_words = text.split()\n",
    "    dct={}\n",
    "    for item in ls_words:\n",
    "        if item not in dct:\n",
    "            dct[item]=1\n",
    "        else:\n",
    "            dct[item]=dct[item]+1\n",
    "    output_list = list(sorted(dct.items(), key = lambda x: x[1], reverse = True))[:20]\n",
    "    return output_list\n",
    "\n",
    "\n",
    "top_words('oldmanandthesea.txt')\n",
    "    \n"
   ]
  },
  {
   "cell_type": "code",
   "execution_count": 8,
   "metadata": {},
   "outputs": [
    {
     "data": {
      "text/plain": [
       "4"
      ]
     },
     "execution_count": 8,
     "metadata": {},
     "output_type": "execute_result"
    }
   ],
   "source": [
    "mystring = 'I have a dog. My dog is very friendly. I take my dog out for a walk every day. My dog pees everywhere.'\n",
    "\n",
    "def count_words(word, string):\n",
    "    cnt = 0\n",
    "    idx = 0\n",
    "    while string.find(word, idx) >= 0:\n",
    "        cnt = cnt+1\n",
    "        idx = string.find(word, idx) + 1\n",
    "    return cnt\n",
    "\n",
    "count_words('dog',mystring)\n",
    "        "
   ]
  },
  {
   "cell_type": "code",
   "execution_count": 85,
   "metadata": {},
   "outputs": [
    {
     "data": {
      "text/plain": [
       "4"
      ]
     },
     "execution_count": 85,
     "metadata": {},
     "output_type": "execute_result"
    }
   ],
   "source": [
    "# another method:\n",
    "\n",
    "mystring = 'I have a dog. My dog is very friendly. I take my dog out for a walk every day. My dog pees everywhere.'\n",
    "\n",
    "def count_words(word, string):\n",
    "    string = string.split()\n",
    "    string = map(lambda s: s.replace(',',''), string)\n",
    "    string = map(lambda s: s.replace('.',''), string)\n",
    "    sub_string = filter(lambda s: s=='dog', string)\n",
    "    return len(sub_string)\n",
    "\n",
    "count_words('dog', mystring)\n",
    "    "
   ]
  },
  {
   "cell_type": "code",
   "execution_count": null,
   "metadata": {},
   "outputs": [],
   "source": []
  }
 ],
 "metadata": {
  "anaconda-cloud": {},
  "kernelspec": {
   "display_name": "Python 2",
   "language": "python",
   "name": "python2"
  },
  "language_info": {
   "codemirror_mode": {
    "name": "ipython",
    "version": 2
   },
   "file_extension": ".py",
   "mimetype": "text/x-python",
   "name": "python",
   "nbconvert_exporter": "python",
   "pygments_lexer": "ipython2",
   "version": "2.7.15"
  }
 },
 "nbformat": 4,
 "nbformat_minor": 1
}
