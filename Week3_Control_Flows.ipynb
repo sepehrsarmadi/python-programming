{
 "cells": [
  {
   "cell_type": "markdown",
   "metadata": {},
   "source": [
    "<p><a name=\"sections\"></a></p>\n",
    "\n",
    "\n",
    "# Sections\n",
    "\n",
    "- <a href=\"#conditionals\">Conditionals</a><br>\n",
    "- <a href=\"#for\">For Loop</a><br>\n",
    "- <a href=\"#while\">While Loop</a><br>\n",
    "- <a href=\"#error\">Errors and Exceptions</a><br>\n",
    " - <a href=\"#built\">Built-in Exceptions</a><br>\n",
    " - <a href=\"#handle\">Handling Exceptions</a><br>\n",
    "\n",
    "- <a href=\"#quiz\">Quiz</a><br>"
   ]
  },
  {
   "cell_type": "markdown",
   "metadata": {},
   "source": [
    "<p><a name=\"conditionals\"></a></p>\n",
    "# Conditionals\n",
    "\n",
    "We have seen boolean functions used in the `filter` operator. They can also be used inside functions, to do different calculations depending upon properties of the input.\n",
    "\n",
    "For example, recall the function firstelt that returns the first element of a list:\n",
    "```\n",
    "￼def firstelt(L):\n",
    "    return L[0]\n",
    "```\n",
    "It “crashes” if its argument is the empty list. Suppose we would like it to instead return `None` in that case; `None` is a special value in Python that is often used for this kind of thing. We can do that with a conditional:"
   ]
  },
  {
   "cell_type": "code",
   "execution_count": null,
   "metadata": {
    "collapsed": true
   },
   "outputs": [],
   "source": [
    "def firstelt(L):\n",
    "    if L == []:\n",
    "        return None\n",
    "    else:\n",
    "        return L[0]"
   ]
  },
  {
   "cell_type": "markdown",
   "metadata": {},
   "source": [
    "The syntax for a conditional in a function is:\n",
    "```\n",
    "if condition:                # any boolean expression\n",
    "    return expression        # return is indented from if\n",
    "else:                        # else starts in same column as if\n",
    "    return expression        # return is indented from else\n",
    "```\n",
    "The syntax in `lambda` definitions is different:\n",
    "```\n",
    "lambda x: expression if condition else expression\n",
    "```\n",
    "\n",
    "For example, here is `firstelt` in lambda syntax:"
   ]
  },
  {
   "cell_type": "code",
   "execution_count": null,
   "metadata": {
    "collapsed": true
   },
   "outputs": [],
   "source": [
    "Firstelt = lambda L: None if L==[] else L[0]"
   ]
  },
  {
   "cell_type": "markdown",
   "metadata": {},
   "source": [
    "Conditionals can be nested arbitrarily:\n",
    "- Return A if c1 is true, B if c1 is false but c2 is true, and C if both are false:\n",
    "```\n",
    "if c1:\n",
    "    return A\n",
    "else:\n",
    "    if c2:\n",
    "        return B\n",
    "    else:\n",
    "        return C\n",
    "```\n",
    "- Having an `if` follow an `else` is so common there is special syntax for it:\n",
    "```\n",
    "f c1:\n",
    "    return A\n",
    "elif c2:\n",
    "    return B\n",
    "else:\n",
    "    return C\n",
    "```\n",
    "- Return A if c1 and c2 are true, B if c1 is true but not c2, C if c1 is false but c3 is true, and D if c2 and c3 are both false:\n",
    "```\n",
    "if c1:\n",
    "    if c2:\n",
    "        return A\n",
    "    else:\n",
    "        return B\n",
    "elif c3:\n",
    "    return C\n",
    "else:\n",
    "    return D\n",
    "```"
   ]
  },
  {
   "cell_type": "markdown",
   "metadata": {},
   "source": [
    "**Exercise 1**\n",
    "\n",
    "Define the following functions using if conditionals:\n",
    " 1. `absolute(x)` returns the absolute value of `x`. (Don’t use the built-in `abs` function.)\n",
    " 2. `choose(response, choice1, choice2)` returns `choice1` if `response` is the string `'y'` or `'yes'`, and `choice2` otherwise.\n",
    " 3. `leap_year(y)` returns true if `y` is divisible by 4, except if it is divisible by 100; but it is still true if `y` is divisible by 400. Thus, 1940 is a leap year, 1900 isn’t, and 2000 is.\n",
    " 4. Use `filter` to define a function `leap_years` that selects from a list of numbers those that represent leap years."
   ]
  },
  {
   "cell_type": "code",
   "execution_count": null,
   "metadata": {},
   "outputs": [],
   "source": [
    "#### Your code here\n",
    "\n",
    "#1\n",
    "\n",
    "def abs(x):\n",
    "    if x>=0:\n",
    "        return x\n",
    "    else:\n",
    "        return -x\n",
    "    \n",
    "Abs = lambda x: x if x>=0 else -x\n",
    "\n",
    "abs(9)\n",
    "Abs(-9)"
   ]
  },
  {
   "cell_type": "code",
   "execution_count": 1,
   "metadata": {},
   "outputs": [
    {
     "data": {
      "text/plain": [
       "1"
      ]
     },
     "execution_count": 1,
     "metadata": {},
     "output_type": "execute_result"
    }
   ],
   "source": [
    "#2\n",
    "#choose(response, choice1, choice2) returns choice1 if response is the string 'y' or 'yes', and choice2 otherwise\n",
    "\n",
    "def choose(response, choice1, choice2):\n",
    "    if response in ['y','yes']:\n",
    "        return choice1\n",
    "    else:\n",
    "        return choice2\n",
    "\n",
    "choose('yes',1,2)"
   ]
  },
  {
   "cell_type": "code",
   "execution_count": 2,
   "metadata": {},
   "outputs": [
    {
     "data": {
      "text/plain": [
       "True"
      ]
     },
     "execution_count": 2,
     "metadata": {},
     "output_type": "execute_result"
    }
   ],
   "source": [
    "#3\n",
    "#leap_year(y) returns true if y is divisible by 4, \n",
    "#except if it is divisible by 100; but it is still true if y is divisible by 400. \n",
    "#Thus, 1940 is a leap year, 1900 isn’t, and 2000 is.\n",
    "\n",
    "def leap_year(y):\n",
    "    if y%4 == 0:\n",
    "        if y%100 == 0:\n",
    "            if y%400 == 0:\n",
    "                return True\n",
    "            else:\n",
    "                return False\n",
    "        else:\n",
    "            return True\n",
    "    else:\n",
    "        return False\n",
    "    \n",
    "leap_year(2000)    \n",
    "        \n",
    "        \n",
    "    "
   ]
  },
  {
   "cell_type": "code",
   "execution_count": 5,
   "metadata": {},
   "outputs": [
    {
     "data": {
      "text/plain": [
       "[1960,\n",
       " 1964,\n",
       " 1968,\n",
       " 1972,\n",
       " 1976,\n",
       " 1980,\n",
       " 1984,\n",
       " 1988,\n",
       " 1992,\n",
       " 1996,\n",
       " 2000,\n",
       " 2004,\n",
       " 2008,\n",
       " 2012,\n",
       " 2016]"
      ]
     },
     "execution_count": 5,
     "metadata": {},
     "output_type": "execute_result"
    }
   ],
   "source": [
    "#4\n",
    "#Use filter to define a function leap_years that selects from a list of numbers those that represent leap years.\n",
    "\n",
    "filter(lambda x:leap_year(x),range(1960,2018))"
   ]
  },
  {
   "cell_type": "markdown",
   "metadata": {},
   "source": [
    "<p><a name=\"for\"></a></p>\n",
    "# For loop\n",
    "\n",
    "A simple example is printing the elements of a list. Since print is a statement, we can’t use it in a map."
   ]
  },
  {
   "cell_type": "code",
   "execution_count": 9,
   "metadata": {},
   "outputs": [
    {
     "name": "stdout",
     "output_type": "stream",
     "text": [
      "a b c d e\n"
     ]
    }
   ],
   "source": [
    "letters = ['a', 'b', 'c', 'd', 'e']\n",
    "for w in letters:\n",
    "    print w,     # comma suppresses the newline"
   ]
  },
  {
   "cell_type": "markdown",
   "metadata": {},
   "source": [
    "Recall that the range function generates a list of numbers:"
   ]
  },
  {
   "cell_type": "code",
   "execution_count": 7,
   "metadata": {},
   "outputs": [
    {
     "name": "stdout",
     "output_type": "stream",
     "text": [
      "(0, 'a')\n",
      "(1, 'b')\n",
      "(2, 'c')\n",
      "(3, 'd')\n",
      "(4, 'e')\n"
     ]
    }
   ],
   "source": [
    "for i in range(len(letters)):\n",
    "    print (i, letters[i])"
   ]
  },
  {
   "cell_type": "markdown",
   "metadata": {},
   "source": [
    "There is a function called enumerate() in Python that would return both the index and element from the list at the same time."
   ]
  },
  {
   "cell_type": "code",
   "execution_count": 10,
   "metadata": {},
   "outputs": [
    {
     "data": {
      "text/plain": [
       "[(0, 'a'), (1, 'b'), (2, 'c'), (3, 'd'), (4, 'e')]"
      ]
     },
     "execution_count": 10,
     "metadata": {},
     "output_type": "execute_result"
    }
   ],
   "source": [
    "list(enumerate(letters))"
   ]
  },
  {
   "cell_type": "code",
   "execution_count": 11,
   "metadata": {},
   "outputs": [
    {
     "name": "stdout",
     "output_type": "stream",
     "text": [
      "0 a\n",
      "1 b\n",
      "2 c\n",
      "3 d\n",
      "4 e\n"
     ]
    }
   ],
   "source": [
    "letters = ['a', 'b', 'c', 'd', 'e']\n",
    "for i, e in enumerate(letters):\n",
    "    print i, e"
   ]
  },
  {
   "cell_type": "code",
   "execution_count": 17,
   "metadata": {},
   "outputs": [
    {
     "name": "stdout",
     "output_type": "stream",
     "text": [
      "[31, 72, 93]\n",
      "[31, 72, 93]\n",
      "[31, 72, 93]\n"
     ]
    }
   ],
   "source": [
    "# element-wise addition of two lists: \n",
    "\n",
    "L1=[1,2,3]\n",
    "L2=[30,70,90]\n",
    "\n",
    "#method 1:\n",
    "\n",
    "output=[]\n",
    "for i in range(len(L1)):\n",
    "    output.append(L1[i]+L2[i])\n",
    "    \n",
    "print output    \n",
    "\n",
    "# method 2:\n",
    "\n",
    "print map(lambda x,y: x+y, L1, L2)\n",
    "\n",
    "# method 3:\n",
    "\n",
    "print map(lambda L: L[0]+L[1], zip(L1, L2))\n",
    "     "
   ]
  },
  {
   "cell_type": "markdown",
   "metadata": {},
   "source": [
    "In addition to the iteration variable taking on values in a list, you may want other variables to take on different values in each iteration.  You can accomplish this by “self-assigning” to those variables.  This loop sums the elements of a list:"
   ]
  },
  {
   "cell_type": "code",
   "execution_count": 20,
   "metadata": {},
   "outputs": [
    {
     "data": {
      "text/plain": [
       "28"
      ]
     },
     "execution_count": 20,
     "metadata": {},
     "output_type": "execute_result"
    }
   ],
   "source": [
    "primes = [2, 3, 5, 7, 11]\n",
    "sum_ = 0\n",
    "for p in primes:\n",
    "    sum_ = sum_ + p\n",
    "sum_\n"
   ]
  },
  {
   "cell_type": "markdown",
   "metadata": {},
   "source": [
    "As another example, here is a different way to print a list with its elements numbered:\n"
   ]
  },
  {
   "cell_type": "code",
   "execution_count": 23,
   "metadata": {},
   "outputs": [
    {
     "name": "stdout",
     "output_type": "stream",
     "text": [
      "0 a\n",
      "1 b\n",
      "2 c\n",
      "3 d\n",
      "4 e\n"
     ]
    }
   ],
   "source": [
    "words = ['a', 'b', 'c', 'd', 'e']\n",
    "i = 0\n",
    "for w in words:\n",
    "    print i, w\n",
    "    i = i + 1\n",
    "    "
   ]
  },
  {
   "cell_type": "markdown",
   "metadata": {},
   "source": [
    "**Exercise 2**\n",
    "\n",
    "- Print the list of prime numbers along with the running sums of those numbers:\n",
    "```\n",
    "primes = [2, 3, 5, 7, 11]\n",
    "```\n",
    "the result should be\n",
    "```\n",
    "2 2\n",
    "3 5\n",
    "5 10\n",
    "7 17\n",
    "11 28\n",
    "```\n",
    "\n",
    "- Print a list of strings with numbers determined by the lengths of the strings:\n",
    "```\n",
    "names = ['don', 'mike', 'vivian', 'saul']\n",
    "```\n",
    "Teh result should be \n",
    "```\n",
    "3 don\n",
    "7 mike\n",
    "13 vivian\n",
    "17 saul\n",
    "```"
   ]
  },
  {
   "cell_type": "code",
   "execution_count": null,
   "metadata": {},
   "outputs": [],
   "source": [
    "#### Your code here\n",
    "#1\n",
    "primes = [2, 3, 5, 7, 11]\n",
    "\n",
    "cumS=0\n",
    "for i in primes:\n",
    "    cumS=cumS+i\n",
    "    print i, cumS\n",
    "    \n",
    "    "
   ]
  },
  {
   "cell_type": "code",
   "execution_count": 24,
   "metadata": {},
   "outputs": [
    {
     "name": "stdout",
     "output_type": "stream",
     "text": [
      "3 don\n",
      "7 mike\n",
      "13 vivian\n",
      "17 saul\n"
     ]
    }
   ],
   "source": [
    "#2\n",
    "names = ['don', 'mike', 'vivian', 'saul']\n",
    "\n",
    "cumS=0\n",
    "for item in names:\n",
    "    cumS=cumS+len(item)\n",
    "    print cumS, item\n",
    "\n"
   ]
  },
  {
   "cell_type": "code",
   "execution_count": 25,
   "metadata": {},
   "outputs": [
    {
     "data": {
      "text/plain": [
       "['don', 'mike', 'vivian', 'saul']"
      ]
     },
     "execution_count": 25,
     "metadata": {},
     "output_type": "execute_result"
    }
   ],
   "source": [
    "names = ['don', 'mike', 'vivian', 'saul']\n",
    "copy = []\n",
    "for name in names:\n",
    "    copy.append(name)\n",
    "copy"
   ]
  },
  {
   "cell_type": "code",
   "execution_count": 27,
   "metadata": {},
   "outputs": [
    {
     "name": "stdout",
     "output_type": "stream",
     "text": [
      "['don', 'mike', 'saul']\n",
      "['don', 'mike', 'vivian', 'saul']\n"
     ]
    }
   ],
   "source": [
    "# here's another way of creating a new copy of a list:\n",
    "\n",
    "names = ['don', 'mike', 'vivian', 'saul']\n",
    "copy = list()\n",
    "copy = names\n",
    "names = names[0:2]+names[3:]\n",
    "print names\n",
    "print copy"
   ]
  },
  {
   "cell_type": "markdown",
   "metadata": {},
   "source": [
    "You should prefer `map` if you have a choice, because it is more concise and more efficient. But some things are hard to do.  For example, doing running sums with a `map` is hard.  So this loop would be hard to write with `map`:"
   ]
  },
  {
   "cell_type": "code",
   "execution_count": null,
   "metadata": {},
   "outputs": [],
   "source": [
    "copy2 = map(lambda x: x, names)\n",
    "\n",
    "print copy2"
   ]
  },
  {
   "cell_type": "code",
   "execution_count": null,
   "metadata": {},
   "outputs": [],
   "source": [
    "primes = [2, 3, 5, 7, 11]\n",
    "prime_sums = []\n",
    "sum_ = 0\n",
    "for p in primes:\n",
    "    sum_ = sum_ + p\n",
    "    prime_sums.append(sum_)\n",
    "prime_sums"
   ]
  },
  {
   "cell_type": "markdown",
   "metadata": {},
   "source": [
    "**Exercise 3**\n",
    "\n",
    "- Write a function `map_uc(l)` that takes a list of strings and returns a list of those same strings in all upper-case.  You know how to do that using map; do it this time using a for loop.  You’ll need to create a copy, as you did in the loop, and return that.\n",
    "\n",
    "- In the previous exercise, you wrote a loop that produced this output:\n",
    "```\n",
    "3 don\n",
    "7 mike\n",
    "13 vivian\n",
    "17 saul\n",
    "```\n",
    "For this exercise, modify that loop to put pairs of these values in a list, instead of printing them, producing: \n",
    "```\n",
    "[[3, 'don'], [7, 'mike'], [13, 'vivian'], [17, 'saul']]\n",
    "```"
   ]
  },
  {
   "cell_type": "code",
   "execution_count": 30,
   "metadata": {},
   "outputs": [
    {
     "data": {
      "text/plain": [
       "['DON', 'MIKE', 'VIVIAN', 'SAUL']"
      ]
     },
     "execution_count": 30,
     "metadata": {},
     "output_type": "execute_result"
    }
   ],
   "source": [
    "#### Your code here\n",
    "\n",
    "#1\n",
    "\n",
    "def map_uc(L):\n",
    "    output=[]\n",
    "    for i in range(len(L)):\n",
    "        output.append(L[i].upper())\n",
    "    return output\n",
    "    \n",
    "\n",
    "map_uc(['don', 'mike', 'vivian', 'saul'])"
   ]
  },
  {
   "cell_type": "code",
   "execution_count": 29,
   "metadata": {},
   "outputs": [
    {
     "name": "stdout",
     "output_type": "stream",
     "text": [
      "['DON', 'MIKE', 'VIVIAN', 'SAUL']\n"
     ]
    }
   ],
   "source": [
    "# this is more concise:\n",
    "\n",
    "L = ['don', 'mike', 'vivian', 'saul']\n",
    "print map(lambda s: s.upper(), L)"
   ]
  },
  {
   "cell_type": "code",
   "execution_count": null,
   "metadata": {},
   "outputs": [],
   "source": [
    "#2\n",
    "names = ['don', 'mike', 'vivian', 'saul']\n",
    "\n",
    "def f2(L):\n",
    "    output=[]\n",
    "    cumS=0\n",
    "    for i in range(len(L)):\n",
    "        cumS=cumS+len(L[i])\n",
    "        output.append([cumS,L[i]])\n",
    "    return output\n",
    "\n",
    "f2(names)\n"
   ]
  },
  {
   "cell_type": "code",
   "execution_count": null,
   "metadata": {
    "collapsed": true
   },
   "outputs": [],
   "source": [
    "#####################################################################\n",
    "check out reduce in python\n",
    "reduce is used for running sums or running products\n"
   ]
  },
  {
   "cell_type": "markdown",
   "metadata": {},
   "source": [
    "We learned how to write string to a file last week when you were talking about file I/O. However, you need to write a lot of string to a file instead of just one."
   ]
  },
  {
   "cell_type": "markdown",
   "metadata": {},
   "source": [
    "Remember this is the syntax for writing a string s to file.\n",
    "\n",
    "Open file for output:  `f = open(filename, 'w')`\n",
    "\n",
    "Write a string to the file:  `f.write(s)`\n",
    "\n",
    "Close the file:  `f.close()`"
   ]
  },
  {
   "cell_type": "markdown",
   "metadata": {},
   "source": [
    "We could loop through the list that contains all the strings we want and write each string to the file.\n",
    "Suppose we want to write the following output to a file instead of just printing it out.\n"
   ]
  },
  {
   "cell_type": "code",
   "execution_count": 31,
   "metadata": {},
   "outputs": [
    {
     "name": "stdout",
     "output_type": "stream",
     "text": [
      "0 a\n",
      "1 b\n",
      "2 c\n",
      "3 d\n",
      "4 e\n"
     ]
    }
   ],
   "source": [
    "words = ['a', 'b', 'c', 'd', 'e']\n",
    "for i, e in enumerate(words):\n",
    "    print i, e"
   ]
  },
  {
   "cell_type": "markdown",
   "metadata": {},
   "source": [
    "In the for loop, if we just call `f.write(i, e)`, will it work?\n",
    "\n",
    "In this example, i is an integer and e is a string. So we need to convert i into a string and then concatenate them together.\n"
   ]
  },
  {
   "cell_type": "code",
   "execution_count": 34,
   "metadata": {},
   "outputs": [],
   "source": [
    "f = open('loop.txt', 'w')\n",
    "for i, e in enumerate(words):\n",
    "    #s = '%s' % i + e + '\\n'\n",
    "    s = str(i) + ' ' + e + '\\n'\n",
    "    f.write(s)\n",
    "f.close()"
   ]
  },
  {
   "cell_type": "code",
   "execution_count": 35,
   "metadata": {},
   "outputs": [
    {
     "name": "stdout",
     "output_type": "stream",
     "text": [
      "0 a\n",
      "1 b\n",
      "2 c\n",
      "3 d\n",
      "4 e\n"
     ]
    }
   ],
   "source": [
    "!more loop.txt"
   ]
  },
  {
   "cell_type": "markdown",
   "metadata": {},
   "source": [
    "**Exercise 4**\n",
    "\n",
    "- For this exercise, we want to write the key and value pairs from the following dictionary to a file called **dictionary.txt**:\n",
    "\n",
    "```\n",
    "inventory = {'pumpkin' : 3.99, 'potato': 2, \n",
    "             'apple' : 2.99}\n",
    "potato 2\n",
    "apple 2.99\n",
    "pumpkin 3.99\n",
    "```\n",
    "\n",
    "- Use .items() to get the key and value pair of a dictionary.\n",
    "- The values of the dictionary are of different types, you can use str() function to convert either a float or integer to a string.\n",
    "- Don't forget to close the file after the for loop"
   ]
  },
  {
   "cell_type": "code",
   "execution_count": 36,
   "metadata": {},
   "outputs": [
    {
     "name": "stdout",
     "output_type": "stream",
     "text": [
      "potato 2\n",
      "apple 2.99\n",
      "pumpkin 3.99\n"
     ]
    }
   ],
   "source": [
    "# Your code here\n",
    "\n",
    "inventory = {'pumpkin' : 3.99, 'potato': 2, 'apple' : 2.99}\n",
    "\n",
    "f = open('dictionary.txt', 'w')\n",
    "for item in inventory:\n",
    "    s = item + ' ' + str(inventory[item]) + '\\n'\n",
    "    f.write(s)\n",
    "f.close()\n",
    "\n",
    "!more dictionary.txt\n",
    "\n",
    "\n"
   ]
  },
  {
   "cell_type": "markdown",
   "metadata": {},
   "source": [
    "<p><a name=\"listComp\"></a></p>\n",
    "# List Comprehension\n",
    "\n",
    "List comprehensions are another notation for defining lists. They are meant to mimic the mathematical notation of “set comprehensions”.\n",
    "- A list comprehension has the form: \n",
    "```\n",
    "[ expression for x in list if x satisfies a condition ]\n",
    "```"
   ]
  },
  {
   "cell_type": "code",
   "execution_count": 2,
   "metadata": {},
   "outputs": [
    {
     "data": {
      "text/plain": [
       "[1, 4, 9, 16, 25]"
      ]
     },
     "execution_count": 2,
     "metadata": {},
     "output_type": "execute_result"
    }
   ],
   "source": [
    "[ x**2 for x in [1, 2, 3, 4, 5]]"
   ]
  },
  {
   "cell_type": "code",
   "execution_count": 5,
   "metadata": {},
   "outputs": [
    {
     "data": {
      "text/plain": [
       "[2, 4, 6, 8]"
      ]
     },
     "execution_count": 5,
     "metadata": {},
     "output_type": "execute_result"
    }
   ],
   "source": [
    "L = [1,2,3,4]\n",
    "[2*i for i in L]"
   ]
  },
  {
   "cell_type": "code",
   "execution_count": 6,
   "metadata": {},
   "outputs": [
    {
     "data": {
      "text/plain": [
       "[0, 2, 3]"
      ]
     },
     "execution_count": 6,
     "metadata": {},
     "output_type": "execute_result"
    }
   ],
   "source": [
    "nested_list1 = [[], [\"ab\", \"cd\"], [3, 4, 5]]\n",
    "[len(l) for l in nested_list1]"
   ]
  },
  {
   "cell_type": "code",
   "execution_count": 7,
   "metadata": {},
   "outputs": [
    {
     "data": {
      "text/plain": [
       "['ab', 3]"
      ]
     },
     "execution_count": 7,
     "metadata": {},
     "output_type": "execute_result"
    }
   ],
   "source": [
    "[l[0] for l in nested_list1 if l != []]"
   ]
  },
  {
   "cell_type": "markdown",
   "metadata": {},
   "source": [
    "**Exercise 5**\n",
    "\n",
    "Write list comprehensions to create the following lists:\n",
    " - The square roots of the numbers in `[1, 4, 9, 16]`. (Recall that `math.sqrt` is the square root function.)\n",
    " - The even numbers in a numeric list `L`. Define several lists `L` to test your list comprehension. \n",
    " **Hint** (`n` is even if and only if `n % 2 == 0`.)"
   ]
  },
  {
   "cell_type": "code",
   "execution_count": 14,
   "metadata": {},
   "outputs": [
    {
     "data": {
      "text/plain": [
       "[1.0, 2.0, 3.0, 4.0]"
      ]
     },
     "execution_count": 14,
     "metadata": {},
     "output_type": "execute_result"
    }
   ],
   "source": [
    "#### Your code here\n",
    "\n",
    "#1\n",
    "import math as m\n",
    "\n",
    "[m.sqrt(x) for x in [1,4,9,16]]\n"
   ]
  },
  {
   "cell_type": "code",
   "execution_count": 15,
   "metadata": {},
   "outputs": [
    {
     "data": {
      "text/plain": [
       "[2, 4, 6]"
      ]
     },
     "execution_count": 15,
     "metadata": {},
     "output_type": "execute_result"
    }
   ],
   "source": [
    "#2\n",
    "L = [1,2,3,4,5,6]\n",
    "[x for x in L if x%2==0]\n",
    "\n",
    "# remember: whatever you can do with map and filter, you can do with list comprehension in a much more elegant and concise way"
   ]
  },
  {
   "cell_type": "code",
   "execution_count": 20,
   "metadata": {},
   "outputs": [
    {
     "name": "stdout",
     "output_type": "stream",
     "text": [
      "[71, 82, 93]\n",
      "[71, 82, 93]\n"
     ]
    }
   ],
   "source": [
    "# how would you add two lists element-wise using list comprehension? \n",
    "\n",
    "L1=[1,2,3]\n",
    "L2=[70,80,90]\n",
    "\n",
    "#method 1:\n",
    "[L1[i]+L2[i] for i in range(len(L1))]\n",
    "\n",
    "print map(lambda x,y: x+y, L1, L2)\n",
    "print map(lambda L: L[0]+L[1], zip(L1, L2))\n"
   ]
  },
  {
   "cell_type": "code",
   "execution_count": null,
   "metadata": {
    "collapsed": true
   },
   "outputs": [],
   "source": []
  },
  {
   "cell_type": "markdown",
   "metadata": {},
   "source": [
    "<p><a name=\"while\"></a></p>\n",
    "# While Loop\n",
    "\n",
    "- While loops are used when you do not know ahead of time how many iterations you will need:\n",
    " - Sum the elements of a list up to the first zero.\n",
    " - Newton’s method is used to find a zero of an equation.  It works by finding values that are closer and closer to the zero, until it finds a value “close enough.”  But it is not easy to know how many times it takes to get close enough.\n",
    " - Get input from a user until the user enters ‘quit’.\n",
    "\n",
    "- With a while loop, you iterate until a given condition becomes false:\n",
    "```\n",
    "while condition:\n",
    "   statements\n",
    "```\n",
    "\n",
    "As a first example, this loop prints integers from 0 to 9:"
   ]
  },
  {
   "cell_type": "code",
   "execution_count": 23,
   "metadata": {},
   "outputs": [
    {
     "name": "stdout",
     "output_type": "stream",
     "text": [
      "0 1 2 3 4 5 6 7 8 9\n"
     ]
    }
   ],
   "source": [
    "i = 0\n",
    "while i < 10:\n",
    "    print i,\n",
    "    i = i + 1"
   ]
  },
  {
   "cell_type": "markdown",
   "metadata": {},
   "source": [
    "This for loop does the same thing:"
   ]
  },
  {
   "cell_type": "code",
   "execution_count": null,
   "metadata": {},
   "outputs": [],
   "source": [
    "for i in range(0, 10):\n",
    "    print i,"
   ]
  },
  {
   "cell_type": "markdown",
   "metadata": {},
   "source": [
    "One thing we can do with while loops that is hard to do with for loops is to terminate early.  This loops adds up integers starting from 1 until the sum exceeds n:"
   ]
  },
  {
   "cell_type": "code",
   "execution_count": 24,
   "metadata": {},
   "outputs": [
    {
     "name": "stdout",
     "output_type": "stream",
     "text": [
      "sum_ 21 i 7\n"
     ]
    }
   ],
   "source": [
    "n = 20\n",
    "i = 1\n",
    "sum_ = 0\n",
    "while sum_ <= n:\n",
    "    sum_ = sum_ + i\n",
    "    i = i + 1\n",
    "print \"sum_\",sum_,\"i\",i"
   ]
  },
  {
   "cell_type": "markdown",
   "metadata": {},
   "source": [
    "This loop is similar, but sums the numbers in a list. Let's create a list `L`:"
   ]
  },
  {
   "cell_type": "code",
   "execution_count": null,
   "metadata": {},
   "outputs": [],
   "source": [
    "L = [5, 10, 15, 20, 25]\n",
    "\n",
    "n = 20\n",
    "i = 0\n",
    "sum_ = 0\n",
    "while sum_ <= n:\n",
    "    sum_ = sum_ + L[i]\n",
    "    i = i + 1\n",
    "    \n",
    "sum_"
   ]
  },
  {
   "cell_type": "markdown",
   "metadata": {},
   "source": [
    "When we iterate over a list like this, we should also test if we are going out of bounds. Without doing so, we might end up with:"
   ]
  },
  {
   "cell_type": "code",
   "execution_count": 25,
   "metadata": {},
   "outputs": [
    {
     "ename": "IndexError",
     "evalue": "list index out of range",
     "output_type": "error",
     "traceback": [
      "\u001b[1;31m---------------------------------------------------------------------------\u001b[0m",
      "\u001b[1;31mIndexError\u001b[0m                                Traceback (most recent call last)",
      "\u001b[1;32m<ipython-input-25-22e47e916e8f>\u001b[0m in \u001b[0;36m<module>\u001b[1;34m()\u001b[0m\n\u001b[0;32m      3\u001b[0m \u001b[0msum_\u001b[0m \u001b[1;33m=\u001b[0m \u001b[1;36m0\u001b[0m\u001b[1;33m\u001b[0m\u001b[0m\n\u001b[0;32m      4\u001b[0m \u001b[1;32mwhile\u001b[0m \u001b[0msum_\u001b[0m \u001b[1;33m<=\u001b[0m \u001b[0mn\u001b[0m\u001b[1;33m:\u001b[0m\u001b[1;33m\u001b[0m\u001b[0m\n\u001b[1;32m----> 5\u001b[1;33m     \u001b[0msum_\u001b[0m \u001b[1;33m=\u001b[0m \u001b[0msum_\u001b[0m \u001b[1;33m+\u001b[0m \u001b[0mL\u001b[0m\u001b[1;33m[\u001b[0m\u001b[0mi\u001b[0m\u001b[1;33m]\u001b[0m\u001b[1;33m\u001b[0m\u001b[0m\n\u001b[0m\u001b[0;32m      6\u001b[0m     \u001b[0mi\u001b[0m \u001b[1;33m=\u001b[0m \u001b[0mi\u001b[0m \u001b[1;33m+\u001b[0m \u001b[1;36m1\u001b[0m\u001b[1;33m\u001b[0m\u001b[0m\n\u001b[0;32m      7\u001b[0m \u001b[1;33m\u001b[0m\u001b[0m\n",
      "\u001b[1;31mIndexError\u001b[0m: list index out of range"
     ]
    }
   ],
   "source": [
    "n = 80\n",
    "i = 1\n",
    "sum_ = 0\n",
    "while sum_ <= n:\n",
    "    sum_ = sum_ + L[i]\n",
    "    i = i + 1\n",
    "    \n",
    "sum_"
   ]
  },
  {
   "cell_type": "markdown",
   "metadata": {},
   "source": [
    "This problem can be fixed by modifying the header:"
   ]
  },
  {
   "cell_type": "code",
   "execution_count": 26,
   "metadata": {},
   "outputs": [
    {
     "data": {
      "text/plain": [
       "20"
      ]
     },
     "execution_count": 26,
     "metadata": {},
     "output_type": "execute_result"
    }
   ],
   "source": [
    "n = 80\n",
    "i = 1\n",
    "sum_ = 0\n",
    "while sum_ <= n and i < len(L):\n",
    "    sum_ = sum_ + L[i]\n",
    "    i = i + 1\n",
    "    \n",
    "sum_"
   ]
  },
  {
   "cell_type": "markdown",
   "metadata": {},
   "source": [
    "**Exercise 6**\n",
    "\n",
    "- Now we’ll do similar loops, but terminate under different conditions.  If we’re iterating over a list, remember to check that the list index is not out of bounds.\n",
    "\n",
    " - Print the elements of a numeric list, up to the first even number.\n",
    " - Print the elements of a list of strings, up to the first string whose length exceeds 10.\n",
    " - Sum the even elements of a numeric list.  This loop is different in that it contains an if statement (without an else)."
   ]
  },
  {
   "cell_type": "code",
   "execution_count": 27,
   "metadata": {},
   "outputs": [
    {
     "name": "stdout",
     "output_type": "stream",
     "text": [
      "1 5 13 5\n"
     ]
    }
   ],
   "source": [
    "#### Your code here\n",
    "#1\n",
    "L =[1,5,13,5,8,1,9]\n",
    "i=0\n",
    "\n",
    "while i < len(L) and L[i]%2 !=0:\n",
    "    print L[i],\n",
    "    i=i+1\n",
    "    \n",
    "\n",
    "    "
   ]
  },
  {
   "cell_type": "code",
   "execution_count": 28,
   "metadata": {},
   "outputs": [
    {
     "name": "stdout",
     "output_type": "stream",
     "text": [
      "absc\n",
      "sjdhgft\n",
      "ajshdgf\n"
     ]
    }
   ],
   "source": [
    "#2\n",
    "L = ['absc','sjdhgft','ajshdgf','shdgdtegftrhsgd','hg']\n",
    "i=0\n",
    "\n",
    "while i<len(L) and len(L[i])<=10:\n",
    "    print L[i]\n",
    "    i=i+1\n",
    "\n"
   ]
  },
  {
   "cell_type": "code",
   "execution_count": 33,
   "metadata": {},
   "outputs": [
    {
     "name": "stdout",
     "output_type": "stream",
     "text": [
      "22\n",
      "22\n"
     ]
    }
   ],
   "source": [
    "#3 \n",
    "L = [4,1,7,9,4,6,8,1]  # sum = 4+4+6+8 = 22\n",
    "\n",
    "i = 0\n",
    "sum_ = 0\n",
    "\n",
    "while i < len(L):\n",
    "    if L[i]%2==0:\n",
    "        sum_ = sum_ + L[i]\n",
    "    i = i+1\n",
    "print sum_\n",
    "\n",
    "# method 2:\n",
    "s = 0\n",
    "for item in L:\n",
    "    if item %2 == 0:\n",
    "        s = s + item\n",
    "print s"
   ]
  },
  {
   "cell_type": "markdown",
   "metadata": {},
   "source": [
    "**Break and Continue Statements**\n",
    "\n",
    "The **break** statement immediately terminates the (for or while) loop it is in.  This provides a way to terminate the loop from within the middle of the body. \n",
    "\n",
    "The **continue** statement terminates the current iteration of the loop and goes back to the header.\n",
    "\n",
    "- The loop below adds the values in a list, but ignores negative numbers, and stops if the number exceeds 100:\n"
   ]
  },
  {
   "cell_type": "code",
   "execution_count": 34,
   "metadata": {},
   "outputs": [
    {
     "data": {
      "text/plain": [
       "150"
      ]
     },
     "execution_count": 34,
     "metadata": {},
     "output_type": "execute_result"
    }
   ],
   "source": [
    "L = [10, -10, 20, -20, 30, -30, 40, -40, 50, -50, 60, -60]\n",
    "\n",
    "sum_ = 0\n",
    "for x in L:\n",
    "    if x < 0:\n",
    "        continue       \n",
    "    sum_ = sum_ + x\n",
    "    if sum_ > 100:\n",
    "        break\n",
    "        \n",
    "sum_"
   ]
  },
  {
   "cell_type": "markdown",
   "metadata": {},
   "source": [
    "**Exercise 7**\n",
    "\n",
    "Calculate the sum of integers that can be divided by 7 and less than 100. In the following example code, we use while True, which means the while loop will keep running until you break it.\n",
    "\n",
    "```\n",
    "i = 0\n",
    "sum_ = 0\n",
    "while True:\n",
    "\n",
    "\t# Type your code here\n",
    "\n",
    "print sum_\n",
    "```\n"
   ]
  },
  {
   "cell_type": "code",
   "execution_count": 9,
   "metadata": {},
   "outputs": [
    {
     "name": "stdout",
     "output_type": "stream",
     "text": [
      "735\n"
     ]
    }
   ],
   "source": [
    "i = 0\n",
    "sum_ = 0\n",
    "while True:\n",
    "    if i>= 100:\n",
    "        break\n",
    "    else:\n",
    "        if i%7==0:\n",
    "            sum_ = sum_ + i\n",
    "    i = i + 1\n",
    "\n",
    "print sum_"
   ]
  },
  {
   "cell_type": "code",
   "execution_count": 5,
   "metadata": {},
   "outputs": [
    {
     "data": {
      "text/plain": [
       "735"
      ]
     },
     "execution_count": 5,
     "metadata": {},
     "output_type": "execute_result"
    }
   ],
   "source": [
    "sum([i for i in range(100) if i%7==0])"
   ]
  },
  {
   "cell_type": "code",
   "execution_count": 12,
   "metadata": {},
   "outputs": [
    {
     "name": "stdout",
     "output_type": "stream",
     "text": [
      "735\n"
     ]
    }
   ],
   "source": [
    "sum_=0\n",
    "for i in range(100):\n",
    "    if i%7==0:\n",
    "        sum_ = sum_ + i\n",
    "    \n",
    "print sum_    "
   ]
  },
  {
   "cell_type": "markdown",
   "metadata": {},
   "source": [
    "<p><a name=\"error\"></a></p>\n",
    "# Errors and Exceptions\n",
    "\n",
    "- Exceptions are a language mechanism in Python (and many other languages) for handling unexpected and undesirable situations.  Typical examples are:\n",
    " - Opening a file that does not exist\n",
    " - Dividing by zero\n",
    "\n",
    "- The exception mechanism allows a program to handle such situations gracefully, without creating a lot of extra code.\n",
    "\n",
    "The mechanisms has two parts:  signal the exception; and catch the exception.\n",
    "- Signal an exception:\n",
    "```\n",
    "raise Exception\n",
    "```\n",
    "- Catch exception: `try`\n",
    "```\n",
    "try:\n",
    "        commands\n",
    "except Exception:\n",
    "        handle exception\n",
    "```\n",
    "\n",
    "Many predefined functions, or functions you import from modules, can throw exceptions.  For example, the function open below raise an error when a file indicated by filename does not exist.\n",
    "\n",
    "We focus on handling the error first:"
   ]
  },
  {
   "cell_type": "code",
   "execution_count": 35,
   "metadata": {},
   "outputs": [
    {
     "name": "stdout",
     "output_type": "stream",
     "text": [
      "Error: nonexistent.txt does not exist\n"
     ]
    }
   ],
   "source": [
    "def openfile(filename, mode):\n",
    "    try:\n",
    "        f = open(filename, mode)\n",
    "    except:\n",
    "        print 'Error:', filename, 'does not exist'\n",
    "        \n",
    "openfile('nonexistent.txt', 'r')"
   ]
  },
  {
   "cell_type": "markdown",
   "metadata": {},
   "source": [
    "<p><a name=\"built\"></a></p>\n",
    "## Built-in Exceptions\n",
    "\n",
    "The previous except clause - with no specific exception named - catches all exceptions. However, it is best to be specific about what exceptions you want to catch, so that you won’t respond inappropriately. \n",
    "\n",
    "For example, the problem of the code below is that we specify a mode that does not exist, but the error message we print out is not true -- `existent.txt` does exist."
   ]
  },
  {
   "cell_type": "code",
   "execution_count": 37,
   "metadata": {},
   "outputs": [
    {
     "name": "stdout",
     "output_type": "stream",
     "text": [
      "Error: loop.txt does not exist\n"
     ]
    }
   ],
   "source": [
    "def openfile(filename, mode):\n",
    "    try:\n",
    "        f = open(filename, mode)\n",
    "    except:\n",
    "        print 'Error:', filename, 'does not exist'\n",
    "        \n",
    "openfile('loop.txt', 'rawr')  # error is caught but the error message is wrong"
   ]
  },
  {
   "cell_type": "markdown",
   "metadata": {},
   "source": [
    "There are many different exceptions. Here are some of the most common:\n",
    "\n",
    "- Exception:  the most general exception.\n",
    "- TypeError:  the error when you give the wrong type to a function, e.g. `3 + []`\n",
    "- ValueError:  the exception when you give a bad value (of the correct type), e.g. `int('abc')`\n",
    "- IndexError:  when your list subscript is out of bounds, e.g. `[][0]`\n",
    "- IOError:  when you try to open a non-existent file.\n",
    "\n",
    "The complete list is here: https://docs.python.org/2/library/exceptions.html\n",
    "\n",
    "We can see the type of an error as below:"
   ]
  },
  {
   "cell_type": "code",
   "execution_count": 19,
   "metadata": {},
   "outputs": [
    {
     "name": "stdout",
     "output_type": "stream",
     "text": [
      "<type 'exceptions.IOError'>\n",
      "[Errno 2] No such file or directory: 'nonexistent.txt'\n",
      "<type 'exceptions.ValueError'>\n",
      "Invalid mode ('rawr')\n"
     ]
    }
   ],
   "source": [
    "def openfile(filename, mode):\n",
    "    try:\n",
    "        f = open(filename, mode)\n",
    "    except Exception as e:\n",
    "        print type(e)\n",
    "        print e\n",
    "        \n",
    "openfile('nonexistent.txt', 'r')\n",
    "openfile('loop.txt', 'rawr')"
   ]
  },
  {
   "cell_type": "markdown",
   "metadata": {},
   "source": [
    "To deal with errors differently, we may use multiple exceptions.\n",
    "\n",
    "The general form of the try statement, and the meaning of the various parts, is:\n",
    "\n",
    "```\n",
    "try:\n",
    "    statements\t\t\t# start by executing these\n",
    "except name:\n",
    "    statements\t\t\t# execute if exception “name” was raised\n",
    "...\n",
    "except:\n",
    "    statements\t\t\t# execute if an exception was raised that is not named above\n",
    "else:\n",
    "    statements\t\t\t# execute if no exception was raised\n",
    "finally:\n",
    "    statements\t\t\t# execute no matter what\n",
    "```\n",
    "\n",
    "For example:"
   ]
  },
  {
   "cell_type": "code",
   "execution_count": 20,
   "metadata": {
    "collapsed": true
   },
   "outputs": [],
   "source": [
    "def openfile(filename, mode):\n",
    "    try:\n",
    "        f = open(filename, mode)\n",
    "    except IOError:\n",
    "        print 'File doesn\\'t exist in this case.'\n",
    "    except ValueError:\n",
    "        print 'Likely to be wrong mode in this case.'\n",
    "    except:\n",
    "        print 'Some other error.'\n",
    "    else:\n",
    "        print 'No error'\n",
    "    finally:     # finally will ALWAYS run no matter what. It is always used in a Try block. \n",
    "        print 'Everybody should have this!'"
   ]
  },
  {
   "cell_type": "markdown",
   "metadata": {},
   "source": [
    "We test the code below:"
   ]
  },
  {
   "cell_type": "code",
   "execution_count": 21,
   "metadata": {},
   "outputs": [
    {
     "name": "stdout",
     "output_type": "stream",
     "text": [
      "openfile('nonexistent.txt', 'r')\n",
      "--------------------------------------------------\n",
      "File doesn't exist in this case.\n",
      "Everybody should have this!\n",
      "\n",
      "\n",
      "openfile('existent.txt', 'no_such_mode')\n",
      "--------------------------------------------------\n",
      "Likely to be wrong mode in this case.\n",
      "Everybody should have this!\n",
      "\n",
      "\n",
      "openfile('existent.txt', 123)\n",
      "--------------------------------------------------\n",
      "Some other error.\n",
      "Everybody should have this!\n",
      "\n",
      "\n",
      "openfile('existent.txt', 'r')\n",
      "--------------------------------------------------\n",
      "No error\n",
      "Everybody should have this!\n"
     ]
    }
   ],
   "source": [
    "print \"openfile('nonexistent.txt', 'r')\"\n",
    "print '-'*50\n",
    "openfile('nonexistent.txt', 'r')\n",
    "print '\\n'\n",
    "\n",
    "print \"openfile('existent.txt', 'no_such_mode')\"\n",
    "print '-'*50\n",
    "openfile('existent.txt', 'no_such_mode')\n",
    "print '\\n'\n",
    "\n",
    "print \"openfile('existent.txt', 123)\"\n",
    "print '-'*50\n",
    "openfile('existent.txt', 123)\n",
    "print '\\n'\n",
    "\n",
    "print \"openfile('existent.txt', 'r')\"\n",
    "print '-'*50\n",
    "openfile('existent.txt', 'r')"
   ]
  },
  {
   "cell_type": "markdown",
   "metadata": {},
   "source": [
    "<p><a name=\"handle\"></a></p>\n",
    "## Handling Exceptions"
   ]
  },
  {
   "cell_type": "markdown",
   "metadata": {},
   "source": [
    "What we have learned previously is trying to catch an error when you execute the code. However, sometimes we want to raise the error that won’t get triggered by the code itself, but it doesn’t fit into the context of your function. For example:"
   ]
  },
  {
   "cell_type": "code",
   "execution_count": 38,
   "metadata": {},
   "outputs": [],
   "source": [
    "def cal_volume(x,y,z):\n",
    "    if x <= 0 or y <= 0 or z <= 0:\n",
    "        raise ValueError('The value of each dimension should be greater than 0!')\n",
    "    else:\n",
    "        return x*y*z"
   ]
  },
  {
   "cell_type": "code",
   "execution_count": 39,
   "metadata": {},
   "outputs": [
    {
     "ename": "ValueError",
     "evalue": "The value of each dimension should be greater than 0!",
     "output_type": "error",
     "traceback": [
      "\u001b[1;31m---------------------------------------------------------------------------\u001b[0m",
      "\u001b[1;31mValueError\u001b[0m                                Traceback (most recent call last)",
      "\u001b[1;32m<ipython-input-39-5e9984fc21c7>\u001b[0m in \u001b[0;36m<module>\u001b[1;34m()\u001b[0m\n\u001b[1;32m----> 1\u001b[1;33m \u001b[0mcal_volume\u001b[0m\u001b[1;33m(\u001b[0m\u001b[1;33m-\u001b[0m\u001b[1;36m2\u001b[0m\u001b[1;33m,\u001b[0m \u001b[1;36m3\u001b[0m\u001b[1;33m,\u001b[0m \u001b[1;36m4\u001b[0m\u001b[1;33m)\u001b[0m\u001b[1;33m\u001b[0m\u001b[0m\n\u001b[0m",
      "\u001b[1;32m<ipython-input-38-54fc63b4be9f>\u001b[0m in \u001b[0;36mcal_volume\u001b[1;34m(x, y, z)\u001b[0m\n\u001b[0;32m      1\u001b[0m \u001b[1;32mdef\u001b[0m \u001b[0mcal_volume\u001b[0m\u001b[1;33m(\u001b[0m\u001b[0mx\u001b[0m\u001b[1;33m,\u001b[0m\u001b[0my\u001b[0m\u001b[1;33m,\u001b[0m\u001b[0mz\u001b[0m\u001b[1;33m)\u001b[0m\u001b[1;33m:\u001b[0m\u001b[1;33m\u001b[0m\u001b[0m\n\u001b[0;32m      2\u001b[0m     \u001b[1;32mif\u001b[0m \u001b[0mx\u001b[0m \u001b[1;33m<=\u001b[0m \u001b[1;36m0\u001b[0m \u001b[1;32mor\u001b[0m \u001b[0my\u001b[0m \u001b[1;33m<=\u001b[0m \u001b[1;36m0\u001b[0m \u001b[1;32mor\u001b[0m \u001b[0mz\u001b[0m \u001b[1;33m<=\u001b[0m \u001b[1;36m0\u001b[0m\u001b[1;33m:\u001b[0m\u001b[1;33m\u001b[0m\u001b[0m\n\u001b[1;32m----> 3\u001b[1;33m         \u001b[1;32mraise\u001b[0m \u001b[0mValueError\u001b[0m\u001b[1;33m(\u001b[0m\u001b[1;34m'The value of each dimension should be greater than 0!'\u001b[0m\u001b[1;33m)\u001b[0m\u001b[1;33m\u001b[0m\u001b[0m\n\u001b[0m\u001b[0;32m      4\u001b[0m     \u001b[1;32melse\u001b[0m\u001b[1;33m:\u001b[0m\u001b[1;33m\u001b[0m\u001b[0m\n\u001b[0;32m      5\u001b[0m         \u001b[1;32mreturn\u001b[0m \u001b[0mx\u001b[0m\u001b[1;33m*\u001b[0m\u001b[0my\u001b[0m\u001b[1;33m*\u001b[0m\u001b[0mz\u001b[0m\u001b[1;33m\u001b[0m\u001b[0m\n",
      "\u001b[1;31mValueError\u001b[0m: The value of each dimension should be greater than 0!"
     ]
    }
   ],
   "source": [
    "cal_volume(-2, 3, 4)"
   ]
  },
  {
   "cell_type": "code",
   "execution_count": 73,
   "metadata": {},
   "outputs": [
    {
     "name": "stdout",
     "output_type": "stream",
     "text": [
      "3\n",
      "3\n",
      "8\n",
      "arguments should be numbers or at least look like numbers\n"
     ]
    }
   ],
   "source": [
    "def myadd(x,y):\n",
    "    try:\n",
    "        return int(x)+int(y)\n",
    "    except ValueError:\n",
    "        return \"arguments should be numbers or at least look like numbers\"\n",
    "    except TypeError:\n",
    "        return \"arguments should be numbers or at least look like numbers\"\n",
    "        \n",
    "print myadd(1,2)\n",
    "print myadd(1,'2')\n",
    "print myadd('3','5')\n",
    "print myadd(1,'abc') "
   ]
  },
  {
   "cell_type": "code",
   "execution_count": null,
   "metadata": {
    "collapsed": true
   },
   "outputs": [],
   "source": [
    "#write a function that takes a value and determines if that value is a number or can be converted to a number:\n",
    "\n",
    "def is_number(s):\n",
    "    try:\n",
    "        float(s)\n",
    "        return True\n",
    "    except ValueError:\n",
    "        return False\n",
    "    "
   ]
  },
  {
   "cell_type": "markdown",
   "metadata": {},
   "source": [
    "<p><a name=\"quiz\"></a></p>\n",
    "# Quiz"
   ]
  },
  {
   "cell_type": "markdown",
   "metadata": {},
   "source": [
    "**Ex1** Given an int count of a number of donuts, return a string of the form 'Number of donuts: **count**', where **count** is the number passed in. However, if the count is 10 or more, then use the word 'many' instead of the actual count. \n",
    "\n",
    "So **ex_1(5)** returns 'Number of donuts: 5' and **ex_1(23)** returns 'Number of donuts: many'"
   ]
  },
  {
   "cell_type": "code",
   "execution_count": 26,
   "metadata": {},
   "outputs": [
    {
     "name": "stdout",
     "output_type": "stream",
     "text": [
      "Number of donuts: 2\n",
      "Number of donuts: many\n"
     ]
    }
   ],
   "source": [
    "def ex_1(count):\n",
    "    # Your code here\n",
    "    if count<10:\n",
    "        return 'Number of donuts: ' + str(count)\n",
    "    else:\n",
    "        return 'Number of donuts: many'\n",
    "    \n",
    "#test:\n",
    "print ex_1(2)\n",
    "print ex_1(20)\n"
   ]
  },
  {
   "cell_type": "markdown",
   "metadata": {},
   "source": [
    "**Ex2** Write a while loop that prints out a list containing first 5 numbers that are multiples of 9 from 1 to 100. (Hint: use break statement)\n",
    "\n",
    "The output should be `[9, 18, 27, 36, 45]`"
   ]
  },
  {
   "cell_type": "code",
   "execution_count": 36,
   "metadata": {},
   "outputs": [
    {
     "name": "stdout",
     "output_type": "stream",
     "text": [
      "[9, 18, 27, 36, 45]\n"
     ]
    }
   ],
   "source": [
    "# Your code here\n",
    "\n",
    "# without using break:\n",
    "\n",
    "i = 1\n",
    "L = []\n",
    "while len(L) < 5:\n",
    "    if i%9 == 0:\n",
    "        L.append(i)\n",
    "    i = i + 1\n",
    "    \n",
    "print L     "
   ]
  },
  {
   "cell_type": "code",
   "execution_count": 34,
   "metadata": {},
   "outputs": [
    {
     "name": "stdout",
     "output_type": "stream",
     "text": [
      "[9, 18, 27, 36, 45]\n"
     ]
    }
   ],
   "source": [
    "# using break:\n",
    "\n",
    "i = 1\n",
    "L = []\n",
    "while True:\n",
    "    if len(L) >= 5:\n",
    "        break\n",
    "    if i%9 == 0:\n",
    "        L.append(i)\n",
    "    i = i +1\n",
    "    \n",
    "print L    "
   ]
  },
  {
   "cell_type": "markdown",
   "metadata": {},
   "source": [
    "**Ex3** Write a function **ex_3** which prints out a string that containing all the letters in given string except the letter ‘a’. You can use either for loop or while loop here.\n",
    "```\n",
    "m = 'dklsliandlvidaeaakdls'\n",
    "ex_3(m)\n",
    "dklslindlvidekdls\n",
    "```"
   ]
  },
  {
   "cell_type": "code",
   "execution_count": 37,
   "metadata": {},
   "outputs": [
    {
     "data": {
      "text/plain": [
       "'dklslindlvidekdls'"
      ]
     },
     "execution_count": 37,
     "metadata": {},
     "output_type": "execute_result"
    }
   ],
   "source": [
    "def ex_3(words):\n",
    "    output=''\n",
    "    for i in words:\n",
    "        if i != 'a':\n",
    "            output = output + i\n",
    "    return output\n",
    "    \n",
    "    \n",
    "    \n",
    "m = 'dklsliandlvidaeaakdls'\n",
    "ex_3(m)\n",
    "    "
   ]
  },
  {
   "cell_type": "markdown",
   "metadata": {},
   "source": [
    "**Ex4** Write a function called ex_4 that will calculates the quotient of a and b. For different kind of exception, it should print out the specific log message. For example:\n",
    "\n",
    "```\n",
    "ex_4(4,2)\n",
    "2\n",
    "ex_4(4,’x’)\n",
    "Inputs must be numbers\n",
    "ex_4(4,0)\n",
    "Denominator cannot be 0\n",
    "```"
   ]
  },
  {
   "cell_type": "code",
   "execution_count": 84,
   "metadata": {},
   "outputs": [
    {
     "name": "stdout",
     "output_type": "stream",
     "text": [
      "Inputs must be numbers\n"
     ]
    }
   ],
   "source": [
    "def ex_4(a,b):\n",
    "    try:\n",
    "        return int(a)/int(b)\n",
    "    except ZeroDivisionError:\n",
    "        print 'Denominator cannot be 0'\n",
    "    except TypeError:\n",
    "        print 'Inputs must be numbers'\n",
    "    except ValueError:\n",
    "        print 'Inputs must be numbers'\n",
    "        \n",
    "\n",
    "#ex_4(8,0)\n",
    "#ex_4('49','7')\n",
    "#ex_4(18,2)\n",
    "ex_4(16,'a')\n",
    "        \n",
    "      \n",
    "        "
   ]
  },
  {
   "cell_type": "code",
   "execution_count": null,
   "metadata": {
    "collapsed": true
   },
   "outputs": [],
   "source": []
  }
 ],
 "metadata": {
  "anaconda-cloud": {},
  "kernelspec": {
   "display_name": "Python 2",
   "language": "python",
   "name": "python2"
  },
  "language_info": {
   "codemirror_mode": {
    "name": "ipython",
    "version": 2
   },
   "file_extension": ".py",
   "mimetype": "text/x-python",
   "name": "python",
   "nbconvert_exporter": "python",
   "pygments_lexer": "ipython2",
   "version": "2.7.15"
  }
 },
 "nbformat": 4,
 "nbformat_minor": 1
}
